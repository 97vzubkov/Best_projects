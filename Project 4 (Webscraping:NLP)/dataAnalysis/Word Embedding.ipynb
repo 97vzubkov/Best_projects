{
 "cells": [
  {
   "cell_type": "code",
   "execution_count": 1,
   "metadata": {
    "ExecuteTime": {
     "end_time": "2020-08-11T13:48:25.488131Z",
     "start_time": "2020-08-11T13:48:25.484118Z"
    }
   },
   "outputs": [],
   "source": [
    "import pickle"
   ]
  },
  {
   "cell_type": "code",
   "execution_count": 2,
   "metadata": {
    "ExecuteTime": {
     "end_time": "2020-08-11T13:48:26.407626Z",
     "start_time": "2020-08-11T13:48:26.402613Z"
    }
   },
   "outputs": [],
   "source": [
    "import os"
   ]
  },
  {
   "cell_type": "code",
   "execution_count": 3,
   "metadata": {
    "ExecuteTime": {
     "end_time": "2020-08-11T13:48:27.893067Z",
     "start_time": "2020-08-11T13:48:27.888052Z"
    }
   },
   "outputs": [],
   "source": [
    "CWD=os.getcwd()\n",
    "FOLDER='New Twitter data'"
   ]
  },
  {
   "cell_type": "code",
   "execution_count": 4,
   "metadata": {
    "ExecuteTime": {
     "end_time": "2020-08-11T13:48:31.490271Z",
     "start_time": "2020-08-11T13:48:29.906129Z"
    }
   },
   "outputs": [],
   "source": [
    "df = pickle.load(open( os.path.join(CWD,FOLDER,'Twitter_Phrases.pkl'), \"rb\" ) )"
   ]
  },
  {
   "cell_type": "code",
   "execution_count": 5,
   "metadata": {
    "ExecuteTime": {
     "end_time": "2020-08-11T13:48:35.289679Z",
     "start_time": "2020-08-11T13:48:35.227730Z"
    }
   },
   "outputs": [
    {
     "data": {
      "text/html": [
       "<div>\n",
       "<style scoped>\n",
       "    .dataframe tbody tr th:only-of-type {\n",
       "        vertical-align: middle;\n",
       "    }\n",
       "\n",
       "    .dataframe tbody tr th {\n",
       "        vertical-align: top;\n",
       "    }\n",
       "\n",
       "    .dataframe thead th {\n",
       "        text-align: right;\n",
       "    }\n",
       "</style>\n",
       "<table border=\"1\" class=\"dataframe\">\n",
       "  <thead>\n",
       "    <tr style=\"text-align: right;\">\n",
       "      <th></th>\n",
       "      <th>tweet</th>\n",
       "      <th>label</th>\n",
       "      <th>year</th>\n",
       "      <th>original</th>\n",
       "      <th>docs_phrases</th>\n",
       "      <th>Dominant</th>\n",
       "    </tr>\n",
       "  </thead>\n",
       "  <tbody>\n",
       "    <tr>\n",
       "      <td>0</td>\n",
       "      <td>perfect owners</td>\n",
       "      <td>Electric</td>\n",
       "      <td>2015</td>\n",
       "      <td>#MyFord #Mobile Is a #SmartWatch #App Perfect ...</td>\n",
       "      <td>[perfect, owner]</td>\n",
       "      <td>Topic 6</td>\n",
       "    </tr>\n",
       "    <tr>\n",
       "      <td>1</td>\n",
       "      <td>exclusive video gms path plans highlights</td>\n",
       "      <td>Electric</td>\n",
       "      <td>2015</td>\n",
       "      <td>#solar Exclusive Video On GM’s Electric Vehicl...</td>\n",
       "      <td>[exclusive, video, gms, path, plan, highlight]</td>\n",
       "      <td>Topic 5</td>\n",
       "    </tr>\n",
       "    <tr>\n",
       "      <td>2</td>\n",
       "      <td>hong kong announcement worlds biggest rally su...</td>\n",
       "      <td>Electric</td>\n",
       "      <td>2015</td>\n",
       "      <td>@harbourtimes Hong Kong announcement - 2016 wo...</td>\n",
       "      <td>[hong, kong, announcement, world_big, rally, s...</td>\n",
       "      <td>Topic 5</td>\n",
       "    </tr>\n",
       "    <tr>\n",
       "      <td>3</td>\n",
       "      <td>exclusive video gms path plans highlights</td>\n",
       "      <td>Electric</td>\n",
       "      <td>2015</td>\n",
       "      <td>Exclusive Video On GM’s Electric Vehicle Path,...</td>\n",
       "      <td>[exclusive, video, gms, path, plan, highlight]</td>\n",
       "      <td>Topic 5</td>\n",
       "    </tr>\n",
       "    <tr>\n",
       "      <td>4</td>\n",
       "      <td>exclusive video gms path plans highlights orig...</td>\n",
       "      <td>Electric</td>\n",
       "      <td>2015</td>\n",
       "      <td>Exclusive Video On GM’s Electric Vehicle Path,...</td>\n",
       "      <td>[exclusive, video, gms, path, plan, highlight,...</td>\n",
       "      <td>Topic 5</td>\n",
       "    </tr>\n",
       "    <tr>\n",
       "      <td>...</td>\n",
       "      <td>...</td>\n",
       "      <td>...</td>\n",
       "      <td>...</td>\n",
       "      <td>...</td>\n",
       "      <td>...</td>\n",
       "      <td>...</td>\n",
       "    </tr>\n",
       "    <tr>\n",
       "      <td>99480</td>\n",
       "      <td>projected barrel oil electrichybrid makers com...</td>\n",
       "      <td>Hybrid</td>\n",
       "      <td>2015</td>\n",
       "      <td>Projected $40/Barrel Oil in 2015. How are elec...</td>\n",
       "      <td>[project, barrel, oil, maker, communicate, ben...</td>\n",
       "      <td>Topic 2</td>\n",
       "    </tr>\n",
       "    <tr>\n",
       "      <td>99481</td>\n",
       "      <td>affordable also fuel efficient c epaestimated mpg</td>\n",
       "      <td>Hybrid</td>\n",
       "      <td>2015</td>\n",
       "      <td>Toyota's most affordable hybrid vehicle is als...</td>\n",
       "      <td>[affordable, fuel, efficient, mpg]</td>\n",
       "      <td>Topic 6</td>\n",
       "    </tr>\n",
       "    <tr>\n",
       "      <td>99482</td>\n",
       "      <td>affordable also fuel efficient c epaestimated mpg</td>\n",
       "      <td>Hybrid</td>\n",
       "      <td>2015</td>\n",
       "      <td>Toyota's most affordable hybrid vehicle is als...</td>\n",
       "      <td>[affordable, fuel, efficient, mpg]</td>\n",
       "      <td>Topic 6</td>\n",
       "    </tr>\n",
       "    <tr>\n",
       "      <td>99483</td>\n",
       "      <td>kick models technology including mondeo</td>\n",
       "      <td>Hybrid</td>\n",
       "      <td>2015</td>\n",
       "      <td>To kick off 2015, we're looking at all the new...</td>\n",
       "      <td>[kick, model, technology, include, mondeo]</td>\n",
       "      <td>Topic 1</td>\n",
       "    </tr>\n",
       "    <tr>\n",
       "      <td>99484</td>\n",
       "      <td>im put key ignition say im turn</td>\n",
       "      <td>Hybrid</td>\n",
       "      <td>2015</td>\n",
       "      <td>For 2015 I'm going to put a key into the ignit...</td>\n",
       "      <td>[be, key, ignition, be, turn]</td>\n",
       "      <td>Topic 7</td>\n",
       "    </tr>\n",
       "  </tbody>\n",
       "</table>\n",
       "<p>99485 rows × 6 columns</p>\n",
       "</div>"
      ],
      "text/plain": [
       "                                                   tweet     label  year  \\\n",
       "0                                         perfect owners  Electric  2015   \n",
       "1              exclusive video gms path plans highlights  Electric  2015   \n",
       "2      hong kong announcement worlds biggest rally su...  Electric  2015   \n",
       "3              exclusive video gms path plans highlights  Electric  2015   \n",
       "4      exclusive video gms path plans highlights orig...  Electric  2015   \n",
       "...                                                  ...       ...   ...   \n",
       "99480  projected barrel oil electrichybrid makers com...    Hybrid  2015   \n",
       "99481  affordable also fuel efficient c epaestimated mpg    Hybrid  2015   \n",
       "99482  affordable also fuel efficient c epaestimated mpg    Hybrid  2015   \n",
       "99483            kick models technology including mondeo    Hybrid  2015   \n",
       "99484                    im put key ignition say im turn    Hybrid  2015   \n",
       "\n",
       "                                                original  \\\n",
       "0      #MyFord #Mobile Is a #SmartWatch #App Perfect ...   \n",
       "1      #solar Exclusive Video On GM’s Electric Vehicl...   \n",
       "2      @harbourtimes Hong Kong announcement - 2016 wo...   \n",
       "3      Exclusive Video On GM’s Electric Vehicle Path,...   \n",
       "4      Exclusive Video On GM’s Electric Vehicle Path,...   \n",
       "...                                                  ...   \n",
       "99480  Projected $40/Barrel Oil in 2015. How are elec...   \n",
       "99481  Toyota's most affordable hybrid vehicle is als...   \n",
       "99482  Toyota's most affordable hybrid vehicle is als...   \n",
       "99483  To kick off 2015, we're looking at all the new...   \n",
       "99484  For 2015 I'm going to put a key into the ignit...   \n",
       "\n",
       "                                            docs_phrases Dominant  \n",
       "0                                       [perfect, owner]  Topic 6  \n",
       "1         [exclusive, video, gms, path, plan, highlight]  Topic 5  \n",
       "2      [hong, kong, announcement, world_big, rally, s...  Topic 5  \n",
       "3         [exclusive, video, gms, path, plan, highlight]  Topic 5  \n",
       "4      [exclusive, video, gms, path, plan, highlight,...  Topic 5  \n",
       "...                                                  ...      ...  \n",
       "99480  [project, barrel, oil, maker, communicate, ben...  Topic 2  \n",
       "99481                 [affordable, fuel, efficient, mpg]  Topic 6  \n",
       "99482                 [affordable, fuel, efficient, mpg]  Topic 6  \n",
       "99483         [kick, model, technology, include, mondeo]  Topic 1  \n",
       "99484                      [be, key, ignition, be, turn]  Topic 7  \n",
       "\n",
       "[99485 rows x 6 columns]"
      ]
     },
     "execution_count": 5,
     "metadata": {},
     "output_type": "execute_result"
    }
   ],
   "source": [
    "df"
   ]
  },
  {
   "cell_type": "code",
   "execution_count": 7,
   "metadata": {
    "ExecuteTime": {
     "end_time": "2020-08-11T14:05:13.701392Z",
     "start_time": "2020-08-11T14:05:13.679403Z"
    }
   },
   "outputs": [],
   "source": [
    "df['tweet']=df['original']"
   ]
  },
  {
   "cell_type": "code",
   "execution_count": 9,
   "metadata": {
    "ExecuteTime": {
     "end_time": "2020-08-11T14:07:15.471586Z",
     "start_time": "2020-08-11T14:07:15.364656Z"
    }
   },
   "outputs": [],
   "source": [
    "df.drop(['docs_phrases'], axis=1, inplace=True)"
   ]
  },
  {
   "cell_type": "markdown",
   "metadata": {},
   "source": [
    "# data pre-processing"
   ]
  },
  {
   "cell_type": "code",
   "execution_count": 11,
   "metadata": {
    "ExecuteTime": {
     "end_time": "2020-08-11T14:08:27.286815Z",
     "start_time": "2020-08-11T14:08:26.933994Z"
    }
   },
   "outputs": [],
   "source": [
    "# remove hashtag and username\n",
    "df.loc[:, 'tweet'] = df['tweet'].str.replace('#[^\\s]+', '')\n",
    "df.loc[:, 'tweet'] = df['tweet'].str.replace('@[^\\s]+', '')"
   ]
  },
  {
   "cell_type": "code",
   "execution_count": 12,
   "metadata": {
    "ExecuteTime": {
     "end_time": "2020-08-11T14:08:49.543900Z",
     "start_time": "2020-08-11T14:08:48.545419Z"
    }
   },
   "outputs": [],
   "source": [
    "# remove returns\n",
    "df.loc[:, 'tweet'] = df['tweet'].str.replace('\\n', '')\n",
    "\n",
    "# remove urls\n",
    "df.loc[:, 'tweet'] = df['tweet'].str.replace(r\"http\\S+\", '')\n",
    "df.loc[:, 'tweet'] = df['tweet'].str.replace(r\"[-a-zA-Z0–9@:%._\\+~#=]{2,256}\\.[a-z]{2,6}\\b([-a-zA-Z0–9@:%_\\+.~#?&//=]*)\", '')"
   ]
  },
  {
   "cell_type": "code",
   "execution_count": 14,
   "metadata": {
    "ExecuteTime": {
     "end_time": "2020-08-11T14:09:35.119932Z",
     "start_time": "2020-08-11T14:09:35.046903Z"
    }
   },
   "outputs": [],
   "source": [
    "df.dropna(inplace=True)"
   ]
  },
  {
   "cell_type": "code",
   "execution_count": 15,
   "metadata": {
    "ExecuteTime": {
     "end_time": "2020-08-11T14:09:41.847032Z",
     "start_time": "2020-08-11T14:09:41.821045Z"
    }
   },
   "outputs": [
    {
     "data": {
      "text/html": [
       "<div>\n",
       "<style scoped>\n",
       "    .dataframe tbody tr th:only-of-type {\n",
       "        vertical-align: middle;\n",
       "    }\n",
       "\n",
       "    .dataframe tbody tr th {\n",
       "        vertical-align: top;\n",
       "    }\n",
       "\n",
       "    .dataframe thead th {\n",
       "        text-align: right;\n",
       "    }\n",
       "</style>\n",
       "<table border=\"1\" class=\"dataframe\">\n",
       "  <thead>\n",
       "    <tr style=\"text-align: right;\">\n",
       "      <th></th>\n",
       "      <th>tweet</th>\n",
       "      <th>label</th>\n",
       "      <th>year</th>\n",
       "      <th>original</th>\n",
       "      <th>Dominant</th>\n",
       "    </tr>\n",
       "  </thead>\n",
       "  <tbody>\n",
       "    <tr>\n",
       "      <td>0</td>\n",
       "      <td>Is a   Perfect for Electric Vehicle Owners  ...</td>\n",
       "      <td>Electric</td>\n",
       "      <td>2015</td>\n",
       "      <td>#MyFord #Mobile Is a #SmartWatch #App Perfect ...</td>\n",
       "      <td>Topic 6</td>\n",
       "    </tr>\n",
       "    <tr>\n",
       "      <td>1</td>\n",
       "      <td>Exclusive Video On GM’s Electric Vehicle Path...</td>\n",
       "      <td>Electric</td>\n",
       "      <td>2015</td>\n",
       "      <td>#solar Exclusive Video On GM’s Electric Vehicl...</td>\n",
       "      <td>Topic 5</td>\n",
       "    </tr>\n",
       "    <tr>\n",
       "      <td>2</td>\n",
       "      <td>Hong Kong announcement - 2016 world’s biggest...</td>\n",
       "      <td>Electric</td>\n",
       "      <td>2015</td>\n",
       "      <td>@harbourtimes Hong Kong announcement - 2016 wo...</td>\n",
       "      <td>Topic 5</td>\n",
       "    </tr>\n",
       "    <tr>\n",
       "      <td>3</td>\n",
       "      <td>Exclusive Video On GM’s Electric Vehicle Path,...</td>\n",
       "      <td>Electric</td>\n",
       "      <td>2015</td>\n",
       "      <td>Exclusive Video On GM’s Electric Vehicle Path,...</td>\n",
       "      <td>Topic 5</td>\n",
       "    </tr>\n",
       "    <tr>\n",
       "      <td>4</td>\n",
       "      <td>Exclusive Video On GM’s Electric Vehicle Path,...</td>\n",
       "      <td>Electric</td>\n",
       "      <td>2015</td>\n",
       "      <td>Exclusive Video On GM’s Electric Vehicle Path,...</td>\n",
       "      <td>Topic 5</td>\n",
       "    </tr>\n",
       "    <tr>\n",
       "      <td>...</td>\n",
       "      <td>...</td>\n",
       "      <td>...</td>\n",
       "      <td>...</td>\n",
       "      <td>...</td>\n",
       "      <td>...</td>\n",
       "    </tr>\n",
       "    <tr>\n",
       "      <td>99480</td>\n",
       "      <td>Projected $40/Barrel Oil in 2015. How are elec...</td>\n",
       "      <td>Hybrid</td>\n",
       "      <td>2015</td>\n",
       "      <td>Projected $40/Barrel Oil in 2015. How are elec...</td>\n",
       "      <td>Topic 2</td>\n",
       "    </tr>\n",
       "    <tr>\n",
       "      <td>99481</td>\n",
       "      <td>Toyota's most affordable hybrid vehicle is als...</td>\n",
       "      <td>Hybrid</td>\n",
       "      <td>2015</td>\n",
       "      <td>Toyota's most affordable hybrid vehicle is als...</td>\n",
       "      <td>Topic 6</td>\n",
       "    </tr>\n",
       "    <tr>\n",
       "      <td>99482</td>\n",
       "      <td>Toyota's most affordable hybrid vehicle is als...</td>\n",
       "      <td>Hybrid</td>\n",
       "      <td>2015</td>\n",
       "      <td>Toyota's most affordable hybrid vehicle is als...</td>\n",
       "      <td>Topic 6</td>\n",
       "    </tr>\n",
       "    <tr>\n",
       "      <td>99483</td>\n",
       "      <td>To kick off 2015, we're looking at all the new...</td>\n",
       "      <td>Hybrid</td>\n",
       "      <td>2015</td>\n",
       "      <td>To kick off 2015, we're looking at all the new...</td>\n",
       "      <td>Topic 1</td>\n",
       "    </tr>\n",
       "    <tr>\n",
       "      <td>99484</td>\n",
       "      <td>For 2015 I'm going to put a key into the ignit...</td>\n",
       "      <td>Hybrid</td>\n",
       "      <td>2015</td>\n",
       "      <td>For 2015 I'm going to put a key into the ignit...</td>\n",
       "      <td>Topic 7</td>\n",
       "    </tr>\n",
       "  </tbody>\n",
       "</table>\n",
       "<p>99485 rows × 5 columns</p>\n",
       "</div>"
      ],
      "text/plain": [
       "                                                   tweet     label  year  \\\n",
       "0        Is a   Perfect for Electric Vehicle Owners  ...  Electric  2015   \n",
       "1       Exclusive Video On GM’s Electric Vehicle Path...  Electric  2015   \n",
       "2       Hong Kong announcement - 2016 world’s biggest...  Electric  2015   \n",
       "3      Exclusive Video On GM’s Electric Vehicle Path,...  Electric  2015   \n",
       "4      Exclusive Video On GM’s Electric Vehicle Path,...  Electric  2015   \n",
       "...                                                  ...       ...   ...   \n",
       "99480  Projected $40/Barrel Oil in 2015. How are elec...    Hybrid  2015   \n",
       "99481  Toyota's most affordable hybrid vehicle is als...    Hybrid  2015   \n",
       "99482  Toyota's most affordable hybrid vehicle is als...    Hybrid  2015   \n",
       "99483  To kick off 2015, we're looking at all the new...    Hybrid  2015   \n",
       "99484  For 2015 I'm going to put a key into the ignit...    Hybrid  2015   \n",
       "\n",
       "                                                original Dominant  \n",
       "0      #MyFord #Mobile Is a #SmartWatch #App Perfect ...  Topic 6  \n",
       "1      #solar Exclusive Video On GM’s Electric Vehicl...  Topic 5  \n",
       "2      @harbourtimes Hong Kong announcement - 2016 wo...  Topic 5  \n",
       "3      Exclusive Video On GM’s Electric Vehicle Path,...  Topic 5  \n",
       "4      Exclusive Video On GM’s Electric Vehicle Path,...  Topic 5  \n",
       "...                                                  ...      ...  \n",
       "99480  Projected $40/Barrel Oil in 2015. How are elec...  Topic 2  \n",
       "99481  Toyota's most affordable hybrid vehicle is als...  Topic 6  \n",
       "99482  Toyota's most affordable hybrid vehicle is als...  Topic 6  \n",
       "99483  To kick off 2015, we're looking at all the new...  Topic 1  \n",
       "99484  For 2015 I'm going to put a key into the ignit...  Topic 7  \n",
       "\n",
       "[99485 rows x 5 columns]"
      ]
     },
     "execution_count": 15,
     "metadata": {},
     "output_type": "execute_result"
    }
   ],
   "source": [
    "df"
   ]
  },
  {
   "cell_type": "markdown",
   "metadata": {},
   "source": [
    "# setup"
   ]
  },
  {
   "cell_type": "code",
   "execution_count": 16,
   "metadata": {
    "ExecuteTime": {
     "end_time": "2020-08-11T14:10:14.812563Z",
     "start_time": "2020-08-11T14:10:13.196453Z"
    }
   },
   "outputs": [],
   "source": [
    "# utilities\n",
    "from time import time\n",
    "from collections import defaultdict\n",
    "import re\n",
    "import logging\n",
    "logging.basicConfig(format=\"%(levelname)s - %(asctime)s: %(message)s\",\n",
    "                    datefmt= '%H:%M:%S', level=logging.INFO)\n",
    "# nlp pipeline\n",
    "import spacy"
   ]
  },
  {
   "cell_type": "code",
   "execution_count": 17,
   "metadata": {
    "ExecuteTime": {
     "end_time": "2020-08-11T14:12:01.642350Z",
     "start_time": "2020-08-11T14:12:00.606893Z"
    }
   },
   "outputs": [],
   "source": [
    "def cleaning(_string):\n",
    "    '''\n",
    "    : argument: string\n",
    "    : return  : string\n",
    "    '''\n",
    "    # purge non alpha characters\n",
    "    alpha = re.sub(\"[^A-Za-z']+\", ' ', str(_string))\n",
    "    return alpha.lower()\n",
    "\n",
    "                   \n",
    "# --+ get clean text\n",
    "docs = [cleaning(item) for item in df.tweet.values]"
   ]
  },
  {
   "cell_type": "code",
   "execution_count": 50,
   "metadata": {
    "ExecuteTime": {
     "end_time": "2020-08-11T15:03:53.407345Z",
     "start_time": "2020-08-11T15:03:53.355375Z"
    }
   },
   "outputs": [
    {
     "data": {
      "text/html": [
       "<div>\n",
       "<style scoped>\n",
       "    .dataframe tbody tr th:only-of-type {\n",
       "        vertical-align: middle;\n",
       "    }\n",
       "\n",
       "    .dataframe tbody tr th {\n",
       "        vertical-align: top;\n",
       "    }\n",
       "\n",
       "    .dataframe thead th {\n",
       "        text-align: right;\n",
       "    }\n",
       "</style>\n",
       "<table border=\"1\" class=\"dataframe\">\n",
       "  <thead>\n",
       "    <tr style=\"text-align: right;\">\n",
       "      <th></th>\n",
       "      <th>tweet</th>\n",
       "      <th>label</th>\n",
       "      <th>year</th>\n",
       "      <th>original</th>\n",
       "      <th>Dominant</th>\n",
       "      <th>tkn_text</th>\n",
       "      <th>phrased_text</th>\n",
       "    </tr>\n",
       "  </thead>\n",
       "  <tbody>\n",
       "    <tr>\n",
       "      <td>0</td>\n",
       "      <td>Is a   Perfect for Electric Vehicle Owners  ...</td>\n",
       "      <td>Electric</td>\n",
       "      <td>2015</td>\n",
       "      <td>#MyFord #Mobile Is a #SmartWatch #App Perfect ...</td>\n",
       "      <td>Topic 6</td>\n",
       "      <td>[perfect, electric, vehicle, owner]</td>\n",
       "      <td>[perfect, electric, vehicle, owner]</td>\n",
       "    </tr>\n",
       "    <tr>\n",
       "      <td>1</td>\n",
       "      <td>Exclusive Video On GM’s Electric Vehicle Path...</td>\n",
       "      <td>Electric</td>\n",
       "      <td>2015</td>\n",
       "      <td>#solar Exclusive Video On GM’s Electric Vehicl...</td>\n",
       "      <td>Topic 5</td>\n",
       "      <td>[exclusive, video, gm, electric, vehicle, path...</td>\n",
       "      <td>[exclusive, video, gm, electric, vehicle, path...</td>\n",
       "    </tr>\n",
       "    <tr>\n",
       "      <td>2</td>\n",
       "      <td>Hong Kong announcement - 2016 world’s biggest...</td>\n",
       "      <td>Electric</td>\n",
       "      <td>2015</td>\n",
       "      <td>@harbourtimes Hong Kong announcement - 2016 wo...</td>\n",
       "      <td>Topic 5</td>\n",
       "      <td>[hong, kong, announcement, world, big, electri...</td>\n",
       "      <td>[hong, kong, announcement, world, big, electri...</td>\n",
       "    </tr>\n",
       "    <tr>\n",
       "      <td>3</td>\n",
       "      <td>Exclusive Video On GM’s Electric Vehicle Path,...</td>\n",
       "      <td>Electric</td>\n",
       "      <td>2015</td>\n",
       "      <td>Exclusive Video On GM’s Electric Vehicle Path,...</td>\n",
       "      <td>Topic 5</td>\n",
       "      <td>[exclusive, video, gm, electric, vehicle, path...</td>\n",
       "      <td>[exclusive, video, gm, electric, vehicle, path...</td>\n",
       "    </tr>\n",
       "    <tr>\n",
       "      <td>4</td>\n",
       "      <td>Exclusive Video On GM’s Electric Vehicle Path,...</td>\n",
       "      <td>Electric</td>\n",
       "      <td>2015</td>\n",
       "      <td>Exclusive Video On GM’s Electric Vehicle Path,...</td>\n",
       "      <td>Topic 5</td>\n",
       "      <td>[exclusive, video, gm, electric, vehicle, path...</td>\n",
       "      <td>[exclusive, video, gm, electric, vehicle, path...</td>\n",
       "    </tr>\n",
       "    <tr>\n",
       "      <td>...</td>\n",
       "      <td>...</td>\n",
       "      <td>...</td>\n",
       "      <td>...</td>\n",
       "      <td>...</td>\n",
       "      <td>...</td>\n",
       "      <td>...</td>\n",
       "      <td>...</td>\n",
       "    </tr>\n",
       "    <tr>\n",
       "      <td>99480</td>\n",
       "      <td>Projected $40/Barrel Oil in 2015. How are elec...</td>\n",
       "      <td>Hybrid</td>\n",
       "      <td>2015</td>\n",
       "      <td>Projected $40/Barrel Oil in 2015. How are elec...</td>\n",
       "      <td>Topic 2</td>\n",
       "      <td>[project, barrel, oil, electric, hybrid, vehic...</td>\n",
       "      <td>[project, barrel, oil, electric, hybrid, vehic...</td>\n",
       "    </tr>\n",
       "    <tr>\n",
       "      <td>99481</td>\n",
       "      <td>Toyota's most affordable hybrid vehicle is als...</td>\n",
       "      <td>Hybrid</td>\n",
       "      <td>2015</td>\n",
       "      <td>Toyota's most affordable hybrid vehicle is als...</td>\n",
       "      <td>Topic 6</td>\n",
       "      <td>[toyota, affordable, hybrid, vehicle, fuel, ef...</td>\n",
       "      <td>[toyota, affordable, hybrid, vehicle, fuel_eff...</td>\n",
       "    </tr>\n",
       "    <tr>\n",
       "      <td>99482</td>\n",
       "      <td>Toyota's most affordable hybrid vehicle is als...</td>\n",
       "      <td>Hybrid</td>\n",
       "      <td>2015</td>\n",
       "      <td>Toyota's most affordable hybrid vehicle is als...</td>\n",
       "      <td>Topic 6</td>\n",
       "      <td>[toyota, affordable, hybrid, vehicle, fuel, ef...</td>\n",
       "      <td>[toyota, affordable, hybrid, vehicle, fuel_eff...</td>\n",
       "    </tr>\n",
       "    <tr>\n",
       "      <td>99483</td>\n",
       "      <td>To kick off 2015, we're looking at all the new...</td>\n",
       "      <td>Hybrid</td>\n",
       "      <td>2015</td>\n",
       "      <td>To kick off 2015, we're looking at all the new...</td>\n",
       "      <td>Topic 1</td>\n",
       "      <td>[kick, look, new, model, ford, technology, inc...</td>\n",
       "      <td>[kick, look, new, model, ford, technology, inc...</td>\n",
       "    </tr>\n",
       "    <tr>\n",
       "      <td>99484</td>\n",
       "      <td>For 2015 I'm going to put a key into the ignit...</td>\n",
       "      <td>Hybrid</td>\n",
       "      <td>2015</td>\n",
       "      <td>For 2015 I'm going to put a key into the ignit...</td>\n",
       "      <td>Topic 7</td>\n",
       "      <td>[go, key, ignition, nissan, hybrid, go, turn, ...</td>\n",
       "      <td>[go, key, ignition, nissan, hybrid, go, turn, ...</td>\n",
       "    </tr>\n",
       "  </tbody>\n",
       "</table>\n",
       "<p>99485 rows × 7 columns</p>\n",
       "</div>"
      ],
      "text/plain": [
       "                                                   tweet     label  year  \\\n",
       "0        Is a   Perfect for Electric Vehicle Owners  ...  Electric  2015   \n",
       "1       Exclusive Video On GM’s Electric Vehicle Path...  Electric  2015   \n",
       "2       Hong Kong announcement - 2016 world’s biggest...  Electric  2015   \n",
       "3      Exclusive Video On GM’s Electric Vehicle Path,...  Electric  2015   \n",
       "4      Exclusive Video On GM’s Electric Vehicle Path,...  Electric  2015   \n",
       "...                                                  ...       ...   ...   \n",
       "99480  Projected $40/Barrel Oil in 2015. How are elec...    Hybrid  2015   \n",
       "99481  Toyota's most affordable hybrid vehicle is als...    Hybrid  2015   \n",
       "99482  Toyota's most affordable hybrid vehicle is als...    Hybrid  2015   \n",
       "99483  To kick off 2015, we're looking at all the new...    Hybrid  2015   \n",
       "99484  For 2015 I'm going to put a key into the ignit...    Hybrid  2015   \n",
       "\n",
       "                                                original Dominant  \\\n",
       "0      #MyFord #Mobile Is a #SmartWatch #App Perfect ...  Topic 6   \n",
       "1      #solar Exclusive Video On GM’s Electric Vehicl...  Topic 5   \n",
       "2      @harbourtimes Hong Kong announcement - 2016 wo...  Topic 5   \n",
       "3      Exclusive Video On GM’s Electric Vehicle Path,...  Topic 5   \n",
       "4      Exclusive Video On GM’s Electric Vehicle Path,...  Topic 5   \n",
       "...                                                  ...      ...   \n",
       "99480  Projected $40/Barrel Oil in 2015. How are elec...  Topic 2   \n",
       "99481  Toyota's most affordable hybrid vehicle is als...  Topic 6   \n",
       "99482  Toyota's most affordable hybrid vehicle is als...  Topic 6   \n",
       "99483  To kick off 2015, we're looking at all the new...  Topic 1   \n",
       "99484  For 2015 I'm going to put a key into the ignit...  Topic 7   \n",
       "\n",
       "                                                tkn_text  \\\n",
       "0                    [perfect, electric, vehicle, owner]   \n",
       "1      [exclusive, video, gm, electric, vehicle, path...   \n",
       "2      [hong, kong, announcement, world, big, electri...   \n",
       "3      [exclusive, video, gm, electric, vehicle, path...   \n",
       "4      [exclusive, video, gm, electric, vehicle, path...   \n",
       "...                                                  ...   \n",
       "99480  [project, barrel, oil, electric, hybrid, vehic...   \n",
       "99481  [toyota, affordable, hybrid, vehicle, fuel, ef...   \n",
       "99482  [toyota, affordable, hybrid, vehicle, fuel, ef...   \n",
       "99483  [kick, look, new, model, ford, technology, inc...   \n",
       "99484  [go, key, ignition, nissan, hybrid, go, turn, ...   \n",
       "\n",
       "                                            phrased_text  \n",
       "0                    [perfect, electric, vehicle, owner]  \n",
       "1      [exclusive, video, gm, electric, vehicle, path...  \n",
       "2      [hong, kong, announcement, world, big, electri...  \n",
       "3      [exclusive, video, gm, electric, vehicle, path...  \n",
       "4      [exclusive, video, gm, electric, vehicle, path...  \n",
       "...                                                  ...  \n",
       "99480  [project, barrel, oil, electric, hybrid, vehic...  \n",
       "99481  [toyota, affordable, hybrid, vehicle, fuel_eff...  \n",
       "99482  [toyota, affordable, hybrid, vehicle, fuel_eff...  \n",
       "99483  [kick, look, new, model, ford, technology, inc...  \n",
       "99484  [go, key, ignition, nissan, hybrid, go, turn, ...  \n",
       "\n",
       "[99485 rows x 7 columns]"
      ]
     },
     "execution_count": 50,
     "metadata": {},
     "output_type": "execute_result"
    }
   ],
   "source": [
    "df"
   ]
  },
  {
   "cell_type": "code",
   "execution_count": 18,
   "metadata": {
    "ExecuteTime": {
     "end_time": "2020-08-11T14:12:09.419020Z",
     "start_time": "2020-08-11T14:12:09.408010Z"
    }
   },
   "outputs": [],
   "source": [
    "import en_core_web_lg"
   ]
  },
  {
   "cell_type": "code",
   "execution_count": 19,
   "metadata": {
    "ExecuteTime": {
     "end_time": "2020-08-11T14:12:30.937072Z",
     "start_time": "2020-08-11T14:12:14.407263Z"
    }
   },
   "outputs": [],
   "source": [
    "nlp = en_core_web_lg.load()"
   ]
  },
  {
   "cell_type": "code",
   "execution_count": 20,
   "metadata": {
    "ExecuteTime": {
     "end_time": "2020-08-11T14:12:48.751398Z",
     "start_time": "2020-08-11T14:12:31.039953Z"
    }
   },
   "outputs": [],
   "source": [
    "# load pipeline\n",
    "nlp = spacy.load('en_core_web_lg', disable=['ner', 'parser', 'tagger'])"
   ]
  },
  {
   "cell_type": "code",
   "execution_count": 21,
   "metadata": {
    "ExecuteTime": {
     "end_time": "2020-08-11T14:13:04.094607Z",
     "start_time": "2020-08-11T14:12:48.865335Z"
    }
   },
   "outputs": [],
   "source": [
    "# tokenized text\n",
    "docs_tokens = []\n",
    "\n",
    "for doc in docs:\n",
    "    tmp_tokens = [token.lemma_ for token in nlp(doc) \n",
    "                  if not token.is_stop\n",
    "                  and not token.is_space\n",
    "                  and not token.is_punct\n",
    "                  and not token.is_oov\n",
    "                  and len(token.lemma_) > 1]\n",
    "    docs_tokens.append(tmp_tokens)\n",
    "    tmp_tokens = []"
   ]
  },
  {
   "cell_type": "code",
   "execution_count": 22,
   "metadata": {
    "ExecuteTime": {
     "end_time": "2020-08-11T14:13:04.724244Z",
     "start_time": "2020-08-11T14:13:04.449383Z"
    }
   },
   "outputs": [],
   "source": [
    "# --+ let's store the tokenized text\n",
    "# df.loc[:, 'tkn_text'] = docs_tokens"
   ]
  },
  {
   "cell_type": "markdown",
   "metadata": {},
   "source": [
    "# get bigrammed-sentences"
   ]
  },
  {
   "cell_type": "code",
   "execution_count": 23,
   "metadata": {
    "ExecuteTime": {
     "end_time": "2020-08-11T14:13:20.373658Z",
     "start_time": "2020-08-11T14:13:18.681589Z"
    }
   },
   "outputs": [
    {
     "name": "stderr",
     "output_type": "stream",
     "text": [
      "INFO - 22:13:20: 'pattern' package not found; tag filters are not available for English\n"
     ]
    }
   ],
   "source": [
    "# load some gensim \n",
    "from gensim.models.phrases import Phrases, Phraser"
   ]
  },
  {
   "cell_type": "code",
   "execution_count": 24,
   "metadata": {
    "ExecuteTime": {
     "end_time": "2020-08-11T14:13:41.621474Z",
     "start_time": "2020-08-11T14:13:21.024284Z"
    }
   },
   "outputs": [
    {
     "name": "stderr",
     "output_type": "stream",
     "text": [
      "INFO - 22:13:21: collecting all words and their counts\n",
      "INFO - 22:13:21: PROGRESS: at sentence #0, processed 0 words and 0 word types\n",
      "INFO - 22:13:22: PROGRESS: at sentence #10000, processed 742919 words and 804 word types\n",
      "INFO - 22:13:23: PROGRESS: at sentence #20000, processed 1479901 words and 805 word types\n",
      "INFO - 22:13:25: PROGRESS: at sentence #30000, processed 2538321 words and 807 word types\n",
      "INFO - 22:13:28: PROGRESS: at sentence #40000, processed 3826262 words and 809 word types\n",
      "INFO - 22:13:31: PROGRESS: at sentence #50000, processed 5265246 words and 810 word types\n",
      "INFO - 22:13:34: PROGRESS: at sentence #60000, processed 6563173 words and 810 word types\n",
      "INFO - 22:13:35: PROGRESS: at sentence #70000, processed 7455877 words and 810 word types\n",
      "INFO - 22:13:37: PROGRESS: at sentence #80000, processed 8227072 words and 810 word types\n",
      "INFO - 22:13:39: PROGRESS: at sentence #90000, processed 9376192 words and 810 word types\n",
      "INFO - 22:13:41: collected 810 word types from a corpus of 10236378 words (unigram + bigrams) and 99485 sentences\n",
      "INFO - 22:13:41: using 810 counts as vocab in Phrases<0 vocab, min_count=30, threshold=10.0, max_vocab_size=40000000>\n"
     ]
    }
   ],
   "source": [
    "phrases = Phrases(docs, min_count=30, progress_per=10000)"
   ]
  },
  {
   "cell_type": "code",
   "execution_count": 25,
   "metadata": {
    "ExecuteTime": {
     "end_time": "2020-08-11T14:13:54.653009Z",
     "start_time": "2020-08-11T14:13:42.033222Z"
    }
   },
   "outputs": [
    {
     "name": "stderr",
     "output_type": "stream",
     "text": [
      "INFO - 22:13:42: collecting all words and their counts\n",
      "INFO - 22:13:42: PROGRESS: at sentence #0, processed 0 words and 0 word types\n",
      "INFO - 22:13:42: PROGRESS: at sentence #10000, processed 78289 words and 26327 word types\n",
      "INFO - 22:13:42: PROGRESS: at sentence #20000, processed 156237 words and 45430 word types\n",
      "INFO - 22:13:42: PROGRESS: at sentence #30000, processed 262339 words and 83074 word types\n",
      "INFO - 22:13:43: PROGRESS: at sentence #40000, processed 385441 words and 135749 word types\n",
      "INFO - 22:13:44: PROGRESS: at sentence #50000, processed 520465 words and 194500 word types\n",
      "INFO - 22:13:44: PROGRESS: at sentence #60000, processed 646323 words and 236722 word types\n",
      "INFO - 22:13:45: PROGRESS: at sentence #70000, processed 738530 words and 259891 word types\n",
      "INFO - 22:13:45: PROGRESS: at sentence #80000, processed 822060 words and 279207 word types\n",
      "INFO - 22:13:45: PROGRESS: at sentence #90000, processed 935913 words and 318586 word types\n",
      "INFO - 22:13:46: collected 343117 word types from a corpus of 1025422 words (unigram + bigrams) and 99485 sentences\n",
      "INFO - 22:13:46: using 343117 counts as vocab in Phrases<0 vocab, min_count=50, threshold=10.0, max_vocab_size=40000000>\n"
     ]
    }
   ],
   "source": [
    "# --+ get rid of common terms\n",
    "common_terms = [u'of', u'with', u'without', u'and', u'or', u'the', u'a',\n",
    "                u'not', 'be', u'to', u'this', u'who', u'in']\n",
    "\n",
    "# --+ fing phrases as bigrams\n",
    "bigram = Phrases(docs_tokens,\n",
    "                 min_count=50,\n",
    "                 # max_vocab_size=50000,\n",
    "                 common_terms=common_terms)\n",
    "\n",
    "# --+ manipulate docs\n",
    "docs_phrased = [bigram[line] for line in docs_tokens]"
   ]
  },
  {
   "cell_type": "code",
   "execution_count": 48,
   "metadata": {
    "ExecuteTime": {
     "end_time": "2020-08-11T15:00:45.718466Z",
     "start_time": "2020-08-11T15:00:45.442550Z"
    }
   },
   "outputs": [],
   "source": [
    "# --+ let's store the tokenized text\n",
    "df.loc[:, 'phrased_text'] = docs_phrased"
   ]
  },
  {
   "cell_type": "markdown",
   "metadata": {},
   "source": [
    "# split by year"
   ]
  },
  {
   "cell_type": "code",
   "execution_count": 75,
   "metadata": {
    "ExecuteTime": {
     "end_time": "2020-08-11T15:20:51.489630Z",
     "start_time": "2020-08-11T15:20:51.388704Z"
    }
   },
   "outputs": [],
   "source": [
    "docs_phrased2015 = [i for i in df.loc[df['year']==2015]['phrased_text']]\n",
    "docs_phrased2016 = [i for i in df.loc[df['year']==2016]['phrased_text']]\n",
    "docs_phrased2017 = [i for i in df.loc[df['year']==2017]['phrased_text']]\n",
    "docs_phrased2018 = [i for i in df.loc[df['year']==2018]['phrased_text']]\n",
    "docs_phrased2019 = [i for i in df.loc[df['year']==2019]['phrased_text']]"
   ]
  },
  {
   "cell_type": "markdown",
   "metadata": {
    "ExecuteTime": {
     "end_time": "2020-08-11T14:14:11.060465Z",
     "start_time": "2020-08-11T14:14:11.056483Z"
    }
   },
   "source": [
    "# implement the word2vec with gensim"
   ]
  },
  {
   "cell_type": "code",
   "execution_count": 27,
   "metadata": {
    "ExecuteTime": {
     "end_time": "2020-08-11T14:14:17.448747Z",
     "start_time": "2020-08-11T14:14:17.443747Z"
    }
   },
   "outputs": [],
   "source": [
    "# let's try to speed things up a little bit\n",
    "import multiprocessing\n",
    "cores = multiprocessing.cpu_count()\n",
    "# load gensim implementation of the word2vec\n",
    "from gensim.models import Word2Vec"
   ]
  },
  {
   "cell_type": "markdown",
   "metadata": {},
   "source": [
    "### Setup the params"
   ]
  },
  {
   "cell_type": "code",
   "execution_count": 102,
   "metadata": {
    "ExecuteTime": {
     "end_time": "2020-08-11T15:37:26.350932Z",
     "start_time": "2020-08-11T15:37:26.342935Z"
    }
   },
   "outputs": [],
   "source": [
    "###############################################################################\n",
    "'''\n",
    "Fixing the params requires significant knowledge about the corpus of text at\n",
    "hand and the cultural and societal context for the corpus\n",
    "'''\n",
    "w2v_model = Word2Vec(min_count=20,\n",
    "                     window=2,\n",
    "                     size=300,\n",
    "                     sample=6e-5, \n",
    "                     alpha=0.03, \n",
    "                     min_alpha=0.0007, \n",
    "                     negative=20,\n",
    "                     seed=1, workers=1)"
   ]
  },
  {
   "cell_type": "markdown",
   "metadata": {},
   "source": [
    "### Build the vocabulary"
   ]
  },
  {
   "cell_type": "code",
   "execution_count": 103,
   "metadata": {
    "ExecuteTime": {
     "end_time": "2020-08-11T15:37:30.355732Z",
     "start_time": "2020-08-11T15:37:29.667110Z"
    }
   },
   "outputs": [
    {
     "name": "stderr",
     "output_type": "stream",
     "text": [
      "INFO - 23:37:29: collecting all words and their counts\n",
      "INFO - 23:37:29: PROGRESS: at sentence #0, processed 0 words, keeping 0 word types\n",
      "INFO - 23:37:29: PROGRESS: at sentence #10000, processed 73268 words, keeping 5558 word types\n",
      "INFO - 23:37:29: PROGRESS: at sentence #20000, processed 144342 words, keeping 7859 word types\n",
      "INFO - 23:37:29: PROGRESS: at sentence #30000, processed 244157 words, keeping 11279 word types\n",
      "INFO - 23:37:29: PROGRESS: at sentence #40000, processed 362065 words, keeping 14896 word types\n",
      "INFO - 23:37:29: PROGRESS: at sentence #50000, processed 493342 words, keeping 17807 word types\n",
      "INFO - 23:37:29: PROGRESS: at sentence #60000, processed 612398 words, keeping 20173 word types\n",
      "INFO - 23:37:30: PROGRESS: at sentence #70000, processed 699619 words, keeping 21620 word types\n",
      "INFO - 23:37:30: PROGRESS: at sentence #80000, processed 777148 words, keeping 22946 word types\n",
      "INFO - 23:37:30: PROGRESS: at sentence #90000, processed 886787 words, keeping 24866 word types\n",
      "INFO - 23:37:30: collected 26177 word types from a corpus of 973761 raw words and 99485 sentences\n",
      "INFO - 23:37:30: Loading a fresh vocabulary\n",
      "INFO - 23:37:30: effective_min_count=20 retains 4111 unique words (15% of original 26177, drops 22066)\n",
      "INFO - 23:37:30: effective_min_count=20 leaves 901062 word corpus (92% of original 973761, drops 72699)\n",
      "INFO - 23:37:30: deleting the raw counts dictionary of 26177 items\n",
      "INFO - 23:37:30: sample=6e-05 downsamples 1040 most-common words\n",
      "INFO - 23:37:30: downsampling leaves estimated 383362 word corpus (42.5% of prior 901062)\n",
      "INFO - 23:37:30: estimated required memory for 4111 words and 300 dimensions: 11921900 bytes\n",
      "INFO - 23:37:30: resetting layer weights\n"
     ]
    }
   ],
   "source": [
    "\n",
    "##############################\n",
    "w2v_model.build_vocab(docs_phrased, progress_per=10000)\n",
    "\n"
   ]
  },
  {
   "cell_type": "markdown",
   "metadata": {},
   "source": [
    "### Train the model"
   ]
  },
  {
   "cell_type": "code",
   "execution_count": 104,
   "metadata": {
    "ExecuteTime": {
     "end_time": "2020-08-11T15:39:54.902750Z",
     "start_time": "2020-08-11T15:37:35.042062Z"
    }
   },
   "outputs": [
    {
     "name": "stderr",
     "output_type": "stream",
     "text": [
      "INFO - 23:37:35: training model with 1 workers on 4111 vocabulary and 300 features, using sg=0 hs=0 sample=6e-05 negative=20 window=2\n",
      "INFO - 23:37:36: EPOCH 1 - PROGRESS: at 35.85% examples, 119792 words/s, in_qsize 1, out_qsize 0\n",
      "INFO - 23:37:37: EPOCH 1 - PROGRESS: at 56.73% examples, 111187 words/s, in_qsize 1, out_qsize 0\n",
      "INFO - 23:37:38: EPOCH 1 - PROGRESS: at 88.37% examples, 110046 words/s, in_qsize 1, out_qsize 0\n",
      "INFO - 23:37:39: EPOCH 1 - PROGRESS: at 100.00% examples, 93646 words/s, in_qsize 0, out_qsize 1\n",
      "INFO - 23:37:39: worker thread finished; awaiting finish of 0 more threads\n",
      "INFO - 23:37:39: EPOCH - 1 : training on 973761 raw words (382838 effective words) took 4.1s, 93490 effective words/s\n",
      "INFO - 23:37:40: EPOCH 2 - PROGRESS: at 11.00% examples, 28342 words/s, in_qsize 1, out_qsize 0\n",
      "INFO - 23:37:41: EPOCH 2 - PROGRESS: at 23.83% examples, 33220 words/s, in_qsize 2, out_qsize 0\n",
      "INFO - 23:37:42: EPOCH 2 - PROGRESS: at 36.67% examples, 40928 words/s, in_qsize 1, out_qsize 0\n",
      "INFO - 23:37:43: EPOCH 2 - PROGRESS: at 50.70% examples, 49041 words/s, in_qsize 1, out_qsize 0\n",
      "INFO - 23:37:44: EPOCH 2 - PROGRESS: at 71.68% examples, 55037 words/s, in_qsize 1, out_qsize 0\n",
      "INFO - 23:37:45: EPOCH 2 - PROGRESS: at 94.31% examples, 59832 words/s, in_qsize 1, out_qsize 0\n",
      "INFO - 23:37:45: worker thread finished; awaiting finish of 0 more threads\n",
      "INFO - 23:37:45: EPOCH - 2 : training on 973761 raw words (383364 effective words) took 6.3s, 60474 effective words/s\n",
      "INFO - 23:37:46: EPOCH 3 - PROGRESS: at 26.95% examples, 76162 words/s, in_qsize 2, out_qsize 0\n",
      "INFO - 23:37:47: EPOCH 3 - PROGRESS: at 36.67% examples, 61045 words/s, in_qsize 1, out_qsize 0\n",
      "INFO - 23:37:48: EPOCH 3 - PROGRESS: at 46.55% examples, 57349 words/s, in_qsize 1, out_qsize 0\n",
      "INFO - 23:37:49: EPOCH 3 - PROGRESS: at 59.33% examples, 58146 words/s, in_qsize 2, out_qsize 0\n",
      "INFO - 23:37:50: EPOCH 3 - PROGRESS: at 80.70% examples, 59856 words/s, in_qsize 1, out_qsize 0\n",
      "INFO - 23:37:51: EPOCH 3 - PROGRESS: at 95.61% examples, 60312 words/s, in_qsize 1, out_qsize 0\n",
      "INFO - 23:37:51: worker thread finished; awaiting finish of 0 more threads\n",
      "INFO - 23:37:51: EPOCH - 3 : training on 973761 raw words (383292 effective words) took 6.3s, 60585 effective words/s\n",
      "INFO - 23:37:52: EPOCH 4 - PROGRESS: at 25.90% examples, 75485 words/s, in_qsize 1, out_qsize 0\n",
      "INFO - 23:37:53: EPOCH 4 - PROGRESS: at 38.36% examples, 66358 words/s, in_qsize 1, out_qsize 0\n",
      "INFO - 23:37:54: EPOCH 4 - PROGRESS: at 55.09% examples, 72501 words/s, in_qsize 2, out_qsize 0\n",
      "INFO - 23:37:55: EPOCH 4 - PROGRESS: at 83.90% examples, 78731 words/s, in_qsize 2, out_qsize 0\n",
      "INFO - 23:37:56: worker thread finished; awaiting finish of 0 more threads\n",
      "INFO - 23:37:56: EPOCH - 4 : training on 973761 raw words (383870 effective words) took 4.6s, 84099 effective words/s\n",
      "INFO - 23:37:57: EPOCH 5 - PROGRESS: at 36.67% examples, 126305 words/s, in_qsize 1, out_qsize 0\n",
      "INFO - 23:37:58: EPOCH 5 - PROGRESS: at 62.59% examples, 126990 words/s, in_qsize 1, out_qsize 0\n",
      "INFO - 23:37:59: EPOCH 5 - PROGRESS: at 95.61% examples, 121345 words/s, in_qsize 1, out_qsize 0\n",
      "INFO - 23:37:59: worker thread finished; awaiting finish of 0 more threads\n",
      "INFO - 23:37:59: EPOCH - 5 : training on 973761 raw words (382760 effective words) took 3.2s, 118781 effective words/s\n",
      "INFO - 23:38:00: EPOCH 6 - PROGRESS: at 33.34% examples, 107272 words/s, in_qsize 1, out_qsize 0\n",
      "INFO - 23:38:01: EPOCH 6 - PROGRESS: at 53.23% examples, 104042 words/s, in_qsize 1, out_qsize 0\n",
      "INFO - 23:38:02: EPOCH 6 - PROGRESS: at 78.22% examples, 97473 words/s, in_qsize 1, out_qsize 0\n",
      "INFO - 23:38:03: EPOCH 6 - PROGRESS: at 95.61% examples, 89905 words/s, in_qsize 1, out_qsize 0\n",
      "INFO - 23:38:03: worker thread finished; awaiting finish of 0 more threads\n",
      "INFO - 23:38:03: EPOCH - 6 : training on 973761 raw words (383334 effective words) took 4.3s, 90162 effective words/s\n",
      "INFO - 23:38:04: EPOCH 7 - PROGRESS: at 31.61% examples, 100681 words/s, in_qsize 1, out_qsize 0\n",
      "INFO - 23:38:06: EPOCH 7 - PROGRESS: at 43.30% examples, 77981 words/s, in_qsize 2, out_qsize 0\n",
      "INFO - 23:38:07: EPOCH 7 - PROGRESS: at 55.86% examples, 72754 words/s, in_qsize 1, out_qsize 0\n",
      "INFO - 23:38:08: EPOCH 7 - PROGRESS: at 77.03% examples, 72547 words/s, in_qsize 1, out_qsize 0\n",
      "INFO - 23:38:09: EPOCH 7 - PROGRESS: at 98.21% examples, 73726 words/s, in_qsize 2, out_qsize 0\n",
      "INFO - 23:38:09: worker thread finished; awaiting finish of 0 more threads\n",
      "INFO - 23:38:09: EPOCH - 7 : training on 973761 raw words (383566 effective words) took 5.2s, 73793 effective words/s\n",
      "INFO - 23:38:10: EPOCH 8 - PROGRESS: at 29.77% examples, 90098 words/s, in_qsize 1, out_qsize 0\n",
      "INFO - 23:38:11: EPOCH 8 - PROGRESS: at 47.31% examples, 87395 words/s, in_qsize 1, out_qsize 0\n",
      "INFO - 23:38:12: EPOCH 8 - PROGRESS: at 57.46% examples, 73273 words/s, in_qsize 2, out_qsize 0\n",
      "INFO - 23:38:13: EPOCH 8 - PROGRESS: at 83.06% examples, 75175 words/s, in_qsize 1, out_qsize 0\n",
      "INFO - 23:38:13: worker thread finished; awaiting finish of 0 more threads\n",
      "INFO - 23:38:13: EPOCH - 8 : training on 973761 raw words (382759 effective words) took 4.8s, 79892 effective words/s\n",
      "INFO - 23:38:14: EPOCH 9 - PROGRESS: at 32.49% examples, 106111 words/s, in_qsize 1, out_qsize 0\n",
      "INFO - 23:38:15: EPOCH 9 - PROGRESS: at 56.73% examples, 112849 words/s, in_qsize 1, out_qsize 0\n",
      "INFO - 23:38:16: EPOCH 9 - PROGRESS: at 93.04% examples, 120178 words/s, in_qsize 1, out_qsize 0\n",
      "INFO - 23:38:17: worker thread finished; awaiting finish of 0 more threads\n",
      "INFO - 23:38:17: EPOCH - 9 : training on 973761 raw words (383751 effective words) took 3.2s, 120996 effective words/s\n",
      "INFO - 23:38:18: EPOCH 10 - PROGRESS: at 22.71% examples, 63423 words/s, in_qsize 1, out_qsize 0\n",
      "INFO - 23:38:19: EPOCH 10 - PROGRESS: at 39.17% examples, 65623 words/s, in_qsize 1, out_qsize 0\n",
      "INFO - 23:38:20: EPOCH 10 - PROGRESS: at 52.29% examples, 66445 words/s, in_qsize 2, out_qsize 0\n",
      "INFO - 23:38:21: EPOCH 10 - PROGRESS: at 71.68% examples, 67930 words/s, in_qsize 1, out_qsize 0\n",
      "INFO - 23:38:22: EPOCH 10 - PROGRESS: at 89.86% examples, 66905 words/s, in_qsize 1, out_qsize 0\n",
      "INFO - 23:38:22: worker thread finished; awaiting finish of 0 more threads\n",
      "INFO - 23:38:22: EPOCH - 10 : training on 973761 raw words (383380 effective words) took 5.7s, 67776 effective words/s\n",
      "INFO - 23:38:23: EPOCH 11 - PROGRESS: at 19.47% examples, 49547 words/s, in_qsize 1, out_qsize 0\n",
      "INFO - 23:38:24: EPOCH 11 - PROGRESS: at 29.77% examples, 43454 words/s, in_qsize 1, out_qsize 0\n",
      "INFO - 23:38:25: EPOCH 11 - PROGRESS: at 44.09% examples, 52327 words/s, in_qsize 1, out_qsize 0\n",
      "INFO - 23:38:26: EPOCH 11 - PROGRESS: at 75.83% examples, 70281 words/s, in_qsize 1, out_qsize 0\n",
      "INFO - 23:38:27: worker thread finished; awaiting finish of 0 more threads\n",
      "INFO - 23:38:27: EPOCH - 11 : training on 973761 raw words (383042 effective words) took 5.2s, 74226 effective words/s\n",
      "INFO - 23:38:29: EPOCH 12 - PROGRESS: at 31.61% examples, 100632 words/s, in_qsize 1, out_qsize 0\n",
      "INFO - 23:38:30: EPOCH 12 - PROGRESS: at 54.26% examples, 104536 words/s, in_qsize 2, out_qsize 0\n",
      "INFO - 23:38:31: EPOCH 12 - PROGRESS: at 82.06% examples, 100923 words/s, in_qsize 1, out_qsize 0\n",
      "INFO - 23:38:32: EPOCH 12 - PROGRESS: at 98.21% examples, 91552 words/s, in_qsize 1, out_qsize 0\n",
      "INFO - 23:38:32: worker thread finished; awaiting finish of 0 more threads\n",
      "INFO - 23:38:32: EPOCH - 12 : training on 973761 raw words (382859 effective words) took 4.2s, 90815 effective words/s\n",
      "INFO - 23:38:33: EPOCH 13 - PROGRESS: at 23.83% examples, 67120 words/s, in_qsize 1, out_qsize 0\n",
      "INFO - 23:38:34: EPOCH 13 - PROGRESS: at 35.85% examples, 59118 words/s, in_qsize 2, out_qsize 0\n",
      "INFO - 23:38:35: EPOCH 13 - PROGRESS: at 47.31% examples, 58814 words/s, in_qsize 1, out_qsize 0\n",
      "INFO - 23:38:36: EPOCH 13 - PROGRESS: at 57.46% examples, 56229 words/s, in_qsize 2, out_qsize 0\n",
      "INFO - 23:38:37: EPOCH 13 - PROGRESS: at 77.03% examples, 57788 words/s, in_qsize 1, out_qsize 0\n",
      "INFO - 23:38:38: worker thread finished; awaiting finish of 0 more threads\n",
      "INFO - 23:38:38: EPOCH - 13 : training on 973761 raw words (383255 effective words) took 5.9s, 65023 effective words/s\n",
      "INFO - 23:38:39: EPOCH 14 - PROGRESS: at 34.16% examples, 111509 words/s, in_qsize 1, out_qsize 0\n"
     ]
    },
    {
     "name": "stderr",
     "output_type": "stream",
     "text": [
      "INFO - 23:38:40: EPOCH 14 - PROGRESS: at 58.28% examples, 115397 words/s, in_qsize 2, out_qsize 0\n",
      "INFO - 23:38:41: EPOCH 14 - PROGRESS: at 89.13% examples, 112086 words/s, in_qsize 2, out_qsize 0\n",
      "INFO - 23:38:41: worker thread finished; awaiting finish of 0 more threads\n",
      "INFO - 23:38:41: EPOCH - 14 : training on 973761 raw words (382592 effective words) took 3.4s, 111431 effective words/s\n",
      "INFO - 23:38:42: EPOCH 15 - PROGRESS: at 22.71% examples, 62848 words/s, in_qsize 1, out_qsize 0\n",
      "INFO - 23:38:43: EPOCH 15 - PROGRESS: at 38.36% examples, 66275 words/s, in_qsize 1, out_qsize 0\n",
      "INFO - 23:38:44: EPOCH 15 - PROGRESS: at 51.46% examples, 67175 words/s, in_qsize 2, out_qsize 0\n",
      "INFO - 23:38:45: EPOCH 15 - PROGRESS: at 73.03% examples, 70384 words/s, in_qsize 1, out_qsize 0\n",
      "INFO - 23:38:46: EPOCH 15 - PROGRESS: at 95.61% examples, 72895 words/s, in_qsize 2, out_qsize 0\n",
      "INFO - 23:38:46: worker thread finished; awaiting finish of 0 more threads\n",
      "INFO - 23:38:46: EPOCH - 15 : training on 973761 raw words (383554 effective words) took 5.2s, 73234 effective words/s\n",
      "INFO - 23:38:47: EPOCH 16 - PROGRESS: at 25.90% examples, 71788 words/s, in_qsize 2, out_qsize 0\n",
      "INFO - 23:38:48: EPOCH 16 - PROGRESS: at 42.43% examples, 73713 words/s, in_qsize 1, out_qsize 0\n",
      "INFO - 23:38:49: EPOCH 16 - PROGRESS: at 63.66% examples, 83021 words/s, in_qsize 1, out_qsize 0\n",
      "INFO - 23:38:50: EPOCH 16 - PROGRESS: at 95.61% examples, 89291 words/s, in_qsize 2, out_qsize 0\n",
      "INFO - 23:38:51: worker thread finished; awaiting finish of 0 more threads\n",
      "INFO - 23:38:51: EPOCH - 16 : training on 973761 raw words (383697 effective words) took 4.3s, 90023 effective words/s\n",
      "INFO - 23:38:52: EPOCH 17 - PROGRESS: at 29.77% examples, 90904 words/s, in_qsize 1, out_qsize 0\n",
      "INFO - 23:38:53: EPOCH 17 - PROGRESS: at 51.46% examples, 100615 words/s, in_qsize 1, out_qsize 0\n",
      "INFO - 23:38:54: EPOCH 17 - PROGRESS: at 65.04% examples, 85289 words/s, in_qsize 1, out_qsize 0\n",
      "INFO - 23:38:55: EPOCH 17 - PROGRESS: at 89.86% examples, 84570 words/s, in_qsize 1, out_qsize 0\n",
      "INFO - 23:38:55: worker thread finished; awaiting finish of 0 more threads\n",
      "INFO - 23:38:55: EPOCH - 17 : training on 973761 raw words (382851 effective words) took 4.5s, 84769 effective words/s\n",
      "INFO - 23:38:56: EPOCH 18 - PROGRESS: at 33.34% examples, 106202 words/s, in_qsize 1, out_qsize 0\n",
      "INFO - 23:38:57: EPOCH 18 - PROGRESS: at 50.70% examples, 98224 words/s, in_qsize 1, out_qsize 0\n",
      "INFO - 23:38:58: EPOCH 18 - PROGRESS: at 71.68% examples, 92341 words/s, in_qsize 1, out_qsize 0\n",
      "INFO - 23:38:59: EPOCH 18 - PROGRESS: at 94.31% examples, 88941 words/s, in_qsize 1, out_qsize 0\n",
      "INFO - 23:39:00: worker thread finished; awaiting finish of 0 more threads\n",
      "INFO - 23:39:00: EPOCH - 18 : training on 973761 raw words (383204 effective words) took 4.5s, 85103 effective words/s\n",
      "INFO - 23:39:01: EPOCH 19 - PROGRESS: at 23.83% examples, 64669 words/s, in_qsize 1, out_qsize 0\n",
      "INFO - 23:39:02: EPOCH 19 - PROGRESS: at 36.67% examples, 59833 words/s, in_qsize 2, out_qsize 0\n",
      "INFO - 23:39:03: EPOCH 19 - PROGRESS: at 49.31% examples, 61477 words/s, in_qsize 2, out_qsize 0\n",
      "INFO - 23:39:04: EPOCH 19 - PROGRESS: at 73.03% examples, 68448 words/s, in_qsize 1, out_qsize 0\n",
      "INFO - 23:39:05: EPOCH 19 - PROGRESS: at 90.67% examples, 67522 words/s, in_qsize 1, out_qsize 0\n",
      "INFO - 23:39:05: worker thread finished; awaiting finish of 0 more threads\n",
      "INFO - 23:39:05: EPOCH - 19 : training on 973761 raw words (383042 effective words) took 5.8s, 66157 effective words/s\n",
      "INFO - 23:39:07: EPOCH 20 - PROGRESS: at 20.72% examples, 54477 words/s, in_qsize 1, out_qsize 0\n",
      "INFO - 23:39:08: EPOCH 20 - PROGRESS: at 39.17% examples, 67357 words/s, in_qsize 1, out_qsize 0\n",
      "INFO - 23:39:09: EPOCH 20 - PROGRESS: at 55.09% examples, 70960 words/s, in_qsize 1, out_qsize 0\n",
      "INFO - 23:39:10: EPOCH 20 - PROGRESS: at 77.03% examples, 72185 words/s, in_qsize 1, out_qsize 0\n",
      "INFO - 23:39:10: worker thread finished; awaiting finish of 0 more threads\n",
      "INFO - 23:39:11: EPOCH - 20 : training on 973761 raw words (383141 effective words) took 5.0s, 76795 effective words/s\n",
      "INFO - 23:39:12: EPOCH 21 - PROGRESS: at 28.81% examples, 87583 words/s, in_qsize 2, out_qsize 0\n",
      "INFO - 23:39:13: EPOCH 21 - PROGRESS: at 40.83% examples, 69331 words/s, in_qsize 2, out_qsize 0\n",
      "INFO - 23:39:14: EPOCH 21 - PROGRESS: at 54.26% examples, 68853 words/s, in_qsize 1, out_qsize 0\n",
      "INFO - 23:39:15: EPOCH 21 - PROGRESS: at 82.06% examples, 74649 words/s, in_qsize 1, out_qsize 0\n",
      "INFO - 23:39:15: worker thread finished; awaiting finish of 0 more threads\n",
      "INFO - 23:39:15: EPOCH - 21 : training on 973761 raw words (382591 effective words) took 4.9s, 77733 effective words/s\n",
      "INFO - 23:39:16: EPOCH 22 - PROGRESS: at 31.61% examples, 100217 words/s, in_qsize 1, out_qsize 0\n",
      "INFO - 23:39:17: EPOCH 22 - PROGRESS: at 55.09% examples, 108143 words/s, in_qsize 1, out_qsize 0\n",
      "INFO - 23:39:18: EPOCH 22 - PROGRESS: at 82.06% examples, 102103 words/s, in_qsize 1, out_qsize 0\n",
      "INFO - 23:39:19: worker thread finished; awaiting finish of 0 more threads\n",
      "INFO - 23:39:19: EPOCH - 22 : training on 973761 raw words (382923 effective words) took 3.7s, 103323 effective words/s\n",
      "INFO - 23:39:20: EPOCH 23 - PROGRESS: at 27.88% examples, 84992 words/s, in_qsize 1, out_qsize 0\n",
      "INFO - 23:39:21: EPOCH 23 - PROGRESS: at 44.91% examples, 84306 words/s, in_qsize 1, out_qsize 0\n",
      "INFO - 23:39:22: EPOCH 23 - PROGRESS: at 65.04% examples, 86702 words/s, in_qsize 1, out_qsize 0\n",
      "INFO - 23:39:23: worker thread finished; awaiting finish of 0 more threads\n",
      "INFO - 23:39:23: EPOCH - 23 : training on 973761 raw words (382936 effective words) took 4.0s, 95057 effective words/s\n",
      "INFO - 23:39:24: EPOCH 24 - PROGRESS: at 29.77% examples, 92197 words/s, in_qsize 1, out_qsize 0\n",
      "INFO - 23:39:25: EPOCH 24 - PROGRESS: at 48.64% examples, 92793 words/s, in_qsize 2, out_qsize 0\n",
      "INFO - 23:39:26: EPOCH 24 - PROGRESS: at 73.03% examples, 93075 words/s, in_qsize 2, out_qsize 0\n",
      "INFO - 23:39:27: worker thread finished; awaiting finish of 0 more threads\n",
      "INFO - 23:39:27: EPOCH - 24 : training on 973761 raw words (383641 effective words) took 4.0s, 95722 effective words/s\n",
      "INFO - 23:39:28: EPOCH 25 - PROGRESS: at 30.65% examples, 95555 words/s, in_qsize 1, out_qsize 0\n",
      "INFO - 23:39:29: EPOCH 25 - PROGRESS: at 50.70% examples, 99259 words/s, in_qsize 2, out_qsize 0\n",
      "INFO - 23:39:30: EPOCH 25 - PROGRESS: at 69.03% examples, 90649 words/s, in_qsize 1, out_qsize 0\n",
      "INFO - 23:39:31: worker thread finished; awaiting finish of 0 more threads\n",
      "INFO - 23:39:31: EPOCH - 25 : training on 973761 raw words (383624 effective words) took 4.0s, 95091 effective words/s\n",
      "INFO - 23:39:32: EPOCH 26 - PROGRESS: at 32.49% examples, 100733 words/s, in_qsize 1, out_qsize 0\n",
      "INFO - 23:39:33: EPOCH 26 - PROGRESS: at 52.29% examples, 100994 words/s, in_qsize 1, out_qsize 0\n",
      "INFO - 23:39:34: EPOCH 26 - PROGRESS: at 79.46% examples, 98103 words/s, in_qsize 1, out_qsize 0\n",
      "INFO - 23:39:35: worker thread finished; awaiting finish of 0 more threads\n",
      "INFO - 23:39:35: EPOCH - 26 : training on 973761 raw words (383445 effective words) took 3.8s, 99638 effective words/s\n",
      "INFO - 23:39:36: EPOCH 27 - PROGRESS: at 15.12% examples, 41122 words/s, in_qsize 1, out_qsize 0\n",
      "INFO - 23:39:37: EPOCH 27 - PROGRESS: at 30.65% examples, 47934 words/s, in_qsize 1, out_qsize 0\n",
      "INFO - 23:39:38: EPOCH 27 - PROGRESS: at 42.43% examples, 50559 words/s, in_qsize 1, out_qsize 0\n",
      "INFO - 23:39:39: EPOCH 27 - PROGRESS: at 54.26% examples, 51871 words/s, in_qsize 2, out_qsize 0\n",
      "INFO - 23:39:40: EPOCH 27 - PROGRESS: at 79.46% examples, 58617 words/s, in_qsize 2, out_qsize 0\n",
      "INFO - 23:39:41: worker thread finished; awaiting finish of 0 more threads\n",
      "INFO - 23:39:41: EPOCH - 27 : training on 973761 raw words (384053 effective words) took 6.2s, 62297 effective words/s\n",
      "INFO - 23:39:42: EPOCH 28 - PROGRESS: at 29.77% examples, 91608 words/s, in_qsize 1, out_qsize 0\n",
      "INFO - 23:39:43: EPOCH 28 - PROGRESS: at 47.99% examples, 88537 words/s, in_qsize 1, out_qsize 0\n",
      "INFO - 23:39:44: EPOCH 28 - PROGRESS: at 66.36% examples, 86185 words/s, in_qsize 1, out_qsize 0\n",
      "INFO - 23:39:46: EPOCH 28 - PROGRESS: at 86.53% examples, 78827 words/s, in_qsize 2, out_qsize 0\n",
      "INFO - 23:39:46: worker thread finished; awaiting finish of 0 more threads\n"
     ]
    },
    {
     "name": "stderr",
     "output_type": "stream",
     "text": [
      "INFO - 23:39:46: EPOCH - 28 : training on 973761 raw words (383504 effective words) took 4.9s, 78306 effective words/s\n",
      "INFO - 23:39:47: EPOCH 29 - PROGRESS: at 31.61% examples, 100869 words/s, in_qsize 1, out_qsize 0\n",
      "INFO - 23:39:48: EPOCH 29 - PROGRESS: at 55.09% examples, 108920 words/s, in_qsize 1, out_qsize 0\n",
      "INFO - 23:39:49: EPOCH 29 - PROGRESS: at 77.03% examples, 97391 words/s, in_qsize 1, out_qsize 0\n",
      "INFO - 23:39:50: worker thread finished; awaiting finish of 0 more threads\n",
      "INFO - 23:39:50: EPOCH - 29 : training on 973761 raw words (383283 effective words) took 4.0s, 96201 effective words/s\n",
      "INFO - 23:39:51: EPOCH 30 - PROGRESS: at 29.77% examples, 92237 words/s, in_qsize 1, out_qsize 0\n",
      "INFO - 23:39:52: EPOCH 30 - PROGRESS: at 53.23% examples, 105600 words/s, in_qsize 1, out_qsize 0\n",
      "INFO - 23:39:53: EPOCH 30 - PROGRESS: at 79.46% examples, 100235 words/s, in_qsize 1, out_qsize 0\n",
      "INFO - 23:39:54: EPOCH 30 - PROGRESS: at 98.21% examples, 93341 words/s, in_qsize 1, out_qsize 0\n",
      "INFO - 23:39:54: worker thread finished; awaiting finish of 0 more threads\n",
      "INFO - 23:39:54: EPOCH - 30 : training on 973761 raw words (383366 effective words) took 4.1s, 92891 effective words/s\n",
      "INFO - 23:39:54: training on a 29212830 raw words (11497517 effective words) took 139.8s, 82227 effective words/s\n"
     ]
    },
    {
     "data": {
      "text/plain": [
       "(11497517, 29212830)"
      ]
     },
     "execution_count": 104,
     "metadata": {},
     "output_type": "execute_result"
    }
   ],
   "source": [
    "#########################\n",
    "w2v_model.train(docs_phrased, total_examples=w2v_model.corpus_count,\n",
    "                epochs=30, report_delay=1)"
   ]
  },
  {
   "cell_type": "markdown",
   "metadata": {},
   "source": [
    "# Explore the model"
   ]
  },
  {
   "cell_type": "markdown",
   "metadata": {
    "ExecuteTime": {
     "end_time": "2020-08-11T14:17:15.522512Z",
     "start_time": "2020-08-11T14:17:15.517495Z"
    }
   },
   "source": [
    "## Do vectors make any sense?"
   ]
  },
  {
   "cell_type": "code",
   "execution_count": 61,
   "metadata": {
    "ExecuteTime": {
     "end_time": "2020-08-11T15:13:21.026716Z",
     "start_time": "2020-08-11T15:13:20.717891Z"
    },
    "collapsed": true
   },
   "outputs": [
    {
     "name": "stdout",
     "output_type": "stream",
     "text": [
      "\n",
      "        \n",
      "        Lexical item is `hybrid'\n",
      "        ======================================================\n",
      "         term                 similarity\n",
      "        ------------------------------------------------------\n",
      "        \n",
      "\t car             \t 0.553\n",
      "\t prius           \t 0.282\n",
      "\t af              \t 0.271\n",
      "\t ans             \t 0.264\n",
      "\t aqua            \t 0.264\n",
      "\t phev            \t 0.26\n",
      "\t new_post        \t 0.258\n",
      "\t rage            \t 0.248\n",
      "\t toyota          \t 0.246\n",
      "\t toyota_prius    \t 0.245\n",
      "\n",
      "        \n",
      "        Lexical item is `electric'\n",
      "        ======================================================\n",
      "         term                 similarity\n",
      "        ------------------------------------------------------\n",
      "        \n",
      "\t vehicle         \t 0.406\n",
      "\t ev              \t 0.404\n",
      "\t cnet            \t 0.332\n",
      "\t novice          \t 0.31\n",
      "\t motor_announce  \t 0.288\n",
      "\t plan            \t 0.283\n",
      "\t facilitate      \t 0.275\n",
      "\t ars_technica    \t 0.271\n",
      "\t deployment      \t 0.27\n",
      "\t track           \t 0.265\n",
      "\n",
      "        \n",
      "        Lexical item is `ev'\n",
      "        ======================================================\n",
      "         term                 similarity\n",
      "        ------------------------------------------------------\n",
      "        \n",
      "\t electric        \t 0.404\n",
      "\t percentage      \t 0.333\n",
      "\t penetration     \t 0.313\n",
      "\t global          \t 0.307\n",
      "\t vehicle         \t 0.303\n",
      "\t outsell         \t 0.29\n",
      "\t loyal           \t 0.287\n",
      "\t accenture       \t 0.287\n",
      "\t buyer           \t 0.285\n",
      "\t market          \t 0.284\n"
     ]
    }
   ],
   "source": [
    "items = ['hybrid', 'electric', 'ev']\n",
    "\n",
    "for item in items:\n",
    "    try:\n",
    "        positives = w2v_model.wv.most_similar(positive=[item])\n",
    "        print(\"\"\"\n",
    "        \n",
    "        Lexical item is `{}'\n",
    "        ======================================================\n",
    "         term                 similarity\n",
    "        ------------------------------------------------------\n",
    "        \"\"\".format(item))\n",
    "        for term, similarity in positives:\n",
    "            print('\\t', term.ljust(15), '\\t', np.round(similarity, 3), flush=True)\n",
    "    except:\n",
    "        print(\"\"\"\n",
    "        \n",
    "        Lexical item is `{}'\n",
    "        ======================================================\n",
    "        \n",
    "        \n",
    "        !!! ...too bad, item not in dictionary !!!\n",
    "        \n",
    "        \"\"\".format(item))\n"
   ]
  },
  {
   "cell_type": "markdown",
   "metadata": {
    "ExecuteTime": {
     "end_time": "2020-08-11T14:17:42.433009Z",
     "start_time": "2020-08-11T14:17:42.429010Z"
    }
   },
   "source": [
    "## Closer characters?"
   ]
  },
  {
   "cell_type": "code",
   "execution_count": 42,
   "metadata": {
    "ExecuteTime": {
     "end_time": "2020-08-11T14:25:29.595185Z",
     "start_time": "2020-08-11T14:25:29.589189Z"
    }
   },
   "outputs": [],
   "source": [
    "characters = ['hybrid', 'electric']"
   ]
  },
  {
   "cell_type": "code",
   "execution_count": 43,
   "metadata": {
    "ExecuteTime": {
     "end_time": "2020-08-11T14:25:30.394726Z",
     "start_time": "2020-08-11T14:25:30.367743Z"
    }
   },
   "outputs": [
    {
     "name": "stdout",
     "output_type": "stream",
     "text": [
      "        \n",
      "Inter-lexical item similarity\n",
      "======================================================\n",
      "  pair                             similarity\n",
      "------------------------------------------------------\n",
      "\n",
      " hybrid - electric              -0.07088255882263184\n",
      " electric - hybrid              -0.07088255882263184\n"
     ]
    }
   ],
   "source": [
    "print(\"\"\"        \n",
    "Inter-lexical item similarity\n",
    "======================================================\n",
    "  pair                             similarity\n",
    "------------------------------------------------------\n",
    "\"\"\")\n",
    "\n",
    "for c_i in characters:\n",
    "    for c_j in characters:\n",
    "        if c_i != c_j:\n",
    "            sim_cicj = w2v_model.wv.similarity(c_i, c_j)\n",
    "            print(\"\"\"\"\"\",\n",
    "                  '{} - {}'.format(c_i, c_j).ljust(30),\n",
    "                  '{}'.format(sim_cicj))\n",
    "        else:\n",
    "            pass"
   ]
  },
  {
   "cell_type": "code",
   "execution_count": 117,
   "metadata": {
    "ExecuteTime": {
     "end_time": "2020-08-11T15:50:56.894741Z",
     "start_time": "2020-08-11T15:50:47.506112Z"
    }
   },
   "outputs": [
    {
     "name": "stderr",
     "output_type": "stream",
     "text": [
      "INFO - 23:50:47: collecting all words and their counts\n",
      "INFO - 23:50:47: PROGRESS: at sentence #0, processed 0 words, keeping 0 word types\n",
      "INFO - 23:50:47: PROGRESS: at sentence #10000, processed 73792 words, keeping 5911 word types\n",
      "INFO - 23:50:47: collected 8490 word types from a corpus of 129280 raw words and 17079 sentences\n",
      "INFO - 23:50:47: Loading a fresh vocabulary\n",
      "INFO - 23:50:47: effective_min_count=20 retains 941 unique words (11% of original 8490, drops 7549)\n",
      "INFO - 23:50:47: effective_min_count=20 leaves 104441 word corpus (80% of original 129280, drops 24839)\n",
      "INFO - 23:50:47: deleting the raw counts dictionary of 8490 items\n",
      "INFO - 23:50:47: sample=6e-05 downsamples 941 most-common words\n",
      "INFO - 23:50:47: downsampling leaves estimated 24899 word corpus (23.8% of prior 104441)\n",
      "INFO - 23:50:47: estimated required memory for 941 words and 300 dimensions: 2728900 bytes\n",
      "INFO - 23:50:47: resetting layer weights\n",
      "INFO - 23:50:47: training model with 1 workers on 941 vocabulary and 300 features, using sg=0 hs=0 sample=6e-05 negative=20 window=2\n",
      "INFO - 23:50:47: worker thread finished; awaiting finish of 0 more threads\n",
      "INFO - 23:50:47: EPOCH - 1 : training on 129280 raw words (25022 effective words) took 0.2s, 122064 effective words/s\n",
      "INFO - 23:50:48: worker thread finished; awaiting finish of 0 more threads\n",
      "INFO - 23:50:48: EPOCH - 2 : training on 129280 raw words (24744 effective words) took 0.2s, 136228 effective words/s\n",
      "INFO - 23:50:48: worker thread finished; awaiting finish of 0 more threads\n",
      "INFO - 23:50:48: EPOCH - 3 : training on 129280 raw words (24931 effective words) took 0.2s, 133785 effective words/s\n",
      "INFO - 23:50:48: worker thread finished; awaiting finish of 0 more threads\n",
      "INFO - 23:50:48: EPOCH - 4 : training on 129280 raw words (25044 effective words) took 0.2s, 135788 effective words/s\n",
      "INFO - 23:50:48: worker thread finished; awaiting finish of 0 more threads\n",
      "INFO - 23:50:48: EPOCH - 5 : training on 129280 raw words (24807 effective words) took 0.2s, 117971 effective words/s\n",
      "INFO - 23:50:48: worker thread finished; awaiting finish of 0 more threads\n",
      "INFO - 23:50:48: EPOCH - 6 : training on 129280 raw words (24986 effective words) took 0.3s, 81119 effective words/s\n",
      "INFO - 23:50:49: worker thread finished; awaiting finish of 0 more threads\n",
      "INFO - 23:50:49: EPOCH - 7 : training on 129280 raw words (24760 effective words) took 0.5s, 53668 effective words/s\n",
      "INFO - 23:50:49: worker thread finished; awaiting finish of 0 more threads\n",
      "INFO - 23:50:49: EPOCH - 8 : training on 129280 raw words (24842 effective words) took 0.4s, 62439 effective words/s\n",
      "INFO - 23:50:50: worker thread finished; awaiting finish of 0 more threads\n",
      "INFO - 23:50:50: EPOCH - 9 : training on 129280 raw words (24782 effective words) took 0.3s, 71964 effective words/s\n",
      "INFO - 23:50:50: worker thread finished; awaiting finish of 0 more threads\n",
      "INFO - 23:50:50: EPOCH - 10 : training on 129280 raw words (25090 effective words) took 0.7s, 36819 effective words/s\n",
      "INFO - 23:50:51: worker thread finished; awaiting finish of 0 more threads\n",
      "INFO - 23:50:51: EPOCH - 11 : training on 129280 raw words (24997 effective words) took 0.7s, 34291 effective words/s\n",
      "INFO - 23:50:52: worker thread finished; awaiting finish of 0 more threads\n",
      "INFO - 23:50:52: EPOCH - 12 : training on 129280 raw words (24812 effective words) took 0.5s, 47413 effective words/s\n",
      "INFO - 23:50:52: worker thread finished; awaiting finish of 0 more threads\n",
      "INFO - 23:50:52: EPOCH - 13 : training on 129280 raw words (24904 effective words) took 0.3s, 83127 effective words/s\n",
      "INFO - 23:50:52: worker thread finished; awaiting finish of 0 more threads\n",
      "INFO - 23:50:52: EPOCH - 14 : training on 129280 raw words (24964 effective words) took 0.4s, 65040 effective words/s\n",
      "INFO - 23:50:53: worker thread finished; awaiting finish of 0 more threads\n",
      "INFO - 23:50:53: EPOCH - 15 : training on 129280 raw words (24813 effective words) took 0.3s, 77552 effective words/s\n",
      "INFO - 23:50:53: worker thread finished; awaiting finish of 0 more threads\n",
      "INFO - 23:50:53: EPOCH - 16 : training on 129280 raw words (24798 effective words) took 0.3s, 76364 effective words/s\n",
      "INFO - 23:50:53: worker thread finished; awaiting finish of 0 more threads\n",
      "INFO - 23:50:53: EPOCH - 17 : training on 129280 raw words (24811 effective words) took 0.2s, 104747 effective words/s\n",
      "INFO - 23:50:54: worker thread finished; awaiting finish of 0 more threads\n",
      "INFO - 23:50:54: EPOCH - 18 : training on 129280 raw words (24883 effective words) took 0.2s, 108313 effective words/s\n",
      "INFO - 23:50:54: worker thread finished; awaiting finish of 0 more threads\n",
      "INFO - 23:50:54: EPOCH - 19 : training on 129280 raw words (24938 effective words) took 0.2s, 103013 effective words/s\n",
      "INFO - 23:50:54: worker thread finished; awaiting finish of 0 more threads\n",
      "INFO - 23:50:54: EPOCH - 20 : training on 129280 raw words (24959 effective words) took 0.2s, 103448 effective words/s\n",
      "INFO - 23:50:54: worker thread finished; awaiting finish of 0 more threads\n",
      "INFO - 23:50:54: EPOCH - 21 : training on 129280 raw words (24923 effective words) took 0.2s, 106030 effective words/s\n",
      "INFO - 23:50:55: worker thread finished; awaiting finish of 0 more threads\n",
      "INFO - 23:50:55: EPOCH - 22 : training on 129280 raw words (24748 effective words) took 0.2s, 112205 effective words/s\n",
      "INFO - 23:50:55: worker thread finished; awaiting finish of 0 more threads\n",
      "INFO - 23:50:55: EPOCH - 23 : training on 129280 raw words (24785 effective words) took 0.2s, 105102 effective words/s\n",
      "INFO - 23:50:55: worker thread finished; awaiting finish of 0 more threads\n",
      "INFO - 23:50:55: EPOCH - 24 : training on 129280 raw words (24936 effective words) took 0.2s, 112677 effective words/s\n",
      "INFO - 23:50:55: worker thread finished; awaiting finish of 0 more threads\n",
      "INFO - 23:50:55: EPOCH - 25 : training on 129280 raw words (25060 effective words) took 0.2s, 118850 effective words/s\n",
      "INFO - 23:50:56: worker thread finished; awaiting finish of 0 more threads\n",
      "INFO - 23:50:56: EPOCH - 26 : training on 129280 raw words (24758 effective words) took 0.2s, 109310 effective words/s\n",
      "INFO - 23:50:56: worker thread finished; awaiting finish of 0 more threads\n",
      "INFO - 23:50:56: EPOCH - 27 : training on 129280 raw words (24864 effective words) took 0.2s, 110883 effective words/s\n",
      "INFO - 23:50:56: worker thread finished; awaiting finish of 0 more threads\n",
      "INFO - 23:50:56: EPOCH - 28 : training on 129280 raw words (25060 effective words) took 0.2s, 113710 effective words/s\n",
      "INFO - 23:50:56: worker thread finished; awaiting finish of 0 more threads\n",
      "INFO - 23:50:56: EPOCH - 29 : training on 129280 raw words (24871 effective words) took 0.2s, 128774 effective words/s\n",
      "INFO - 23:50:56: worker thread finished; awaiting finish of 0 more threads\n",
      "INFO - 23:50:56: EPOCH - 30 : training on 129280 raw words (24804 effective words) took 0.2s, 141690 effective words/s\n",
      "INFO - 23:50:56: training on a 3878400 raw words (746696 effective words) took 9.2s, 80986 effective words/s\n"
     ]
    },
    {
     "data": {
      "text/plain": [
       "(746696, 3878400)"
      ]
     },
     "execution_count": 117,
     "metadata": {},
     "output_type": "execute_result"
    }
   ],
   "source": [
    "###\n",
    "w2v_model2015 = Word2Vec(min_count=20,\n",
    "                     window=2,\n",
    "                     size=300,\n",
    "                     sample=6e-5, \n",
    "                     alpha=0.03, \n",
    "                     min_alpha=0.0007, \n",
    "                     negative=20,\n",
    "                     seed=1, workers=1)\n",
    "#          ##                         ##\n",
    "w2v_model2015.build_vocab(docs_phrased2015, progress_per=10000)\n",
    "\n",
    "##       ##                  ##                           ##\n",
    "w2v_model2015.train(docs_phrased2015, total_examples=w2v_model2015.corpus_count,\n",
    "                epochs=30, report_delay=1)"
   ]
  },
  {
   "cell_type": "markdown",
   "metadata": {},
   "source": [
    "# store the result"
   ]
  },
  {
   "cell_type": "code",
   "execution_count": 96,
   "metadata": {
    "ExecuteTime": {
     "end_time": "2020-08-11T15:25:39.822144Z",
     "start_time": "2020-08-11T15:25:39.816149Z"
    }
   },
   "outputs": [
    {
     "data": {
      "text/plain": [
       "0.15895611"
      ]
     },
     "execution_count": 96,
     "metadata": {},
     "output_type": "execute_result"
    }
   ],
   "source": [
    "#2019\n",
    "sim_2019 = w2v_model.wv.similarity('hybrid', 'electric')\n",
    "sim_2019"
   ]
  },
  {
   "cell_type": "code",
   "execution_count": 116,
   "metadata": {
    "ExecuteTime": {
     "end_time": "2020-08-11T15:47:31.022941Z",
     "start_time": "2020-08-11T15:47:31.013947Z"
    }
   },
   "outputs": [
    {
     "data": {
      "text/plain": [
       "0.15868296"
      ]
     },
     "execution_count": 116,
     "metadata": {},
     "output_type": "execute_result"
    }
   ],
   "source": [
    "#2019\n",
    "sim_2019 = w2v_model2019.wv.similarity('hybrid', 'electric')\n",
    "sim_2019"
   ]
  },
  {
   "cell_type": "code",
   "execution_count": 92,
   "metadata": {
    "ExecuteTime": {
     "end_time": "2020-08-11T15:24:50.937948Z",
     "start_time": "2020-08-11T15:24:50.930950Z"
    }
   },
   "outputs": [
    {
     "data": {
      "text/plain": [
       "0.21634841"
      ]
     },
     "execution_count": 92,
     "metadata": {},
     "output_type": "execute_result"
    }
   ],
   "source": [
    "#2018\n",
    "sim_2018 = w2v_model.wv.similarity('hybrid', 'electric')\n",
    "sim_2018"
   ]
  },
  {
   "cell_type": "code",
   "execution_count": 114,
   "metadata": {
    "ExecuteTime": {
     "end_time": "2020-08-11T15:46:06.393827Z",
     "start_time": "2020-08-11T15:46:06.385811Z"
    }
   },
   "outputs": [
    {
     "data": {
      "text/plain": [
       "0.18664798"
      ]
     },
     "execution_count": 114,
     "metadata": {},
     "output_type": "execute_result"
    }
   ],
   "source": [
    "#2018\n",
    "sim_2018 = w2v_model2018.wv.similarity('hybrid', 'electric')\n",
    "sim_2018"
   ]
  },
  {
   "cell_type": "code",
   "execution_count": 88,
   "metadata": {
    "ExecuteTime": {
     "end_time": "2020-08-11T15:24:02.081308Z",
     "start_time": "2020-08-11T15:24:02.072313Z"
    }
   },
   "outputs": [
    {
     "data": {
      "text/plain": [
       "0.2345172"
      ]
     },
     "execution_count": 88,
     "metadata": {},
     "output_type": "execute_result"
    }
   ],
   "source": [
    "#2017\n",
    "sim_2017 = w2v_model.wv.similarity('hybrid', 'electric')\n",
    "sim_2017"
   ]
  },
  {
   "cell_type": "code",
   "execution_count": 112,
   "metadata": {
    "ExecuteTime": {
     "end_time": "2020-08-11T15:45:08.899858Z",
     "start_time": "2020-08-11T15:45:08.891860Z"
    }
   },
   "outputs": [
    {
     "data": {
      "text/plain": [
       "0.18647859"
      ]
     },
     "execution_count": 112,
     "metadata": {},
     "output_type": "execute_result"
    }
   ],
   "source": [
    "#2017\n",
    "sim_2017 = w2v_model2017.wv.similarity('hybrid', 'electric')\n",
    "sim_2017"
   ]
  },
  {
   "cell_type": "code",
   "execution_count": 84,
   "metadata": {
    "ExecuteTime": {
     "end_time": "2020-08-11T15:23:19.243560Z",
     "start_time": "2020-08-11T15:23:19.235565Z"
    }
   },
   "outputs": [
    {
     "data": {
      "text/plain": [
       "-0.21172394"
      ]
     },
     "execution_count": 84,
     "metadata": {},
     "output_type": "execute_result"
    }
   ],
   "source": [
    "#2016\n",
    "sim_2016 = w2v_model.wv.similarity('hybrid', 'electric')\n",
    "sim_2016"
   ]
  },
  {
   "cell_type": "code",
   "execution_count": 110,
   "metadata": {
    "ExecuteTime": {
     "end_time": "2020-08-11T15:44:09.856404Z",
     "start_time": "2020-08-11T15:44:09.849408Z"
    }
   },
   "outputs": [
    {
     "data": {
      "text/plain": [
       "-0.2081947"
      ]
     },
     "execution_count": 110,
     "metadata": {},
     "output_type": "execute_result"
    }
   ],
   "source": [
    "#2016\n",
    "sim_2016 = w2v_model2016.wv.similarity('hybrid', 'electric')\n",
    "sim_2016"
   ]
  },
  {
   "cell_type": "code",
   "execution_count": 119,
   "metadata": {
    "ExecuteTime": {
     "end_time": "2020-08-11T15:51:30.798584Z",
     "start_time": "2020-08-11T15:51:30.791588Z"
    }
   },
   "outputs": [
    {
     "data": {
      "text/plain": [
       "0.08747892"
      ]
     },
     "execution_count": 119,
     "metadata": {},
     "output_type": "execute_result"
    }
   ],
   "source": [
    "#2015\n",
    "sim_2015 = w2v_model2015.wv.similarity('hybrid', 'electric')\n",
    "sim_2015"
   ]
  },
  {
   "cell_type": "code",
   "execution_count": 109,
   "metadata": {
    "ExecuteTime": {
     "end_time": "2020-08-11T15:44:01.981709Z",
     "start_time": "2020-08-11T15:44:01.975714Z"
    }
   },
   "outputs": [
    {
     "data": {
      "text/plain": [
       "0.08747892"
      ]
     },
     "execution_count": 109,
     "metadata": {},
     "output_type": "execute_result"
    }
   ],
   "source": [
    "#2015\n",
    "sim_2015 = w2v_model2015.wv.similarity('hybrid', 'electric')\n",
    "sim_2015"
   ]
  },
  {
   "cell_type": "code",
   "execution_count": 59,
   "metadata": {
    "ExecuteTime": {
     "end_time": "2020-08-11T15:09:39.717475Z",
     "start_time": "2020-08-11T15:09:39.711481Z"
    }
   },
   "outputs": [
    {
     "data": {
      "text/plain": [
       "-0.07088256"
      ]
     },
     "execution_count": 59,
     "metadata": {},
     "output_type": "execute_result"
    }
   ],
   "source": [
    "#overall\n",
    "sim_overall = w2v_model.wv.similarity('hybrid', 'electric')\n",
    "sim_overall"
   ]
  },
  {
   "cell_type": "code",
   "execution_count": 105,
   "metadata": {
    "ExecuteTime": {
     "end_time": "2020-08-11T15:39:56.603772Z",
     "start_time": "2020-08-11T15:39:56.590780Z"
    }
   },
   "outputs": [
    {
     "data": {
      "text/plain": [
       "-0.07405798"
      ]
     },
     "execution_count": 105,
     "metadata": {},
     "output_type": "execute_result"
    }
   ],
   "source": [
    "#overall\n",
    "sim_test = w2v_model.wv.similarity('hybrid', 'electric')\n",
    "sim_test"
   ]
  },
  {
   "cell_type": "markdown",
   "metadata": {},
   "source": [
    "# plot"
   ]
  },
  {
   "cell_type": "code",
   "execution_count": 2,
   "metadata": {
    "ExecuteTime": {
     "end_time": "2020-08-12T16:48:44.222657Z",
     "start_time": "2020-08-12T16:48:44.215662Z"
    }
   },
   "outputs": [],
   "source": [
    "import numpy as np\n",
    "import pandas as pd\n",
    "import matplotlib.pyplot as plt\n",
    "import matplotlib.cm as cm\n",
    "%matplotlib inline\n"
   ]
  },
  {
   "cell_type": "code",
   "execution_count": 121,
   "metadata": {
    "ExecuteTime": {
     "end_time": "2020-08-11T16:14:30.924843Z",
     "start_time": "2020-08-11T16:14:30.918862Z"
    }
   },
   "outputs": [],
   "source": [
    "year=['Overall',2015,2016,2017,2018,2019]"
   ]
  },
  {
   "cell_type": "code",
   "execution_count": 157,
   "metadata": {
    "ExecuteTime": {
     "end_time": "2020-08-11T16:31:30.542804Z",
     "start_time": "2020-08-11T16:31:30.536790Z"
    }
   },
   "outputs": [],
   "source": [
    "sim=[-0.071,0.087,-0.208,0.186,0.187,0.159]"
   ]
  },
  {
   "cell_type": "code",
   "execution_count": 158,
   "metadata": {
    "ExecuteTime": {
     "end_time": "2020-08-11T16:31:31.895011Z",
     "start_time": "2020-08-11T16:31:31.887014Z"
    }
   },
   "outputs": [],
   "source": [
    "df_plot=pd.DataFrame({'label':year,'similarity':sim})"
   ]
  },
  {
   "cell_type": "code",
   "execution_count": 159,
   "metadata": {
    "ExecuteTime": {
     "end_time": "2020-08-11T16:31:33.280215Z",
     "start_time": "2020-08-11T16:31:33.270222Z"
    }
   },
   "outputs": [
    {
     "data": {
      "text/html": [
       "<div>\n",
       "<style scoped>\n",
       "    .dataframe tbody tr th:only-of-type {\n",
       "        vertical-align: middle;\n",
       "    }\n",
       "\n",
       "    .dataframe tbody tr th {\n",
       "        vertical-align: top;\n",
       "    }\n",
       "\n",
       "    .dataframe thead th {\n",
       "        text-align: right;\n",
       "    }\n",
       "</style>\n",
       "<table border=\"1\" class=\"dataframe\">\n",
       "  <thead>\n",
       "    <tr style=\"text-align: right;\">\n",
       "      <th></th>\n",
       "      <th>label</th>\n",
       "      <th>similarity</th>\n",
       "    </tr>\n",
       "  </thead>\n",
       "  <tbody>\n",
       "    <tr>\n",
       "      <td>0</td>\n",
       "      <td>Overall</td>\n",
       "      <td>-0.071</td>\n",
       "    </tr>\n",
       "    <tr>\n",
       "      <td>1</td>\n",
       "      <td>2015</td>\n",
       "      <td>0.087</td>\n",
       "    </tr>\n",
       "    <tr>\n",
       "      <td>2</td>\n",
       "      <td>2016</td>\n",
       "      <td>-0.208</td>\n",
       "    </tr>\n",
       "    <tr>\n",
       "      <td>3</td>\n",
       "      <td>2017</td>\n",
       "      <td>0.186</td>\n",
       "    </tr>\n",
       "    <tr>\n",
       "      <td>4</td>\n",
       "      <td>2018</td>\n",
       "      <td>0.187</td>\n",
       "    </tr>\n",
       "    <tr>\n",
       "      <td>5</td>\n",
       "      <td>2019</td>\n",
       "      <td>0.159</td>\n",
       "    </tr>\n",
       "  </tbody>\n",
       "</table>\n",
       "</div>"
      ],
      "text/plain": [
       "     label  similarity\n",
       "0  Overall      -0.071\n",
       "1     2015       0.087\n",
       "2     2016      -0.208\n",
       "3     2017       0.186\n",
       "4     2018       0.187\n",
       "5     2019       0.159"
      ]
     },
     "execution_count": 159,
     "metadata": {},
     "output_type": "execute_result"
    }
   ],
   "source": [
    "df_plot"
   ]
  },
  {
   "cell_type": "code",
   "execution_count": 190,
   "metadata": {
    "ExecuteTime": {
     "end_time": "2020-08-11T16:48:09.775781Z",
     "start_time": "2020-08-11T16:48:09.769782Z"
    }
   },
   "outputs": [],
   "source": [
    "c_1=plt.cm.get_cmap('tab10')(1)\n",
    "c_2=plt.cm.get_cmap('tab10')(0)"
   ]
  },
  {
   "cell_type": "code",
   "execution_count": 195,
   "metadata": {
    "ExecuteTime": {
     "end_time": "2020-08-11T16:51:15.428961Z",
     "start_time": "2020-08-11T16:51:14.704377Z"
    }
   },
   "outputs": [
    {
     "data": {
      "image/png": "[encoded data removed]",
      "text/plain": [
       "<Figure size 432x288 with 1 Axes>"
      ]
     },
     "metadata": {
      "needs_background": "light"
     },
     "output_type": "display_data"
    }
   ],
   "source": [
    "fig, ax = plt.subplots(figsize=(6,4))\n",
    "\n",
    "bar_plot = plt.bar(x=[0, 1, 2, 3, 4, 5],\n",
    "                   height=df_plot.similarity.values.tolist(),\n",
    "                   data=df_plot,\n",
    "                   width=.5,\n",
    "                   tick_label=year,\n",
    "                   color=[c_1,c_2,c_2,c_2,c_2,c_2])\n",
    "\n",
    "\n",
    "ax.set_title('Level of Similarity between Hybrid and Electric',\n",
    "             fontdict=dict(size=12))\n",
    "#ax.set_xlabel('Topic')\n",
    "#ax.set_ylabel('Average Weights(%)')\n",
    "\n",
    "# grid\n",
    "ax.grid(True,axis='y', ls='--')\n",
    "\n",
    "# reference line\n",
    "ax.axhline( y=0,ls=\"--\",color=\"red\",linewidth=0.7)\n",
    "\n",
    "\n",
    "bar_label = df_plot.similarity.values.tolist()\n",
    "\n",
    "plt.ylim(-1, 1)\n",
    "\n",
    "\n",
    "def autolabel(rects):\n",
    "    for idx, rect in enumerate(bar_plot):\n",
    "        height = rect.get_height()\n",
    "        if height>0:\n",
    "            ax.text(rect.get_x() + rect.get_width() / 2.,\n",
    "                1.05 * height,\n",
    "                bar_label[idx],\n",
    "                ha='center',\n",
    "                va='bottom',\n",
    "                rotation=0)\n",
    "        else:\n",
    "            ax.text(rect.get_x() + rect.get_width() / 2.,\n",
    "            1.05 * height,\n",
    "            bar_label[idx],\n",
    "            ha='center',\n",
    "            va='top',\n",
    "            rotation=0)\n",
    "            \n",
    "\n",
    "\n",
    "autolabel(bar_plot)\n",
    "\n",
    "plt.savefig('Similarity64.pdf',\n",
    "            transparent=True,\n",
    "            bbox_inches='tight',\n",
    "            pad_inches=0)\n",
    "plt.show()"
   ]
  },
  {
   "cell_type": "code",
   "execution_count": 196,
   "metadata": {
    "ExecuteTime": {
     "end_time": "2020-08-12T11:17:48.838433Z",
     "start_time": "2020-08-12T11:17:48.714503Z"
    }
   },
   "outputs": [
    {
     "name": "stderr",
     "output_type": "stream",
     "text": [
      "D:\\Python\\Anaconda\\lib\\site-packages\\ipykernel_launcher.py:1: DeprecationWarning: Call to deprecated `__getitem__` (Method will be removed in 4.0.0, use self.wv.__getitem__() instead).\n",
      "  \"\"\"Entry point for launching an IPython kernel.\n"
     ]
    },
    {
     "data": {
      "text/plain": [
       "array([ 0.26285353,  0.29224837, -0.3217703 ,  0.23382588,  0.3423997 ,\n",
       "       -0.19915313,  0.45463613,  0.19657205, -0.4147094 ,  0.3397364 ,\n",
       "       -0.4676935 , -0.26713923,  0.41173902,  0.05282113, -0.06697675,\n",
       "       -0.13577084,  0.05224013,  0.6069899 , -0.11792807,  0.36473587,\n",
       "        0.2086238 , -0.19973665,  0.11779333, -0.16686559, -0.49483112,\n",
       "        0.3567665 , -0.02799941, -0.16077857,  0.40854988,  0.088838  ,\n",
       "       -0.22995092,  0.01189337,  0.43516156, -0.03633916, -0.08069453,\n",
       "       -0.1785701 ,  0.1426521 ,  0.00306699,  0.0159362 ,  0.06512081,\n",
       "       -0.05309048,  0.0862512 ,  0.21488312,  0.25097704,  0.14127009,\n",
       "        0.18774058, -0.07465655, -0.01800725,  0.3260477 ,  0.15244344,\n",
       "       -0.08687267,  0.03025587, -0.04395971, -0.18586159,  0.08551728,\n",
       "       -0.22130525, -0.23495401,  0.03418488, -0.07390089, -0.05678153,\n",
       "        0.13598013, -0.13698423, -0.03965495,  0.11112392,  0.21105455,\n",
       "        0.02034722,  0.24391615, -0.28721878,  0.09831403,  0.13019058,\n",
       "       -0.02740021,  0.37163538,  0.11740688, -0.19927797, -0.12224477,\n",
       "        0.15967976,  0.19773886,  0.19003677, -0.22213046, -0.04478471,\n",
       "        0.13020481, -0.02860797, -0.33745354, -0.10570466,  0.31893647,\n",
       "       -0.17283133, -0.6211185 ,  0.01343987,  0.42258748,  0.01363997,\n",
       "       -0.29233733,  0.1374005 ,  0.01339601, -0.13363872, -0.24251696,\n",
       "        0.05435875, -0.23837751, -0.25868213,  0.20181212,  0.3052121 ,\n",
       "       -0.1424281 , -0.48219118, -0.45944142,  0.34685043,  0.31673142,\n",
       "       -0.17289987, -0.19155483, -0.36092025,  0.11851136,  0.16645323,\n",
       "        0.24754228, -0.05499788,  0.405339  ,  0.03807057, -0.12862761,\n",
       "        0.39484748, -0.03735583, -0.22945215,  0.6631669 ,  0.03214832,\n",
       "        0.4261344 ,  0.09336088,  0.04861101, -0.05854401,  0.1427223 ,\n",
       "        0.04501177, -0.53186136, -0.43085012, -0.14987983, -0.2280006 ,\n",
       "       -0.03179392, -0.07236883,  0.3956167 , -0.1449337 , -0.15903845,\n",
       "       -0.10411502,  0.02559223,  0.11590704, -0.19719821, -0.09952932,\n",
       "        0.25843826,  0.33261454, -0.12408228,  0.15446222,  0.01077219,\n",
       "       -0.26607332,  0.24625608, -0.3265089 ,  0.04525331,  0.43520328,\n",
       "       -0.06411954,  0.09717246,  0.09264672, -0.05769975,  0.33523726,\n",
       "        0.03126295,  0.15681958,  0.15097412, -0.0535096 , -0.05437718,\n",
       "       -0.51766366, -0.09434037,  0.17197326,  0.14673598, -0.14532436,\n",
       "       -0.13728929, -0.14711682,  0.12629668, -0.2688484 ,  0.34775853,\n",
       "       -0.3049164 ,  0.22310556,  0.2587945 ,  0.07990313,  0.12840001,\n",
       "        0.15209757,  0.18393734, -0.06420466, -0.04103649,  0.07547604,\n",
       "       -0.18857339,  0.04525029,  0.19729285,  0.14387406,  0.27592   ,\n",
       "        0.16453473, -0.15909402, -0.07056698,  0.33893448,  0.09055871,\n",
       "       -0.44909224,  0.17272249, -0.00495394, -0.07218109,  0.21391515,\n",
       "        0.24492525, -0.04369092, -0.08489371, -0.08803509, -0.11547215,\n",
       "       -0.01311125, -0.1668508 , -0.2307405 ,  0.15834631, -0.2759895 ,\n",
       "       -0.04759758, -0.20086126, -0.13492417, -0.02528221, -0.37985814,\n",
       "        0.28493127,  0.21290855,  0.4865118 , -0.15395483,  0.29268938,\n",
       "        0.0969289 , -0.00284168, -0.40391612, -0.08864354, -0.0785172 ,\n",
       "       -0.34279057, -0.11454751,  0.10449875,  0.10536812, -0.2909094 ,\n",
       "       -0.67045397,  0.16679348,  0.10718717, -0.41893995, -0.22115742,\n",
       "       -0.01621133,  0.05936392, -0.31899223, -0.24713843,  0.3673036 ,\n",
       "        0.34694463,  0.28485155, -0.17395678, -0.1902776 ,  0.4045424 ,\n",
       "       -0.28046256, -0.15452908, -0.23597617, -0.1572371 ,  0.32217935,\n",
       "       -0.2725113 ,  0.03004621,  0.14065064, -0.17941366, -0.04520813,\n",
       "       -0.19858469, -0.14588854, -0.4414316 , -0.33943442,  0.07637325,\n",
       "        0.60388106, -0.01949055, -0.02220998,  0.538079  , -0.0524946 ,\n",
       "       -0.5092162 , -0.08533547, -0.42739713, -0.04295663,  0.49118719,\n",
       "        0.26476097, -0.54766136,  0.07622519,  0.02507301, -0.11556681,\n",
       "        0.38661835,  0.11261765,  0.23606096,  0.11455493,  0.44951752,\n",
       "        0.11370867,  0.23659272,  0.24002157,  0.04229506,  0.185617  ,\n",
       "        0.4504851 , -0.15164015,  0.05067288, -0.04432407,  0.22912578,\n",
       "        0.46277633,  0.20886758,  0.23356147, -0.1690124 ,  0.00310898,\n",
       "       -0.24912836,  0.21233985, -0.21329306, -0.13755402, -0.47236383,\n",
       "       -0.17137602, -0.10135191,  0.18339776,  0.11906958,  0.30441922],\n",
       "      dtype=float32)"
      ]
     },
     "execution_count": 196,
     "metadata": {},
     "output_type": "execute_result"
    }
   ],
   "source": [
    "w2v_model['hybrid']"
   ]
  },
  {
   "cell_type": "code",
   "execution_count": 197,
   "metadata": {
    "ExecuteTime": {
     "end_time": "2020-08-12T11:18:33.069489Z",
     "start_time": "2020-08-12T11:18:33.053500Z"
    }
   },
   "outputs": [
    {
     "name": "stderr",
     "output_type": "stream",
     "text": [
      "D:\\Python\\Anaconda\\lib\\site-packages\\ipykernel_launcher.py:1: DeprecationWarning: Call to deprecated `__getitem__` (Method will be removed in 4.0.0, use self.wv.__getitem__() instead).\n",
      "  \"\"\"Entry point for launching an IPython kernel.\n"
     ]
    },
    {
     "data": {
      "text/plain": [
       "array([-0.03592358, -0.18397458, -0.04713145,  0.47179678,  0.20052938,\n",
       "       -0.04018774,  0.30360115,  0.3292805 , -0.1992667 , -0.19160594,\n",
       "       -0.00220537,  0.56817216, -0.13962436,  0.03738423, -0.33631086,\n",
       "        0.40666005, -0.29595602, -0.2897487 , -0.03811299,  0.04209531,\n",
       "       -0.11027315, -0.08113853,  0.1419533 ,  0.12502608,  0.08593385,\n",
       "       -0.01335818, -0.27385637, -0.08444131, -0.08751336,  0.26976374,\n",
       "        0.01543709, -0.01233954,  0.0560229 ,  0.01837171, -0.06442425,\n",
       "        0.12623684,  0.10978495, -0.41647047, -0.0665739 , -0.00760091,\n",
       "        0.11699233, -0.10330258,  0.09652563,  0.10880841, -0.2652454 ,\n",
       "       -0.1625433 , -0.12639883,  0.03433451, -0.40936205,  0.13858043,\n",
       "       -0.13090083, -0.16545063, -0.03185921, -0.22125956,  0.1258937 ,\n",
       "       -0.10052616, -0.08884344, -0.08695153,  0.20908588, -0.02727928,\n",
       "        0.43493873, -0.03611684,  0.13124245,  0.2690188 ,  0.04565503,\n",
       "       -0.26416317,  0.13068183,  0.05672444,  0.15310928, -0.11772659,\n",
       "        0.18291219,  0.2959679 , -0.146421  ,  0.12230749, -0.04210344,\n",
       "       -0.00721465,  0.2613882 , -0.00956166,  0.32355392,  0.04586143,\n",
       "        0.09787305,  0.2891234 ,  0.12107114,  0.1372053 , -0.03298495,\n",
       "        0.08722255,  0.1399495 ,  0.15563276,  0.00752876, -0.11231707,\n",
       "       -0.0757645 , -0.48168847, -0.8461399 ,  0.01926094,  0.06638718,\n",
       "        0.70693594, -0.27264914, -0.10845838, -0.06803995,  0.00865566,\n",
       "       -0.19327335, -0.13473499,  0.00180523,  0.09359632, -0.18878077,\n",
       "        0.06329892, -0.10565224,  0.01108129,  0.2593603 , -0.04339594,\n",
       "       -0.08034335, -0.25675994,  0.04256913,  0.22314997,  0.31054097,\n",
       "        0.25774172, -0.07819666,  0.18016961, -0.03174494,  0.01878328,\n",
       "       -0.15349603, -0.0340778 ,  0.0240814 ,  0.03246493,  0.00143944,\n",
       "       -0.02490941,  0.3485598 ,  0.36694732,  0.373228  , -0.0075489 ,\n",
       "       -0.08719588,  0.07473908,  0.05170151, -0.08513073,  0.48092023,\n",
       "        0.06117438,  0.04163793,  0.24956094,  0.19853805, -0.11568831,\n",
       "       -0.13710815, -0.1750197 , -0.2856432 ,  0.24444981,  0.13111198,\n",
       "        0.27819487, -0.3400409 , -0.28732476,  0.1766119 , -0.3525759 ,\n",
       "       -0.10602987,  0.09292581,  0.38560897,  0.34875208,  0.17914267,\n",
       "        0.48605236, -0.06609904, -0.17067645, -0.11329203,  0.15743744,\n",
       "        0.4027924 , -0.0894538 , -0.01624261,  0.29856485, -0.2047772 ,\n",
       "        0.01125826,  0.03565498, -0.01456983,  0.07788697, -0.11310151,\n",
       "        0.6416981 , -0.10141136, -0.36579376,  0.15273406,  0.20250182,\n",
       "       -0.00107545,  0.10385647, -0.2964546 ,  0.02730287, -0.10622624,\n",
       "        0.02945478, -0.12776527, -0.01918014,  0.21324314,  0.05493847,\n",
       "        0.03015731,  0.12057941, -0.02371522, -0.15164371, -0.04930935,\n",
       "       -0.0336739 ,  0.18256119,  0.28234076, -0.06396082,  0.15488721,\n",
       "        0.1997409 , -0.351926  , -0.2194882 , -0.09770138,  0.1542342 ,\n",
       "       -0.30257046,  0.22824341, -0.23018774, -0.22157934, -0.37977743,\n",
       "       -0.10289312, -0.10085994, -0.0800261 , -0.08922911,  0.28097364,\n",
       "       -0.18608204,  0.30889094,  0.3739988 , -0.12490774,  0.44155997,\n",
       "       -0.27366063, -0.49004516,  0.3009292 , -0.23664072,  0.17513758,\n",
       "        0.2524912 , -0.6083658 ,  0.14326438,  0.3090411 ,  0.03951058,\n",
       "        0.02047481, -0.03409391, -0.00890299,  0.19901553, -0.06016139,\n",
       "       -0.12109691, -0.02186882, -0.01125329,  0.00436899, -0.04363814,\n",
       "       -0.19366425,  0.20187785,  0.10592016, -0.04586   , -0.17517668,\n",
       "        0.23782182, -0.08190858, -0.07867654,  0.06538893,  0.16319783,\n",
       "        0.18160623,  0.32781836, -0.01185287, -0.12892064, -0.48708433,\n",
       "        0.48302424, -0.3644765 ,  0.15831777,  0.00370221,  0.22029327,\n",
       "       -0.16095836, -0.25763214, -0.14305587,  0.03950792, -0.08131284,\n",
       "        0.07427404, -0.30046442, -0.18557326,  0.27277476,  0.07081544,\n",
       "        0.36484432,  0.19394313,  0.04948923,  0.4358119 ,  0.19211109,\n",
       "        0.13516699,  0.06871212,  0.02624549, -0.36681443, -0.13886242,\n",
       "       -0.10111348, -0.22043405, -0.01897811,  0.4257416 ,  0.40464774,\n",
       "       -0.2255249 , -0.3404876 , -0.5747382 ,  0.20824888, -0.07863583,\n",
       "       -0.2059475 ,  0.0604836 , -0.10185666, -0.13513534,  0.0156901 ,\n",
       "       -0.08048906, -0.08977084, -0.21434128, -0.29770714, -0.04372666,\n",
       "       -0.2821905 ,  0.13959226,  0.04872221, -0.10538325, -0.354368  ],\n",
       "      dtype=float32)"
      ]
     },
     "execution_count": 197,
     "metadata": {},
     "output_type": "execute_result"
    }
   ],
   "source": [
    "w2v_model['electric']"
   ]
  },
  {
   "cell_type": "code",
   "execution_count": 199,
   "metadata": {
    "ExecuteTime": {
     "end_time": "2020-08-12T11:19:08.807362Z",
     "start_time": "2020-08-12T11:19:08.777380Z"
    }
   },
   "outputs": [
    {
     "name": "stderr",
     "output_type": "stream",
     "text": [
      "D:\\Python\\Anaconda\\lib\\site-packages\\ipykernel_launcher.py:1: DeprecationWarning: Call to deprecated `__getitem__` (Method will be removed in 4.0.0, use self.wv.__getitem__() instead).\n",
      "  \"\"\"Entry point for launching an IPython kernel.\n",
      "D:\\Python\\Anaconda\\lib\\site-packages\\ipykernel_launcher.py:2: DeprecationWarning: Call to deprecated `__getitem__` (Method will be removed in 4.0.0, use self.wv.__getitem__() instead).\n",
      "  \n"
     ]
    },
    {
     "name": "stdout",
     "output_type": "stream",
     "text": [
      "[-0.01356191 -0.02827392  0.17146793  0.00758553  0.13079906  0.19204265\n",
      "  0.13056566 -0.06946516 -0.02740493 -0.41040266 -0.26495242  0.17044097\n",
      " -0.02114746 -0.01063795  0.07078057 -0.08061524 -0.06198794  0.20834026\n",
      "  0.19740064 -0.00600727  0.0038416   0.02067785  0.02336756 -0.1532106\n",
      " -0.13855262 -0.1221999  -0.17107072  0.08178256 -0.14565085 -0.04768481\n",
      "  0.00221492 -0.03869429 -0.02959222 -0.28352687  0.16191283 -0.04320623\n",
      " -0.17191082  0.01921806 -0.17780621 -0.05761936  0.10990572 -0.08247159\n",
      " -0.07303859 -0.06659503  0.09550124  0.05610394 -0.02751065  0.07379197\n",
      "  0.05455833  0.19106163 -0.14088653  0.01363785 -0.12560369 -0.01557236\n",
      "  0.14611773  0.20368008 -0.0291382   0.03656586 -0.12277623 -0.05044591\n",
      "  0.17544165  0.01926721 -0.18917836 -0.10509381  0.07127793 -0.22824077\n",
      " -0.15977909  0.09841803  0.02765787  0.23031844 -0.009523   -0.02144638\n",
      "  0.07640731  0.10867704 -0.02279152  0.02208633 -0.22096255  0.0839164\n",
      "  0.17391948  0.04437415 -0.08905394  0.07394045  0.02548698 -0.00116304\n",
      " -0.0599216   0.26184076 -0.0055405   0.06905217 -0.10846531  0.05937883\n",
      " -0.03919455  0.13110176  0.0751057   0.32662293  0.16125487  0.19308878\n",
      " -0.06834629  0.01721419  0.13957846  0.47826764 -0.08504315 -0.07446688\n",
      " -0.19580345  0.12143771  0.06606308 -0.04983368 -0.24734463  0.01066647\n",
      " -0.01486468  0.11045823  0.04727232 -0.05047752  0.0898419   0.14673948\n",
      "  0.22475377  0.0655231  -0.14792442 -0.04435936  0.21318345  0.09541447\n",
      "  0.11536738 -0.11152876 -0.14902394  0.07586667  0.15559012 -0.08603838\n",
      " -0.1264275  -0.1562194   0.05686405 -0.12816204  0.12449371  0.20761722\n",
      "  0.0474303  -0.16337189 -0.12380325  0.0889097  -0.29861367  0.15346913\n",
      " -0.19298656 -0.01523359  0.20600991 -0.07707302 -0.05601827  0.02318728\n",
      "  0.03326758 -0.10616761 -0.02221518 -0.24483454 -0.02735347  0.04982577\n",
      "  0.19990095  0.04285616  0.09353741 -0.0702752   0.0601733  -0.30828157\n",
      " -0.2015496   0.08041431 -0.06496375 -0.02450076 -0.2019808   0.14063795\n",
      "  0.03629065 -0.12340382 -0.06986558  0.01956013 -0.01914981  0.06245955\n",
      "  0.3843089  -0.05451997  0.16095608 -0.01475171  0.1943047  -0.07378756\n",
      "  0.24434592  0.1399581   0.15081003 -0.0457046  -0.15174572  0.00908672\n",
      " -0.11886528 -0.00825305  0.09628758 -0.1656377   0.04870097  0.06832237\n",
      " -0.33309668  0.04967806 -0.25138122 -0.12773699  0.09278712  0.09126128\n",
      " -0.14805779  0.12416258  0.2984751   0.0820122  -0.04844166 -0.07553167\n",
      " -0.04975925  0.26813462 -0.0810064   0.17259079 -0.25380698 -0.06877477\n",
      " -0.15037476 -0.10541833 -0.10221575  0.07105368 -0.26080644 -0.01573356\n",
      " -0.16525465 -0.05738797 -0.023734    0.19480377 -0.07151888 -0.04997483\n",
      " -0.22743906  0.02623964  0.08945087 -0.1180722  -0.11265178 -0.22955735\n",
      " -0.09731387  0.18430036  0.08780558 -0.04009351 -0.03495211 -0.10344329\n",
      " -0.39482597 -0.00987135 -0.0187398   0.04354167 -0.04530566  0.0056905\n",
      "  0.02566951  0.37285393  0.26407912 -0.16251941 -0.20589076 -0.105986\n",
      "  0.01682131 -0.14350964 -0.21368451 -0.08004139  0.17247495  0.26728073\n",
      " -0.06506802  0.11812227 -0.10388258 -0.24318379  0.18032941 -0.07942213\n",
      " -0.01758781 -0.04568242  0.2047073   0.2717651   0.02831622  0.04508571\n",
      "  0.29818007 -0.06131636 -0.05081788 -0.11219028 -0.1521377   0.11125866\n",
      "  0.09227107  0.22823162 -0.10840179  0.0632559  -0.1586252  -0.19134924\n",
      "  0.03472834  0.07489467  0.24564385 -0.0581232  -0.07455738  0.12529302\n",
      " -0.15491417 -0.03527728  0.16273358  0.21694416  0.14525618 -0.05988412\n",
      "  0.09038741  0.10661449 -0.1314232   0.06861874 -0.05898754  0.19508928\n",
      " -0.144523    0.08663134 -0.22817345  0.46055844 -0.10371042  0.01952674\n",
      " -0.02037703 -0.1880004  -0.26956728 -0.160601    0.1517134   0.09222192] [-6.33747503e-02 -2.08722949e-02 -2.28473078e-02 -7.56701231e-02\n",
      "  2.48985458e-03 -5.68075255e-02 -8.36722627e-02 -1.70026310e-02\n",
      " -5.87411337e-02 -2.58345336e-01  4.16435003e-02  2.73994982e-01\n",
      " -1.08807459e-01  7.15650544e-02 -9.16677192e-02 -1.56437114e-01\n",
      "  2.21472964e-01 -1.74343050e-01  2.97366619e-01  7.65267387e-02\n",
      " -5.20108193e-02  2.03501284e-01 -1.16706550e-01 -1.29544005e-01\n",
      "  6.87635094e-02 -6.22216761e-02 -5.06982999e-03  1.39027968e-01\n",
      "  1.83153719e-01 -2.63763301e-04  8.71400759e-02 -3.97783816e-01\n",
      " -2.19541043e-03 -2.19704658e-01 -8.47503841e-02  5.78523092e-02\n",
      " -5.04079200e-02 -8.03932622e-02  2.15580642e-01 -2.66274869e-01\n",
      "  1.12306662e-01 -1.48594916e-01 -9.97455716e-02 -1.94919601e-01\n",
      " -2.39183158e-01 -9.56373736e-02  2.16208905e-01  1.52407631e-01\n",
      " -2.48461347e-02 -1.38510298e-02  9.68110114e-02 -1.33106261e-01\n",
      "  5.13584435e-01 -2.12440282e-01 -4.07036245e-02 -2.23630592e-01\n",
      " -7.55995288e-02  8.92404243e-02 -1.91273727e-02  1.39125027e-02\n",
      "  1.26811579e-01 -1.21580929e-01 -2.17436701e-02  2.68022530e-02\n",
      "  1.14842936e-01 -2.68427044e-01 -4.47435409e-01 -5.21878852e-03\n",
      " -1.41504347e-01 -8.03540833e-03  1.70653343e-01  2.47864183e-02\n",
      "  1.49106085e-01  2.06544921e-01 -1.06607683e-01  1.03317514e-01\n",
      "  7.18128085e-02 -5.97042069e-02  2.01115713e-01 -9.73971114e-02\n",
      " -2.70865895e-02  6.55400604e-02 -1.03956519e-03  1.10018581e-01\n",
      " -2.60347158e-01  4.73043434e-02 -6.02886528e-02  4.54588607e-02\n",
      "  1.46690786e-01 -7.93477595e-02 -2.64916837e-01 -2.05514543e-02\n",
      " -2.79510226e-02 -1.58190876e-01 -1.67478397e-01  5.88289388e-02\n",
      "  1.65040746e-01 -2.41998672e-01  3.47235613e-02  7.37290978e-02\n",
      " -1.01045564e-01 -5.22184297e-02  8.28921795e-02 -8.49452019e-02\n",
      " -9.13125426e-02  7.56647810e-02 -1.52880251e-01 -4.99954037e-02\n",
      " -1.15528338e-01 -6.24076985e-02  3.09215665e-01 -1.90444514e-01\n",
      " -3.06576900e-02  3.65414359e-02 -1.60667479e-01 -2.27689147e-02\n",
      "  6.51982874e-02  5.59849069e-02 -3.29888240e-02 -3.49856168e-02\n",
      "  2.05570683e-01  2.55344100e-02  1.45893190e-02  8.96559060e-02\n",
      " -5.79694100e-02 -2.15301458e-02  1.46304622e-01 -1.15393832e-01\n",
      "  1.48422092e-01  1.26321271e-01  1.05109671e-02  6.12303466e-02\n",
      "  2.79683888e-01  6.02249391e-02  1.93326399e-02  3.58943604e-02\n",
      " -1.13428626e-02 -4.42189611e-02  1.48166910e-01 -7.93640167e-02\n",
      "  1.79368049e-01  3.35392123e-03  7.43133947e-02 -6.51947260e-02\n",
      "  3.48695479e-02  1.93820879e-01 -9.89331398e-03 -1.33615375e-01\n",
      "  1.47888556e-01 -1.10123955e-01 -4.05496992e-02  8.92170593e-02\n",
      " -1.39173448e-01  4.14852761e-02 -1.04974315e-01  1.63102791e-01\n",
      " -1.30028591e-01  2.26281285e-02 -3.12580355e-02 -1.78863213e-03\n",
      "  2.13667274e-01 -1.03273883e-01 -6.35647622e-04  2.84146637e-01\n",
      "  1.70723453e-01  1.13734633e-01  7.46004656e-02  1.38227820e-01\n",
      " -3.21916252e-01 -2.11860940e-01  3.98934707e-02 -1.37027010e-01\n",
      " -4.58691157e-02  1.17331177e-01 -5.05123213e-02  4.00144886e-03\n",
      "  2.55858660e-01  1.31961897e-01  1.78304035e-02  4.04278561e-02\n",
      "  5.44608273e-02  5.67788817e-02 -5.48010878e-02  1.51297688e-01\n",
      "  2.39901729e-02  2.46395186e-01 -1.07294351e-01 -7.24737272e-02\n",
      " -4.26219739e-02 -6.88687116e-02  4.32334431e-02 -9.86663178e-02\n",
      " -3.50819945e-01  1.26598505e-02  1.83088630e-01  2.56135706e-02\n",
      "  5.83187267e-02  8.84467065e-02 -8.02114680e-02  3.78906876e-02\n",
      " -3.36924374e-01  9.43956524e-02  1.01001173e-01 -3.76985997e-01\n",
      "  2.29195967e-01  9.16101485e-02  8.98156166e-02  1.09578907e-01\n",
      " -1.20620549e-01  3.08669537e-01 -1.28446683e-01  2.21319810e-01\n",
      "  3.78500462e-01 -4.66069542e-02 -2.40944084e-02  1.29094779e-01\n",
      " -1.21001065e-01  1.53546780e-01  1.39641138e-02 -1.56154841e-01\n",
      " -5.34402244e-02 -2.54700124e-01  1.08160734e-01  4.02175784e-02\n",
      " -3.49705964e-01 -3.35480422e-01 -3.00356060e-01 -2.17632324e-01\n",
      "  2.23164763e-02 -1.53292492e-01 -3.09828781e-02 -1.80909246e-01\n",
      "  2.48573944e-01  3.76973152e-02 -8.73304978e-02  4.03646305e-02\n",
      "  2.74727773e-02  2.76217520e-01  6.28850795e-03 -1.29257649e-01\n",
      "  6.63878843e-02 -1.15061700e-01 -1.25185475e-01  2.69784946e-02\n",
      " -2.16484994e-01  2.38387555e-01  2.66161170e-02  1.44452825e-01\n",
      " -2.09815770e-01 -2.89603293e-01  3.26416567e-02  1.37333155e-01\n",
      "  5.26788756e-02  9.64149609e-02 -1.00389339e-01 -7.94727951e-02\n",
      " -4.49845016e-01 -2.19959989e-02 -9.09420177e-02  3.30401585e-02\n",
      "  1.26000807e-01 -2.14841664e-01  1.17311597e-01  1.98259041e-01\n",
      "  3.14091414e-01  1.29553333e-01 -1.71878457e-01  2.36464575e-01\n",
      " -3.47321741e-02  4.78050672e-02  2.48776898e-01 -4.89291772e-02\n",
      "  6.79575279e-02 -2.34599590e-01  1.50049344e-01  2.30238438e-01\n",
      "  1.47627220e-01 -2.32929568e-04 -1.93501934e-01  9.24023837e-02\n",
      " -1.15490258e-01  1.54811054e-01 -1.22021079e-01  1.22991912e-01\n",
      " -7.35684484e-02 -7.01614283e-03 -2.07627304e-02  2.60164700e-02\n",
      "  1.17860384e-01  1.39487594e-01  1.30767003e-01 -6.58940971e-02\n",
      " -8.62503573e-02 -2.36196682e-01  1.24343269e-01 -2.78324157e-01\n"
     ]
    },
    {
     "name": "stdout",
     "output_type": "stream",
     "text": [
      " -1.30836084e-01 -2.56647795e-01  2.54826576e-01 -5.22134453e-02]\n"
     ]
    }
   ],
   "source": [
    "print(w2v_model2015['hybrid'],\n",
    "w2v_model2015['electric'])"
   ]
  },
  {
   "cell_type": "code",
   "execution_count": 200,
   "metadata": {
    "ExecuteTime": {
     "end_time": "2020-08-12T11:19:37.604968Z",
     "start_time": "2020-08-12T11:19:37.567990Z"
    }
   },
   "outputs": [
    {
     "name": "stderr",
     "output_type": "stream",
     "text": [
      "D:\\Python\\Anaconda\\lib\\site-packages\\ipykernel_launcher.py:1: DeprecationWarning: Call to deprecated `__getitem__` (Method will be removed in 4.0.0, use self.wv.__getitem__() instead).\n",
      "  \"\"\"Entry point for launching an IPython kernel.\n",
      "D:\\Python\\Anaconda\\lib\\site-packages\\ipykernel_launcher.py:2: DeprecationWarning: Call to deprecated `__getitem__` (Method will be removed in 4.0.0, use self.wv.__getitem__() instead).\n",
      "  \n"
     ]
    },
    {
     "name": "stdout",
     "output_type": "stream",
     "text": [
      "[ 3.85875888e-02 -6.29374087e-02  2.92818099e-01 -2.46329457e-01\n",
      "  7.50472918e-02 -2.90837109e-01  1.58123255e-01 -4.70494747e-01\n",
      " -1.92893948e-02  2.74373125e-02  5.23814820e-02 -1.68119028e-01\n",
      "  1.24741711e-01  8.92618671e-02  3.52590114e-01 -2.58347780e-01\n",
      "  2.40678012e-01  2.57976562e-01 -1.58900008e-01  2.75569886e-01\n",
      "  2.58799158e-02 -1.29931733e-01 -2.29911685e-01  7.17225522e-02\n",
      " -2.06030130e-01  3.67539525e-02  1.78952575e-01  9.48122218e-02\n",
      "  3.87600541e-01  2.51014620e-01 -4.11723137e-01  8.49637948e-03\n",
      "  1.94200575e-01 -3.47905606e-01  3.28007042e-01  1.15274154e-01\n",
      "  5.75541183e-02 -2.42990721e-02 -5.05310774e-01  1.78275090e-02\n",
      " -8.41205269e-02 -5.57033308e-02 -2.31343910e-01  8.03395361e-02\n",
      "  2.13688500e-02 -2.59271443e-01 -9.95014086e-02  6.84301138e-01\n",
      "  3.54159683e-01  1.37907505e-01  6.23424761e-02 -2.08776385e-01\n",
      "  2.27169171e-02  1.44789293e-01 -1.44677222e-01  1.65199980e-01\n",
      "  5.17283985e-03 -1.52623832e-01  2.45874573e-04 -2.51913249e-01\n",
      " -2.05302760e-01 -1.10403873e-01 -1.99460909e-01 -3.93176019e-01\n",
      "  5.11203706e-02  3.13551694e-01 -5.17699532e-02 -3.42488028e-02\n",
      "  5.19217215e-02  1.39056325e-01  9.49747562e-02  2.37336800e-01\n",
      " -1.36336222e-01  1.25405565e-01  2.40803808e-02  4.14936393e-01\n",
      " -1.32671401e-01 -1.70291867e-02  2.18416452e-02  9.78220999e-02\n",
      " -1.85114637e-01 -2.23310396e-01 -7.64298961e-02 -2.63746232e-01\n",
      " -2.37518087e-01  3.79638940e-01  1.61364123e-01 -2.31076509e-01\n",
      "  1.15986606e-02  1.70266390e-01 -4.87804599e-02 -1.94890901e-01\n",
      "  1.17305808e-01 -1.49964452e-01 -1.60521582e-01  1.04838416e-01\n",
      " -1.79133952e-01  3.83316308e-01 -1.70173347e-01  1.82795927e-01\n",
      "  1.55364126e-01 -8.21173638e-02 -3.77116464e-02 -1.90318391e-01\n",
      "  2.57749353e-02 -3.86758059e-01 -7.81231048e-03 -1.66370153e-01\n",
      "  5.08050099e-02  1.21426851e-01  6.11224733e-02 -1.55643463e-01\n",
      "  1.16322957e-01  2.65959222e-02 -6.50885254e-02 -3.35611045e-01\n",
      " -2.72386611e-01 -1.40437588e-01  1.98119417e-01  7.79889524e-02\n",
      " -3.51979844e-02 -2.46281773e-01  2.33460456e-01  3.77551436e-01\n",
      "  1.61677003e-02  3.52252156e-01 -3.11837763e-01 -4.20099683e-03\n",
      "  5.23525700e-02 -9.57395583e-02  2.28940681e-01 -2.77140826e-01\n",
      "  6.08324483e-02  4.45784777e-02 -3.97588402e-01 -2.07829520e-01\n",
      " -1.55521601e-01  2.60154784e-01 -5.57619594e-02 -8.87730271e-02\n",
      "  1.73971847e-01 -1.56315621e-02 -2.24469453e-01 -7.93899596e-02\n",
      " -4.84537393e-01  8.24158359e-03  1.79810181e-01  1.24106174e-02\n",
      " -8.26392397e-02  4.75020587e-01  1.31709680e-01  1.24814920e-01\n",
      " -6.56495243e-02  1.58112049e-01 -7.25344643e-02 -2.61131942e-01\n",
      "  6.88900873e-02 -3.96801643e-02 -1.14651754e-01  6.48349570e-03\n",
      "  5.06021548e-03  4.28074300e-02  2.36977026e-01  2.80610114e-01\n",
      " -1.19793043e-01 -2.41424203e-01 -4.25016657e-02  5.70653751e-02\n",
      "  2.11848885e-01  3.96505624e-01  1.20949477e-01  2.73594528e-01\n",
      " -1.79881394e-01  1.24018051e-01  3.03466618e-01  1.64505038e-02\n",
      " -5.83584346e-02  1.39189318e-01  8.95695947e-03  1.03161693e-01\n",
      " -1.15818717e-01  8.78982022e-02  5.40278964e-02 -5.59479855e-02\n",
      " -1.75191268e-01 -6.10452183e-02 -3.29254240e-01  9.47172404e-04\n",
      "  1.34485483e-01  6.19398616e-02 -3.23394611e-02  6.79360554e-02\n",
      " -1.78459913e-01  2.40262244e-02 -2.18751177e-01 -6.33070990e-03\n",
      " -3.32589298e-01 -4.37721657e-03  3.36910337e-02 -1.21525638e-01\n",
      "  5.40345348e-02 -6.00696281e-02 -9.64921191e-02  1.75059766e-01\n",
      "  4.60707247e-01 -2.27565974e-01 -1.79906249e-01 -4.65599418e-01\n",
      "  2.47313872e-01 -3.26601416e-01  6.02968335e-02 -1.99868411e-01\n",
      " -2.62530088e-01  1.93344876e-01 -5.05444348e-01 -4.92850304e-01\n",
      " -3.90952341e-02 -3.24350335e-02 -8.66272748e-02  5.76715730e-02\n",
      "  1.76339179e-01  5.38504645e-02  6.06666356e-02  6.43245637e-01\n",
      " -1.27497893e-02 -1.50690228e-01  2.00237215e-01  2.19878152e-01\n",
      " -1.36304185e-01 -9.37141329e-02 -1.31762237e-04 -9.64863896e-02\n",
      " -7.98583925e-02  9.58982110e-02  1.71069235e-01  3.86976510e-01\n",
      " -2.59497613e-02 -2.75307536e-01 -1.43452272e-01  4.86000270e-01\n",
      "  3.54377627e-01  1.97078241e-03 -7.04749897e-02 -1.19379729e-01\n",
      " -1.65561810e-01 -7.65435696e-02  3.23804528e-01  3.25564384e-01\n",
      "  7.06486730e-03  4.11997503e-03 -1.16451740e-01  4.37527716e-01\n",
      " -2.12129682e-01  8.65721726e-04  1.90168515e-01 -6.66400641e-02\n",
      " -2.15397567e-01 -9.64861587e-02 -1.27319664e-01  2.78975628e-02\n",
      " -1.96085140e-01  1.69012964e-01 -1.72414541e-01  2.17717603e-01\n",
      "  1.13434248e-01  2.85694152e-01  1.66232556e-01 -9.93952341e-03\n",
      " -1.19421251e-01 -2.59156793e-01  3.85785364e-02 -8.23283568e-03\n",
      " -1.92743372e-02  3.19490395e-02  3.14815268e-02  2.23947734e-01\n",
      " -3.33969221e-02 -2.03230485e-01 -2.21587509e-01 -4.13449621e-03\n",
      " -2.10409716e-01 -2.70104498e-01  2.39583775e-01 -3.48564804e-01\n",
      " -2.40806993e-02  3.58722135e-02 -3.94085571e-02 -3.71486098e-01\n",
      " -1.74793139e-01  1.11402139e-01 -9.30616483e-02 -6.02886379e-02\n",
      " -1.71090230e-01  1.33779608e-02 -3.06621790e-01  3.58415544e-01\n",
      " -1.41490161e-01  1.15082353e-01  1.74755871e-01  1.78134218e-01] [-0.07410339  0.02012174 -0.16862479  0.30749232 -0.4018699  -0.19455428\n",
      "  0.08045835  0.1823715  -0.09071761  0.05993646  0.23498914  0.20742029\n",
      "  0.02344502 -0.1286997  -0.29578292  0.32852313  0.20476134 -0.31343812\n",
      "  0.3527342   0.10083658  0.2367965   0.21992174  0.19745721 -0.09239475\n",
      " -0.12464279 -0.04182435  0.12207991 -0.15327485 -0.20303868 -0.3035452\n",
      "  0.24221921 -0.26336277  0.05245686 -0.07879994  0.19128299 -0.0874319\n",
      "  0.081838    0.06143171 -0.04451167 -0.2956106  -0.0376641   0.13130079\n",
      "  0.28656638 -0.03534236 -0.14801984  0.03791007 -0.16754973 -0.27398467\n",
      " -0.39938518  0.19877236 -0.38217    -0.03803905  0.08563223 -0.16366622\n",
      "  0.04606165  0.03140252 -0.1354083  -0.1754634  -0.24784186  0.17447452\n",
      "  0.05484458  0.01711275 -0.25794205 -0.14125602 -0.1492852  -0.04501755\n",
      "  0.19333379 -0.00629087  0.12609626 -0.00693498 -0.06056138  0.02382112\n",
      " -0.08651242 -0.18653676 -0.05638621  0.54606915 -0.15498048  0.1991739\n",
      "  0.2442793   0.06370783  0.12278416  0.10212783  0.15452106 -0.1296613\n",
      "  0.12661877  0.02280449  0.04461108 -0.25310242  0.03079241  0.07704509\n",
      " -0.02695001 -0.15340437 -0.00085327  0.14146437 -0.14127399  0.14842166\n",
      " -0.02544962  0.01356502  0.11698394 -0.22381009 -0.11778598  0.23924546\n",
      " -0.08262382 -0.29051405 -0.18540502  0.06296828 -0.0277476   0.22368781\n",
      "  0.190081   -0.01824603  0.31185293 -0.04006286  0.01352439  0.084928\n",
      "  0.20075892  0.2105435   0.08104671  0.09734069 -0.13361004 -0.03844203\n",
      "  0.22671655 -0.08427049 -0.3005722  -0.15375942 -0.0738031   0.26649785\n",
      "  0.14739321 -0.0607806  -0.15630332 -0.27334955 -0.20789382  0.06140869\n",
      "  0.01132096 -0.21172412 -0.23829561  0.17826332  0.05038656 -0.12683226\n",
      "  0.14863214 -0.3306285  -0.19345506 -0.0472142  -0.19619673 -0.08806128\n",
      "  0.21426213  0.33704454 -0.07628182 -0.21066347  0.03657285 -0.2076398\n",
      "  0.03343673  0.0115268  -0.08519642  0.05178224  0.02188643  0.13664623\n",
      " -0.05864299 -0.05902551 -0.03806373 -0.21220516  0.27058998  0.23628166\n",
      "  0.0360314   0.1822911  -0.15221444  0.36305702  0.24563111  0.3992591\n",
      " -0.08664126  0.03352429  0.03882387 -0.30062574  0.0169803   0.32774833\n",
      " -0.33646864 -0.1276369  -0.05736757 -0.04469247 -0.10402347 -0.09158646\n",
      "  0.05286512 -0.11814154 -0.10177021 -0.06726154  0.03505498 -0.11419402\n",
      "  0.09577879  0.02461332 -0.15174234 -0.07841592  0.19552156  0.16636397\n",
      " -0.19941355  0.09122308  0.12807372  0.11152239  0.17899874 -0.24947421\n",
      "  0.07303139  0.04617832 -0.1854949   0.21418278 -0.03979071  0.13654049\n",
      " -0.1985261   0.00157865 -0.14353698  0.11926497 -0.3680254   0.5057763\n",
      "  0.07677882  0.25457138 -0.0409598  -0.04746789  0.08725635  0.31052557\n",
      " -0.01287141 -0.04234301 -0.24792624 -0.23033394 -0.04587967 -0.12125055\n",
      "  0.05644088  0.11261394  0.11628333  0.16791952 -0.08335339 -0.22534622\n",
      "  0.05660292 -0.08836095 -0.04104925  0.06661496 -0.1663676  -0.04990432\n",
      "  0.18477131  0.08371249 -0.1398628   0.16120476 -0.11499935  0.02548404\n",
      " -0.01868063 -0.09450281 -0.0980356  -0.04727152  0.1612202   0.0400878\n",
      " -0.19263647  0.20101507 -0.27466518 -0.09659957 -0.19250363 -0.26754007\n",
      " -0.20758915  0.1345093  -0.08249432  0.02878721  0.27140617  0.3435073\n",
      " -0.02282776  0.08186116  0.13171875 -0.46511078  0.14869402 -0.11347812\n",
      " -0.11083795 -0.13769253 -0.01792935 -0.27782047 -0.15120417 -0.00802959\n",
      " -0.127889   -0.35700724 -0.1917928   0.21918337 -0.1799245   0.09770076\n",
      " -0.1662583   0.00808926  0.15567821  0.1968324  -0.07681298 -0.10472991\n",
      " -0.03265735 -0.05316285 -0.06434246 -0.04315776  0.06634776  0.05217787\n",
      "  0.03399714 -0.16460514 -0.07344293 -0.06572128 -0.07420849 -0.23865424\n"
     ]
    },
    {
     "name": "stdout",
     "output_type": "stream",
     "text": [
      "  0.00484306  0.28854355 -0.2788125  -0.1418445   0.41467384 -0.2212726 ]\n"
     ]
    }
   ],
   "source": [
    "print(w2v_model2016['hybrid'],\n",
    "      w2v_model2016['electric'])"
   ]
  },
  {
   "cell_type": "code",
   "execution_count": 201,
   "metadata": {
    "ExecuteTime": {
     "end_time": "2020-08-12T11:19:45.811283Z",
     "start_time": "2020-08-12T11:19:45.759315Z"
    }
   },
   "outputs": [
    {
     "name": "stderr",
     "output_type": "stream",
     "text": [
      "D:\\Python\\Anaconda\\lib\\site-packages\\ipykernel_launcher.py:1: DeprecationWarning: Call to deprecated `__getitem__` (Method will be removed in 4.0.0, use self.wv.__getitem__() instead).\n",
      "  \"\"\"Entry point for launching an IPython kernel.\n",
      "D:\\Python\\Anaconda\\lib\\site-packages\\ipykernel_launcher.py:2: DeprecationWarning: Call to deprecated `__getitem__` (Method will be removed in 4.0.0, use self.wv.__getitem__() instead).\n",
      "  \n"
     ]
    },
    {
     "name": "stdout",
     "output_type": "stream",
     "text": [
      "[-9.87899974e-02 -8.31728801e-02  3.45133655e-02  2.22605705e-01\n",
      "  1.16258793e-01  1.64216459e-01  2.17561121e-03 -1.67485788e-01\n",
      " -6.62504137e-02  3.66166010e-02 -2.04107955e-01 -1.66007094e-02\n",
      " -1.57883033e-01  3.87538970e-02  9.09689665e-02  6.53154403e-02\n",
      " -1.64468940e-02  1.84709102e-01 -9.46310386e-02  2.59372443e-01\n",
      " -4.39755142e-01 -9.77898482e-03  1.14553414e-01  1.69352829e-01\n",
      " -4.13398147e-02 -1.02946803e-01 -1.10529363e-01 -1.84749961e-02\n",
      " -9.98910293e-02  1.90072693e-03 -2.42843688e-01  2.34052584e-01\n",
      "  1.55090630e-01 -1.72611862e-01  1.79459244e-01  6.25385577e-03\n",
      " -1.20935157e-01  7.45670199e-02  6.30140826e-02 -7.19738007e-02\n",
      " -1.74271241e-02  1.01597860e-01 -1.73866153e-01  9.97160599e-02\n",
      "  1.11925051e-01 -3.81466508e-01 -7.99725354e-02  3.91680934e-02\n",
      "  5.63466474e-02  6.34294972e-02 -2.92356491e-01 -1.19603634e-01\n",
      " -1.51181400e-01  2.56318375e-02  6.00333288e-02 -3.65302637e-02\n",
      " -3.32774490e-01 -5.74222431e-02  1.31947443e-01  1.46881506e-01\n",
      "  1.00729980e-01  8.06516930e-02 -4.94849645e-02 -1.09114021e-01\n",
      " -1.93628091e-02  2.53806859e-01 -1.93047702e-01  2.81842053e-01\n",
      " -4.14157257e-04  1.73965335e-01 -1.41965047e-01  7.91855678e-02\n",
      "  3.11484158e-01 -9.96098295e-02  8.83797705e-02 -1.18329734e-01\n",
      " -6.05171621e-02 -1.64990798e-01 -9.22579616e-02  1.01804383e-01\n",
      "  1.13418952e-01 -1.06117524e-01  6.31711856e-02  1.33874297e-01\n",
      " -8.19943249e-02 -6.54179305e-02 -1.78532213e-01  1.80393055e-01\n",
      " -1.50904870e-02 -8.42598602e-02  1.66066159e-02  3.12391758e-01\n",
      "  1.03784978e-01  8.79044980e-02  9.96778905e-02  4.39756483e-01\n",
      " -3.34671065e-02  2.01612562e-01  1.43392131e-01  1.48084521e-01\n",
      " -8.07744637e-03 -1.08100012e-01 -1.24183618e-01 -1.31156921e-01\n",
      "  7.41944611e-02 -2.22625718e-01 -4.60274518e-02 -2.35818177e-01\n",
      "  1.47830635e-01 -6.19506417e-03 -6.66681826e-02  2.74556011e-01\n",
      "  2.77280360e-02  4.23135385e-02  2.02099811e-02 -1.40358552e-01\n",
      " -1.89201206e-01  1.64777532e-01 -1.97957437e-02 -2.24261405e-03\n",
      " -1.66001059e-02  2.17425084e-04 -1.29688391e-02  8.18375871e-02\n",
      "  1.07614547e-01  1.19664885e-01 -4.26891074e-02 -1.83661029e-01\n",
      "  8.05412754e-02 -6.51842356e-02  2.16799647e-01 -7.23760435e-03\n",
      "  1.35489717e-01 -2.16089442e-01  3.69105935e-02 -2.41287231e-01\n",
      " -2.31800243e-01 -4.00119610e-02 -1.61475360e-01 -2.31879786e-01\n",
      "  1.86874419e-01 -5.79871908e-02 -6.78075403e-02  8.02883059e-02\n",
      "  8.52306560e-03 -3.48814487e-01  1.49705503e-02  1.22555658e-01\n",
      "  1.30865797e-01  2.50196196e-02  4.23239842e-02  6.63668588e-02\n",
      "  1.15403362e-01  5.90834692e-02  2.45670825e-01 -2.00442493e-01\n",
      " -8.56386777e-03  2.06399277e-01 -1.19345360e-01  1.70694426e-01\n",
      "  6.70016259e-02 -3.07232365e-02 -2.05383569e-01 -9.08255503e-02\n",
      " -6.66764528e-02  1.13149717e-01 -1.13620460e-01  3.96528453e-01\n",
      " -5.56054190e-02  8.15633498e-03  2.44265467e-01 -7.63849681e-03\n",
      "  1.70843914e-01 -3.57075501e-03  1.55496538e-01 -6.00538887e-02\n",
      "  1.86854154e-01  9.80639607e-02 -5.12752980e-02  9.47370455e-02\n",
      " -1.73785225e-01  1.57470286e-01 -9.53074247e-02 -1.95923857e-02\n",
      "  4.81497822e-03 -1.68114722e-01 -3.11249703e-01 -1.00050956e-01\n",
      " -3.55218872e-02  2.61744916e-01  7.23753572e-02  1.53409630e-01\n",
      " -2.20517680e-01  3.38963866e-02  4.07393843e-01 -6.98199645e-02\n",
      "  3.85088734e-02 -6.31652847e-02  2.28476614e-01  4.44302559e-02\n",
      "  6.60666525e-02 -1.22435000e-02  9.61163174e-03 -1.23192921e-01\n",
      "  3.92752141e-02 -1.91695929e-01 -2.05755591e-01 -1.26141056e-01\n",
      " -1.54183218e-02 -1.66233093e-01  8.76314268e-02 -2.45448276e-02\n",
      " -1.46607151e-02  2.23158672e-01 -3.31930295e-02 -9.75304618e-02\n",
      " -2.57277697e-01  1.06246453e-02 -1.09223597e-01  2.38198534e-01\n",
      " -2.73172766e-01  2.08195020e-02  1.14696376e-01  3.88294399e-01\n",
      "  8.26430917e-02 -8.03763047e-02  1.09443739e-01  9.05067399e-02\n",
      " -1.70958176e-01 -1.23716407e-02 -5.53735979e-02 -8.99960771e-02\n",
      "  3.11761647e-01 -3.57310474e-02 -2.19935495e-02  1.83900610e-01\n",
      "  5.66276461e-02  2.29842186e-01 -1.60367504e-01  2.79804468e-01\n",
      "  7.84201175e-03 -5.32031171e-02  1.56953126e-01 -1.30332276e-01\n",
      " -1.70398206e-01  1.04784474e-01 -1.93704635e-01 -9.12734028e-03\n",
      "  1.09704748e-01 -5.40386774e-02 -1.32172480e-01  1.41552789e-02\n",
      " -2.38673221e-02 -1.47077084e-01  5.92444800e-02  1.75046146e-01\n",
      "  2.01109141e-01 -9.05833468e-02  1.28691256e-01 -6.09338768e-02\n",
      " -1.09675884e-01 -1.97642386e-01 -6.95784166e-02 -3.16017568e-02\n",
      " -7.46130943e-02  7.70639032e-02 -1.53364167e-01 -1.29297689e-01\n",
      "  3.87061387e-02 -2.78107077e-01 -7.69323483e-02  9.88240317e-02\n",
      "  2.49222249e-01 -3.16886255e-03 -1.48116753e-01 -4.57884856e-02\n",
      "  6.95886835e-02 -3.48792046e-01 -2.77996123e-01  8.52625072e-02\n",
      "  3.93573642e-02  1.29020855e-01  1.48508713e-01 -7.42043136e-03\n",
      "  9.14938971e-02 -2.58160904e-02  1.06005296e-02 -6.71289712e-02\n",
      " -3.47693600e-02 -1.05285734e-01  3.26821245e-02 -7.61799738e-02\n",
      "  1.12690143e-01  1.33197665e-01 -2.72887915e-01 -3.55769217e-01\n",
      " -2.76813835e-01 -1.89200193e-01  2.75750995e-01  6.41577542e-02] [-1.14036106e-01 -1.95756376e-01 -4.68204618e-02  2.61174083e-01\n",
      "  1.29201427e-01 -2.35766061e-02  1.00578882e-01 -1.49235189e-01\n",
      "  7.18309432e-02 -1.43765569e-01 -1.29646748e-01  2.85334766e-01\n",
      " -5.24832755e-02 -6.69556577e-03 -4.24424820e-02 -1.14750952e-01\n",
      "  1.08297959e-01 -7.86861479e-02  2.26039886e-02  1.11584425e-01\n",
      "  4.73141745e-02  7.96979964e-02 -4.48076092e-02 -2.65021175e-01\n",
      " -2.35919535e-01 -1.42349496e-01 -1.74217615e-02 -3.66300941e-02\n",
      " -6.31526634e-02 -2.24206179e-01 -1.17054597e-01 -2.78383996e-02\n",
      " -1.34252131e-01  1.83622643e-01 -3.34883877e-03 -8.78525525e-02\n",
      "  8.76128860e-03  1.88520640e-01  2.27154285e-01 -6.39209747e-02\n",
      "  1.71557404e-02 -1.62222162e-01 -2.20878154e-01  9.89179760e-02\n",
      " -1.56180561e-01 -3.15575674e-02  5.65412566e-02  2.32640460e-01\n",
      "  4.30386476e-02  2.33175550e-02 -1.37219444e-01 -6.95219114e-02\n",
      " -8.52887519e-03  5.10774888e-02 -6.28292933e-02 -1.19522452e-01\n",
      " -1.86553329e-01  2.44341210e-01  6.74130861e-03  1.38697922e-01\n",
      "  2.43902095e-02  1.10610306e-01  1.84239459e-03  2.40893215e-01\n",
      "  2.70075500e-02 -1.43771678e-01 -8.11536685e-02  1.77677825e-01\n",
      "  2.76810732e-02  1.23201124e-02 -2.00300425e-01 -3.29301916e-02\n",
      " -8.21388699e-03 -1.47207007e-01 -1.23595275e-01  1.18033610e-01\n",
      " -1.11820614e-02  5.54992445e-02  1.36222973e-01  9.23331007e-02\n",
      "  1.43506035e-01 -4.53249179e-02  1.37760922e-01  2.92065125e-02\n",
      " -1.38063535e-01  6.43716753e-02  3.30484100e-02 -8.63197967e-02\n",
      "  1.45340353e-01 -2.63310999e-01 -6.22710353e-03  1.59326926e-01\n",
      "  5.37826493e-02  1.28820583e-01  9.13932770e-02  1.61620587e-01\n",
      "  1.89696718e-02  2.25931302e-01  1.13871269e-01  2.99656510e-01\n",
      " -1.52154803e-01 -1.22584537e-01 -1.21828569e-02 -5.33663854e-02\n",
      " -1.12926871e-01  1.24587841e-01  2.57580820e-02  2.17884816e-02\n",
      "  6.55101836e-02 -1.45350516e-01  1.08535960e-01  3.54434140e-02\n",
      "  6.20061681e-02  7.37577379e-02 -3.42546962e-02  6.68485686e-02\n",
      "  1.31831065e-01 -3.39203812e-02  1.56774759e-01  1.79110933e-02\n",
      "  8.32651109e-02 -4.21957299e-02 -9.78521779e-02 -6.05564415e-02\n",
      " -4.61903326e-02 -2.06554219e-01  1.82570711e-01  3.93667668e-02\n",
      " -6.72154129e-02  2.71741468e-02  6.00175299e-02 -4.06966992e-02\n",
      "  4.93850634e-02 -1.68301269e-01  5.52188307e-02 -1.20160328e-02\n",
      " -1.05858922e-01  1.23362742e-01  1.98809713e-01 -1.33040190e-01\n",
      "  4.43924889e-02 -1.75804913e-01  1.12193823e-01 -3.06104012e-02\n",
      " -1.35596737e-01  1.68599039e-01 -8.24567154e-02 -2.53902346e-01\n",
      " -1.15427762e-01  2.04374753e-02 -9.76070203e-03 -3.19145955e-02\n",
      "  3.06891769e-01 -1.30948126e-01  2.43919771e-02 -2.73549438e-01\n",
      "  1.22784920e-01  2.54173577e-02  8.03927556e-02  1.81633513e-02\n",
      "  6.24810122e-02  9.24009159e-02 -1.63681968e-03  5.28166778e-02\n",
      " -4.62970287e-02  5.04985869e-01  1.08300842e-01  4.31903861e-02\n",
      "  1.43063977e-01 -1.14583969e-02  5.74637912e-02  1.92471147e-02\n",
      "  3.71456780e-02  1.18426934e-01  6.95393234e-02 -2.40570113e-01\n",
      "  2.69980103e-01  1.18791319e-01  1.75728649e-01  1.36815429e-01\n",
      " -1.88147977e-01 -1.15359493e-01 -1.06069833e-01 -1.93765797e-02\n",
      " -1.67683303e-01  1.45909995e-01 -8.86805356e-02  9.05792788e-03\n",
      " -1.68489560e-01 -1.57716691e-01  1.36904031e-01 -5.69746494e-02\n",
      "  2.65566021e-04 -1.64660960e-02  1.52165785e-01 -9.65534151e-02\n",
      "  1.02804027e-01 -3.76192457e-03  2.01423123e-01  6.67082295e-02\n",
      " -1.87108412e-01  1.60187818e-02  3.20648476e-02  9.10886079e-02\n",
      " -1.42461240e-01  1.66644063e-02 -3.17688346e-01  3.70359421e-02\n",
      " -1.26878142e-01  1.49486065e-01 -3.61681096e-02  1.80316016e-01\n",
      "  1.89005360e-01  8.68331641e-02  2.79066324e-01 -4.28960994e-02\n",
      " -1.31939203e-01  4.10312116e-02 -9.23165828e-02  8.28093812e-02\n",
      "  1.43953264e-01  8.12749006e-03  1.61587249e-03  1.11454554e-01\n",
      "  1.45246595e-01  1.09897079e-02  7.41190510e-03 -4.47876304e-02\n",
      " -6.08661138e-02 -1.27113163e-01 -1.05893776e-01  1.61366180e-01\n",
      " -2.15943500e-01  1.92721397e-01  6.82760328e-02  4.44628075e-02\n",
      " -2.14815333e-01  1.89594582e-01 -1.65908299e-02  4.37622331e-02\n",
      " -8.50946084e-02 -1.03609785e-01  6.57361597e-02 -9.76472721e-02\n",
      " -4.41890135e-02  1.16375960e-01 -7.10911453e-02  9.54185650e-02\n",
      " -7.98937976e-02  1.05482213e-01  1.64668754e-01 -1.14575781e-01\n",
      " -1.07603155e-01  2.33591005e-01  3.27624381e-01 -2.81271726e-01\n",
      "  1.69658765e-01  7.89760496e-04 -9.12305862e-02  1.12571299e-01\n",
      "  9.76034403e-02 -2.59016573e-01  1.03198424e-01  9.06995386e-02\n",
      " -1.19319893e-01  1.18681505e-01  1.60565287e-01  2.43491501e-01\n",
      "  2.19227761e-01 -2.21994519e-01 -1.88728258e-01 -4.42718789e-02\n",
      "  1.86359733e-01  4.65990801e-04 -1.06644280e-01  1.44851893e-01\n",
      "  1.55004069e-01 -1.29828438e-01 -1.23473406e-01 -5.26705533e-02\n",
      " -1.47552518e-02 -2.02562287e-01  1.28903016e-01  4.36216407e-02\n",
      " -3.26965153e-02 -4.20468226e-02  8.82174894e-02  6.12822883e-02\n",
      " -6.40694126e-02  1.13285922e-01  1.93451867e-01  2.63810009e-01\n",
      " -1.41562045e-01 -5.16319126e-02  1.43608838e-01 -5.49809337e-02\n"
     ]
    },
    {
     "name": "stdout",
     "output_type": "stream",
     "text": [
      " -2.21969277e-01 -2.34645084e-01  6.68905750e-02 -1.02968395e-01]\n"
     ]
    }
   ],
   "source": [
    "print(w2v_model2017['hybrid'],\n",
    "      w2v_model2017['electric'])"
   ]
  },
  {
   "cell_type": "code",
   "execution_count": 202,
   "metadata": {
    "ExecuteTime": {
     "end_time": "2020-08-12T11:19:55.908542Z",
     "start_time": "2020-08-12T11:19:55.879558Z"
    }
   },
   "outputs": [
    {
     "name": "stderr",
     "output_type": "stream",
     "text": [
      "D:\\Python\\Anaconda\\lib\\site-packages\\ipykernel_launcher.py:1: DeprecationWarning: Call to deprecated `__getitem__` (Method will be removed in 4.0.0, use self.wv.__getitem__() instead).\n",
      "  \"\"\"Entry point for launching an IPython kernel.\n",
      "D:\\Python\\Anaconda\\lib\\site-packages\\ipykernel_launcher.py:2: DeprecationWarning: Call to deprecated `__getitem__` (Method will be removed in 4.0.0, use self.wv.__getitem__() instead).\n",
      "  \n"
     ]
    },
    {
     "name": "stdout",
     "output_type": "stream",
     "text": [
      "[-4.65744827e-03  1.49326548e-02  5.66835031e-02  2.06183687e-01\n",
      " -1.39742225e-01  9.36219990e-02 -7.98809156e-02 -1.40269861e-01\n",
      "  7.01585412e-02  2.03547850e-01 -7.21495599e-05  4.65857312e-02\n",
      " -7.22325295e-02 -3.08148235e-01 -1.02712419e-02  5.31546213e-02\n",
      " -1.00148164e-01  5.01100495e-02 -1.59478456e-01  2.34652326e-01\n",
      " -1.27792299e-01 -9.94726121e-02  2.42814004e-01  2.15357333e-01\n",
      " -3.35657984e-01 -3.84835117e-02  1.60957381e-01 -1.46639675e-01\n",
      " -1.59773067e-01  7.03457221e-02 -2.66680777e-01  2.73123771e-01\n",
      "  1.53553367e-01  5.46738468e-02  6.01401702e-02  2.15517119e-01\n",
      " -1.72128513e-01  8.92447904e-02 -5.23876436e-02  1.59939870e-01\n",
      " -1.98582917e-01 -9.57851112e-03  2.48502251e-02  2.34549977e-02\n",
      " -3.84744839e-03  8.18330050e-03 -2.40209877e-01 -1.87064141e-01\n",
      "  2.61189014e-01  1.28667071e-01 -7.06855208e-02 -1.09333590e-01\n",
      " -7.80701339e-02 -4.81499620e-02  1.56526044e-01  4.53134812e-02\n",
      " -1.28775910e-01 -1.85185045e-01  1.91482343e-02  4.00005244e-02\n",
      " -3.68871726e-02  1.16011299e-01  6.51879907e-02  1.89384706e-02\n",
      " -3.26369293e-02  2.44627520e-01 -2.21629471e-01  1.13776654e-01\n",
      "  3.31988595e-02  3.18003327e-01 -2.53876179e-01  1.06506668e-01\n",
      "  2.49435548e-02 -6.22622247e-05  7.79439285e-02 -8.24187025e-02\n",
      " -1.81178555e-01  4.38536778e-02 -1.41695514e-01 -8.50912631e-02\n",
      " -1.39463216e-01 -1.51988983e-01 -6.51777759e-02 -1.24785583e-03\n",
      " -1.46787852e-01 -5.36017586e-03  4.34183627e-02  1.91820145e-01\n",
      " -3.39580551e-02 -2.59608299e-01  1.63375422e-01  1.44051164e-01\n",
      "  2.01965451e-01 -8.43094960e-02  1.78407598e-02  5.74073792e-02\n",
      " -1.01192713e-01  7.57770091e-02  5.29204868e-02 -3.93623346e-03\n",
      "  1.71872210e-02 -1.16808459e-01  1.41739503e-01  2.17998803e-01\n",
      " -1.05945155e-01 -1.21864066e-01 -7.46392906e-02 -1.37410462e-01\n",
      " -5.04263975e-02 -4.36016209e-02  1.34525910e-01  1.28203034e-01\n",
      " -3.01265642e-02  8.02352801e-02  1.72252450e-02  1.67735547e-01\n",
      " -4.37367707e-02 -3.79206151e-01  4.45270240e-01 -1.76169395e-01\n",
      "  7.29425773e-02  2.72372775e-02  1.21673241e-01 -1.25416830e-01\n",
      "  1.66196048e-01 -8.68279836e-04 -3.33033092e-02  5.63038066e-02\n",
      "  1.20938823e-01 -3.29448640e-01  1.87666073e-01  4.05222252e-02\n",
      " -7.35247089e-03 -1.30595684e-01 -1.44203706e-02 -2.67910033e-01\n",
      "  1.48831338e-01 -6.54199272e-02  2.01557558e-02 -9.73114595e-02\n",
      "  8.46173912e-02  7.08804652e-02  9.02793407e-02  5.09990426e-03\n",
      "  2.67476421e-02 -1.33419082e-01  2.47579709e-01 -6.79492429e-02\n",
      " -1.32869175e-02  2.26467550e-01  2.88511902e-01  1.26007468e-01\n",
      " -4.21043374e-02 -3.17216814e-02  6.12517372e-02 -6.56315824e-03\n",
      "  1.13766722e-01  8.80812705e-02  1.25214547e-01 -1.38741791e-01\n",
      " -7.62109980e-02  1.88463479e-01 -5.79518266e-02 -7.29561746e-02\n",
      " -7.97083005e-02 -2.69634500e-02 -4.05537546e-01 -9.36777666e-02\n",
      "  2.64133006e-01  4.18377034e-02  2.19397411e-01  2.24941894e-01\n",
      "  1.02833971e-01  1.01637870e-01  1.69410184e-01  1.76452070e-01\n",
      "  2.54666656e-01 -3.16565074e-02 -9.54373628e-02 -9.84124690e-02\n",
      " -2.38552675e-01 -3.80912833e-02  1.57091811e-01  3.22240554e-02\n",
      " -6.35119826e-02  9.49239917e-03 -1.47239193e-01 -6.76671648e-03\n",
      "  1.94927484e-01 -2.08863094e-02  1.25612736e-01  2.38227636e-01\n",
      "  1.50559723e-01  3.67361248e-01 -1.48645788e-02 -2.95287013e-01\n",
      " -1.68858707e-01  5.21811917e-02  2.38867775e-01  1.33359790e-01\n",
      "  1.60291925e-01  3.09340488e-02 -1.57385677e-01  8.47636685e-02\n",
      " -1.31886765e-01 -3.02678853e-01 -1.41501293e-01 -9.65721756e-02\n",
      " -2.82612294e-01 -4.09330204e-02 -1.85482562e-01 -3.90387629e-03\n",
      "  3.30511630e-01  2.23900117e-02  2.10614473e-01  1.32945821e-01\n",
      "  1.66383777e-02 -2.06133366e-01 -1.62269667e-01  3.62096354e-03\n",
      " -1.21202514e-01 -4.06619608e-02  7.10429177e-02  1.37892529e-01\n",
      " -1.40901238e-01 -4.24265638e-02  1.82808548e-01  2.92150348e-01\n",
      "  2.47671306e-02 -1.26417488e-01  1.14646874e-01  1.30782455e-01\n",
      "  1.38649598e-01  2.50522912e-01  1.16889529e-01  9.69568640e-02\n",
      " -1.00277059e-01 -1.67403966e-01  5.48562035e-02  7.20489724e-03\n",
      "  1.83240920e-01  3.88206802e-02 -1.11854449e-01 -8.17776099e-02\n",
      " -1.34105429e-01  2.02923000e-01 -5.54089760e-03 -5.86754307e-02\n",
      " -1.79923370e-01 -1.63278848e-01 -9.50066894e-02 -4.75430973e-02\n",
      " -8.71993508e-03  8.04946199e-02  6.67888448e-02  1.52215753e-02\n",
      " -5.94952367e-02 -9.15651023e-02 -3.04487497e-02  2.78323710e-01\n",
      "  1.77863818e-02  1.68950558e-01 -4.02661487e-02 -5.45240231e-02\n",
      "  1.58116594e-01  8.03367347e-02 -2.59620488e-01 -3.88573781e-02\n",
      " -1.04205318e-01 -4.94662464e-01  2.03778744e-01 -6.92772120e-02\n",
      "  2.96738982e-01  1.05352193e-01 -2.10026249e-01  4.75148052e-01\n",
      "  1.51802063e-01  1.78304926e-01  5.29988557e-02 -2.36642044e-02\n",
      "  5.60490787e-02 -2.18336210e-02  1.35625392e-01 -2.06103668e-01\n",
      "  2.16960117e-01  1.47115409e-01  7.18639931e-03  1.45490706e-01\n",
      " -1.51337445e-01  4.58614342e-02  1.92745060e-01  9.89976227e-02\n",
      " -2.62530223e-02  1.37389258e-01 -2.20444769e-01 -7.85676688e-02\n",
      " -2.54268525e-03 -8.07928964e-02  1.35300681e-01  2.97337174e-02] [-7.75118768e-02 -1.53421029e-01 -1.15599468e-01  4.48766649e-02\n",
      "  1.49440974e-01 -3.13685119e-01  1.12141855e-02  1.14165209e-01\n",
      " -2.67173171e-01 -2.11726084e-01  1.47764608e-01 -8.71331338e-03\n",
      " -1.14467837e-01 -2.18350947e-01 -1.23100594e-01 -4.34913998e-03\n",
      "  2.53090769e-01 -1.20334560e-02  1.95969120e-01  9.79710966e-02\n",
      "  4.26393114e-02 -3.77966696e-03 -6.72684610e-02  4.92121130e-02\n",
      " -8.07464644e-02 -2.26032466e-01 -4.81994301e-02 -3.34388882e-01\n",
      " -1.17234007e-01  2.31158331e-01 -2.70923913e-01  9.91733093e-03\n",
      " -2.13461816e-01  2.77106792e-01  2.35680476e-01 -4.52690348e-02\n",
      " -1.40982211e-01 -3.32156152e-01  4.44085300e-02 -5.37888855e-02\n",
      " -6.31359741e-02 -2.65291125e-01 -2.08904132e-01  1.06732152e-01\n",
      " -1.68013394e-01  5.72543181e-02 -1.04041964e-01 -1.11071743e-01\n",
      " -2.17441440e-01 -1.11731319e-02  2.98235975e-02 -9.64252800e-02\n",
      "  9.66903940e-02  2.58387536e-01 -2.38892231e-02 -9.93316770e-02\n",
      " -7.04562515e-02  2.45732181e-02  1.25824317e-01  2.53869176e-01\n",
      " -1.90936446e-01  6.29576296e-03  1.00498565e-01  1.30233848e-02\n",
      " -1.09568112e-01 -4.50835750e-02 -9.21796560e-02  1.09964237e-01\n",
      "  1.53856248e-01 -1.82828028e-02 -2.17224494e-01  1.05969839e-01\n",
      " -2.69976825e-01 -6.69738725e-02  4.20774886e-04  9.09720287e-02\n",
      "  2.28745863e-02  4.34260145e-02 -1.09458879e-01 -6.34531910e-03\n",
      " -1.32425860e-01 -3.71495425e-03 -3.39177251e-02 -5.55589758e-02\n",
      " -3.16861302e-01  1.63614899e-02 -6.82983175e-02  2.55582839e-01\n",
      " -3.42891604e-01 -1.19593136e-01 -3.75008695e-02 -7.80977309e-02\n",
      "  1.30302772e-01 -1.40396580e-01 -1.12212285e-01  1.05030298e-01\n",
      " -1.56193005e-03  1.39012694e-01  9.24586877e-02 -8.82144719e-02\n",
      " -1.53474748e-01 -3.53422761e-02 -2.73656011e-01  8.17688033e-02\n",
      "  2.81638205e-02 -7.11145625e-02  6.41701696e-03 -6.78410009e-02\n",
      " -6.10976899e-03 -3.45464945e-02  5.48632331e-02 -1.05495892e-01\n",
      "  4.26570661e-02 -1.75411969e-01  1.18838318e-01  4.32040133e-02\n",
      " -2.96160905e-03 -1.29819289e-02 -1.44532129e-01 -4.36439402e-02\n",
      "  8.86473730e-02 -2.76624173e-01 -4.33904119e-02 -3.04273605e-01\n",
      "  2.85794169e-01 -7.99505599e-03  1.91190675e-01 -2.52090394e-01\n",
      "  1.17788345e-01  1.92163363e-01 -1.62593290e-01  2.54382372e-01\n",
      " -6.20403066e-02 -1.22597516e-01  6.74070194e-02 -6.59912676e-02\n",
      " -2.24813372e-01  2.78910428e-01 -1.34143963e-01 -9.74835083e-03\n",
      "  2.85667807e-01  4.76045966e-01  2.91841850e-02 -2.52677482e-02\n",
      "  1.27419159e-01  9.28470194e-02 -2.11179078e-01  1.22527361e-01\n",
      "  2.16339588e-01 -1.69173792e-01  1.94945872e-01 -4.10553068e-01\n",
      "  4.07998031e-03  1.88724875e-01 -9.25552994e-02 -1.14650965e-01\n",
      "  1.12402976e-01 -5.35048395e-02 -1.08248331e-02  1.17016278e-01\n",
      "  1.05226658e-01 -5.61831295e-02  1.69061556e-01  6.65986240e-02\n",
      "  1.14505611e-01 -5.58264442e-02 -1.54912099e-01 -3.97681028e-01\n",
      " -9.01882574e-02 -2.22841516e-01 -4.96818125e-02 -3.34037580e-02\n",
      " -5.41192405e-02  1.43815503e-01  4.59059961e-02 -2.75611016e-03\n",
      "  3.52913588e-01  2.93285877e-01 -2.03906268e-01 -4.21991080e-01\n",
      " -1.58604681e-01  1.26900986e-01  1.23135164e-01 -7.71005685e-03\n",
      " -3.64403240e-02  3.04964066e-01 -3.26901436e-01  9.82420519e-02\n",
      " -2.31144533e-01 -4.00761217e-02  1.96040981e-02 -1.36781424e-01\n",
      "  2.22152248e-02  4.17592414e-02  2.22487092e-01 -3.07199568e-01\n",
      "  6.43188059e-02  5.83796538e-02  8.12635794e-02 -9.91846472e-02\n",
      " -7.77537748e-02 -6.05969802e-02  2.71825403e-01 -1.21519864e-01\n",
      " -2.81995893e-01 -1.38416374e-02 -2.41991729e-01  2.89048284e-01\n",
      " -3.10494304e-01  3.96090567e-01 -3.71335506e-01  3.08159530e-01\n",
      "  2.77502149e-01  1.42439336e-01  4.28858846e-02  6.95248544e-02\n",
      "  1.01674972e-02  1.86694413e-01 -9.66233835e-02 -1.24238282e-01\n",
      "  3.26819390e-01 -3.52435559e-01  4.31826077e-02  1.88870266e-01\n",
      " -3.68979014e-02 -5.00672013e-02  2.06322521e-01  9.06423777e-02\n",
      "  1.27512589e-01 -2.89033264e-01  1.77344203e-01 -5.34234345e-02\n",
      " -9.99108553e-02  3.95461202e-01 -7.82991126e-02 -9.24118906e-02\n",
      "  5.59130451e-03 -5.22150211e-02 -2.97997653e-01 -9.69938263e-02\n",
      "  7.27537498e-02 -6.25214502e-02  1.46559030e-01 -1.26895666e-01\n",
      " -3.23228315e-02  2.11219918e-02 -6.61534742e-02 -1.64295107e-01\n",
      " -1.43275380e-01  1.22141235e-01  2.83219457e-01 -5.89587167e-02\n",
      " -6.16960488e-02  8.49946365e-02  1.30781615e-02  1.92393750e-01\n",
      " -2.69940440e-02 -1.11441776e-01 -1.81996271e-01  2.69815356e-01\n",
      "  5.46400584e-02 -2.64265463e-02 -2.35896558e-02 -1.45617232e-01\n",
      "  1.18397661e-01 -1.28025904e-01 -8.20483491e-02  2.03891650e-01\n",
      "  2.97016464e-02 -1.00867838e-01  4.17122208e-02 -8.40695724e-02\n",
      " -1.17323771e-01 -2.10867018e-01 -3.54753435e-01  2.61516362e-01\n",
      " -1.98841795e-01  3.43816727e-01  1.06678694e-01  1.93323404e-01\n",
      " -9.58501846e-02  1.53779224e-01  4.70703803e-02  1.34047985e-01\n",
      " -3.06732841e-02 -1.19540013e-01  1.06762670e-01  2.84876794e-01\n",
      " -2.38090500e-01  1.14758506e-01 -4.09889892e-02  1.07206054e-01\n",
      " -3.48424792e-01  5.13974093e-02 -1.30565822e-01 -9.95189771e-02\n"
     ]
    },
    {
     "name": "stdout",
     "output_type": "stream",
     "text": [
      "  5.58631159e-02 -3.89799863e-01  2.04989418e-01 -1.61285978e-02]\n"
     ]
    }
   ],
   "source": [
    "print(w2v_model2018['hybrid'],\n",
    "      w2v_model2018['electric'])"
   ]
  },
  {
   "cell_type": "code",
   "execution_count": 203,
   "metadata": {
    "ExecuteTime": {
     "end_time": "2020-08-12T11:20:03.312290Z",
     "start_time": "2020-08-12T11:20:03.279309Z"
    }
   },
   "outputs": [
    {
     "name": "stderr",
     "output_type": "stream",
     "text": [
      "D:\\Python\\Anaconda\\lib\\site-packages\\ipykernel_launcher.py:1: DeprecationWarning: Call to deprecated `__getitem__` (Method will be removed in 4.0.0, use self.wv.__getitem__() instead).\n",
      "  \"\"\"Entry point for launching an IPython kernel.\n",
      "D:\\Python\\Anaconda\\lib\\site-packages\\ipykernel_launcher.py:2: DeprecationWarning: Call to deprecated `__getitem__` (Method will be removed in 4.0.0, use self.wv.__getitem__() instead).\n",
      "  \n"
     ]
    },
    {
     "name": "stdout",
     "output_type": "stream",
     "text": [
      "[-0.12359803 -0.1024261   0.06726361  0.04364371  0.328388    0.10900038\n",
      "  0.3614366   0.00432044  0.01018124 -0.00737608  0.08632887  0.2369713\n",
      "  0.31349516 -0.04404012 -0.23833887 -0.10591563 -0.18976931  0.38951772\n",
      "  0.21765238  0.03111386  0.07394838  0.12616166 -0.0597899   0.0498929\n",
      " -0.34385887  0.31358674 -0.0708558  -0.16913986 -0.12153689 -0.07840179\n",
      " -0.14548485 -0.29636315  0.34440395  0.06239301 -0.01359152 -0.17904289\n",
      " -0.14373536 -0.15682249  0.07007237  0.24978833  0.2790177   0.11159226\n",
      " -0.23315895  0.30788228 -0.08289116  0.28882137 -0.19556819  0.17379001\n",
      "  0.1326691   0.25272894 -0.1475634   0.25703052 -0.33358538 -0.03490456\n",
      " -0.42965454  0.15611334 -0.16096514  0.37517434 -0.27764395  0.02749926\n",
      "  0.28202194  0.1958081   0.31935593 -0.2439352   0.02562155 -0.16086717\n",
      "  0.33315852 -0.12988144  0.08808415 -0.05536029  0.30413616  0.10351858\n",
      " -0.2663319  -0.08476031  0.21232867  0.34935686 -0.26346645  0.15886106\n",
      "  0.0835249  -0.02087349 -0.36094218  0.00323507 -0.5054167  -0.35182428\n",
      " -0.20448437 -0.03090641 -0.39945462  0.19443934  0.5388552   0.06525397\n",
      "  0.13857949  0.40585697  0.2018248  -0.03651481 -0.43309754 -0.25901276\n",
      "  0.03428249  0.07101171 -0.05071108  0.29008776 -0.14014165 -0.1440182\n",
      " -0.06674895  0.45222208  0.17844826 -0.40452433 -0.11664932  0.02921404\n",
      " -0.16343954 -0.23055787  0.08570038 -0.08208959  0.50266606  0.11828069\n",
      "  0.01726107  0.12466869  0.34138176 -0.48450086  0.17998429 -0.20317344\n",
      "  0.22708099 -0.10863265  0.03173627  0.06149975 -0.0647007  -0.26259682\n",
      " -0.16978258 -0.01982856  0.3549557  -0.29277736  0.13793346 -0.05515119\n",
      "  0.16316327  0.21427637  0.05563646 -0.03362164 -0.12037049  0.20535584\n",
      "  0.15399961  0.21057901  0.08290718 -0.10670094 -0.087171    0.09626713\n",
      "  0.18271787  0.11691932 -0.03596423 -0.14273626  0.13839625  0.00534793\n",
      "  0.26939633 -0.17550597 -0.04649878 -0.16970097 -0.04013863 -0.31068072\n",
      " -0.06745397 -0.09803105 -0.01569027  0.4192865  -0.19766188 -0.05753022\n",
      "  0.09327136  0.51853997  0.06414571 -0.05443481 -0.36853144 -0.28295937\n",
      " -0.21277103  0.40808454  0.20021284  0.29719153  0.14946409  0.2729986\n",
      "  0.09288146  0.137918    0.15660556  0.06729305 -0.15126581  0.0590848\n",
      " -0.33889598 -0.24152483 -0.2706619  -0.06196099 -0.12772143  0.13071595\n",
      " -0.01963853 -0.25897244 -0.14998285  0.00264491  0.24179336  0.17706431\n",
      " -0.20395117  0.19227923  0.1508732  -0.10091759 -0.14738496  0.03005912\n",
      " -0.00748821  0.2755887  -0.2651224   0.3202553  -0.29751596  0.5951086\n",
      "  0.00609058 -0.08266018 -0.01634612  0.0603875  -0.01373494 -0.06540095\n",
      "  0.04605345  0.15615302 -0.09528223  0.2552742   0.38016233  0.15821043\n",
      "  0.09878568 -0.20185426 -0.17043284 -0.1286491  -0.07081614  0.30183145\n",
      " -0.27406138 -0.07659461 -0.20151035 -0.01981345  0.289771   -0.24383901\n",
      " -0.02420498 -0.23564917 -0.02298026  0.14483483 -0.04124148  0.3707806\n",
      " -0.04903474  0.11157998  0.19022503  0.08697882  0.28586605  0.31952402\n",
      "  0.17046453 -0.09675548 -0.50154394 -0.16996112 -0.23736061 -0.27558455\n",
      " -0.17209198  0.35565966  0.02079433 -0.07468762  0.14673461 -0.04832589\n",
      " -0.24756114  0.03788051  0.19972867  0.2549696   0.09397651 -0.20658079\n",
      "  0.20287536 -0.1715824  -0.43272468  0.15690412 -0.00571461  0.28282467\n",
      " -0.05186359  0.09895664  0.0334986  -0.32069737 -0.2480793   0.10554835\n",
      " -0.04123816  0.11285803  0.01782974  0.12466523  0.30634803 -0.2161771\n",
      " -0.00293842  0.02373363  0.12429428  0.00109999  0.43426472 -0.07100921\n",
      "  0.17197762 -0.20514926 -0.15317817  0.24270494  0.3400124  -0.16940217\n",
      " -0.12596142  0.13400705 -0.16030607  0.19932751 -0.0457875  -0.13551468\n",
      " -0.04861511 -0.2666269  -0.26023278  0.18425034 -0.17963625  0.08861231] [-1.61448158e-02  6.92540482e-02 -1.22453235e-01  1.78973094e-01\n",
      "  2.73245305e-01 -6.82063177e-02  4.75772083e-01 -1.08600548e-02\n",
      " -2.97125846e-01 -1.55589998e-01  2.44275361e-01  4.44833368e-01\n",
      " -1.91433765e-02  1.96204707e-01 -3.00725121e-02  1.37898684e-01\n",
      " -1.23208769e-01 -2.80299455e-01  7.39054531e-02 -3.78746986e-02\n",
      "  2.90329196e-02  1.39727324e-01  1.77719340e-01 -2.55237877e-01\n",
      "  8.05508569e-02 -2.24769831e-01  5.05910479e-02 -5.09070344e-02\n",
      " -1.16527430e-03 -3.14659551e-02  8.95919427e-02 -9.03282873e-03\n",
      "  6.22795410e-02 -2.49019992e-02 -1.69869930e-01 -2.90900558e-01\n",
      "  1.47174463e-01 -1.24377511e-01  1.16844356e-01 -1.15766995e-01\n",
      "  1.14245787e-01  8.44741315e-02 -1.29381001e-01  1.33166716e-01\n",
      "  1.00332566e-01  7.30512887e-02  1.65884029e-02 -1.22396000e-01\n",
      "  8.83101374e-02 -6.11739010e-02 -1.26413926e-01 -1.30190134e-01\n",
      " -1.78917915e-01 -1.62632197e-01  1.01461917e-01  1.87938325e-02\n",
      "  1.30502746e-01  2.18025655e-01  2.39975765e-01  2.35464964e-02\n",
      "  2.25974217e-01  2.07326770e-01 -1.72032505e-01 -1.31808430e-01\n",
      "  1.41222000e-01  1.70524195e-02 -6.81094378e-02  5.26085170e-03\n",
      "  1.22952797e-01 -4.68321517e-02 -6.91149607e-02  5.10742478e-02\n",
      " -1.66289151e-01  4.15437706e-02 -4.11224999e-02  3.61183077e-01\n",
      " -1.38110638e-01  1.65114015e-01  2.06598535e-01 -1.52743859e-02\n",
      "  3.33423056e-02 -1.25671566e-01 -1.01690046e-01 -2.16601729e-01\n",
      " -1.92895249e-01  1.32406473e-01  1.42604858e-02  2.52996206e-01\n",
      "  1.76469520e-01 -1.44601136e-01 -8.03280771e-02  1.17982700e-01\n",
      " -7.76456594e-02  9.38049108e-02  5.24934195e-02  1.85589418e-01\n",
      "  4.06213664e-02 -2.85637945e-01 -6.55488446e-02  7.09668100e-02\n",
      " -1.63458019e-01 -2.35651016e-01  1.67953402e-01 -6.63793162e-02\n",
      "  8.23554695e-02 -1.56680763e-01 -2.16409508e-02 -2.04325557e-01\n",
      " -2.38326518e-03  5.14767170e-02 -1.18987309e-02  1.26171233e-02\n",
      "  2.10432664e-01 -7.25169107e-02  1.33382138e-02 -5.77675775e-02\n",
      "  3.62172872e-02  7.89186284e-02 -2.40708053e-01  1.60991952e-01\n",
      " -1.75488755e-01  1.25018746e-01 -4.13303403e-03 -1.45160854e-01\n",
      "  3.06950361e-01  1.52195543e-01  1.85483232e-01 -2.64780402e-01\n",
      " -3.15050012e-04  1.87394187e-01  3.99667211e-02 -1.36820450e-01\n",
      "  6.66100010e-02 -1.37397483e-01  1.65011138e-01  1.99506193e-01\n",
      " -9.56236571e-02  1.32255435e-01  9.98652130e-02 -1.38305321e-01\n",
      " -1.05195947e-03  2.47753099e-01 -3.96775343e-02  3.14036936e-01\n",
      "  1.85987409e-02  2.82084852e-01  1.56307563e-01 -2.07854077e-01\n",
      "  4.23413925e-02 -2.69684102e-02  3.14493068e-02  1.78509235e-01\n",
      "  6.13142624e-02  1.19979739e-01  8.95363018e-02  2.07087353e-01\n",
      "  4.37262766e-02 -2.76872486e-01 -1.79059222e-01  2.82499075e-01\n",
      "  1.82506517e-01  2.63968725e-02  1.23956367e-01  1.92836523e-01\n",
      "  8.45881831e-03  1.31406248e-01 -1.93960473e-01  6.02702908e-02\n",
      "  1.07679576e-01  8.13338235e-02  6.27535656e-02  1.13666810e-01\n",
      "  4.12512943e-03  1.87859222e-01  2.92704608e-02 -8.26566592e-02\n",
      "  2.33273789e-01  1.89082608e-01 -9.81180593e-02 -3.43193151e-02\n",
      " -4.70773309e-01  1.28392085e-01 -2.50635892e-01 -2.28093371e-01\n",
      " -6.03975728e-02  3.86204384e-02 -1.58255115e-01  1.11665837e-01\n",
      "  3.56608565e-04 -3.16731960e-01 -1.01998679e-01 -5.23178540e-02\n",
      " -1.07531762e-02 -3.11717130e-02 -1.35385066e-01  9.14807245e-02\n",
      " -3.18195462e-01 -3.05401921e-01  6.74430877e-02 -6.87585548e-02\n",
      " -2.20056489e-01  1.80348400e-02 -4.69067656e-02  9.49271172e-02\n",
      " -2.00432539e-01 -5.79848588e-02 -2.27560997e-01  8.90496671e-02\n",
      "  5.13392128e-02  3.11345160e-01  2.10832637e-02  5.36325201e-02\n",
      " -1.09316073e-02  4.31388393e-02  2.05726072e-01 -8.92656147e-02\n",
      " -1.86497882e-01  1.03571273e-01 -3.84931773e-01 -1.64595410e-01\n",
      " -1.93609565e-01 -1.59842148e-01 -2.82548696e-01  1.13598041e-01\n",
      " -2.85661399e-01 -3.94067951e-02 -1.85938820e-01 -1.37819156e-01\n",
      " -1.75013363e-01  1.31123796e-01 -1.85762599e-01  2.03809157e-01\n",
      " -7.19447136e-02 -1.28984302e-01 -4.76597995e-02  1.99826092e-01\n",
      "  8.80601853e-02 -4.23371196e-02 -1.26224821e-02 -1.44046441e-01\n",
      "  2.01941252e-01 -1.15124322e-02  8.76226500e-02  2.40063220e-01\n",
      "  1.70315087e-01  6.00358732e-02  1.95960939e-01  1.13901287e-01\n",
      " -9.76032168e-02 -1.10277049e-01  3.90200317e-02 -1.28983736e-01\n",
      " -2.81679463e-02  1.04429461e-01  2.40447089e-01  4.28726971e-01\n",
      " -9.68580022e-02 -3.31594236e-03  2.65005916e-01  3.94552909e-02\n",
      " -3.63940805e-01 -2.85323232e-01 -3.16816241e-01 -4.10775421e-03\n",
      "  1.94083247e-02  2.06920374e-02  4.37037982e-02  1.82318226e-01\n",
      "  4.47333753e-02 -7.00828061e-02 -2.34131634e-01 -6.72426298e-02\n",
      "  9.29110125e-02  1.27792777e-02 -2.37192824e-01  2.89597988e-01\n",
      " -8.15674663e-03 -4.50400710e-02 -1.14852786e-01 -6.50430024e-02\n",
      " -8.53921771e-02  8.11549425e-02 -1.23984978e-01 -1.34835586e-01\n",
      " -9.12145376e-02 -3.23032469e-01  2.46716186e-01  1.62713453e-01\n",
      " -4.74722609e-02 -8.55033472e-02 -3.22033539e-02  9.82356369e-02\n",
      " -5.28531820e-02 -6.56328350e-02 -1.92875043e-02 -4.40109253e-01\n"
     ]
    },
    {
     "name": "stdout",
     "output_type": "stream",
     "text": [
      "  3.05311289e-03 -1.40041202e-01  2.09143221e-01 -5.57054169e-02]\n"
     ]
    }
   ],
   "source": [
    "print(w2v_model2019['hybrid'],\n",
    "      w2v_model2019['electric'])"
   ]
  },
  {
   "cell_type": "markdown",
   "metadata": {},
   "source": [
    "# plot"
   ]
  },
  {
   "cell_type": "code",
   "execution_count": 3,
   "metadata": {
    "ExecuteTime": {
     "end_time": "2020-08-12T16:49:51.507250Z",
     "start_time": "2020-08-12T16:49:49.870181Z"
    }
   },
   "outputs": [],
   "source": [
    "from sklearn.decomposition import PCA"
   ]
  },
  {
   "cell_type": "code",
   "execution_count": 5,
   "metadata": {
    "ExecuteTime": {
     "end_time": "2020-08-12T16:51:00.312972Z",
     "start_time": "2020-08-12T16:51:00.279975Z"
    }
   },
   "outputs": [],
   "source": [
    "hybrid=[ 0.26285353,  0.29224837, -0.3217703 ,  0.23382588,  0.3423997 ,\n",
    "       -0.19915313,  0.45463613,  0.19657205, -0.4147094 ,  0.3397364 ,\n",
    "       -0.4676935 , -0.26713923,  0.41173902,  0.05282113, -0.06697675,\n",
    "       -0.13577084,  0.05224013,  0.6069899 , -0.11792807,  0.36473587,\n",
    "        0.2086238 , -0.19973665,  0.11779333, -0.16686559, -0.49483112,\n",
    "        0.3567665 , -0.02799941, -0.16077857,  0.40854988,  0.088838  ,\n",
    "       -0.22995092,  0.01189337,  0.43516156, -0.03633916, -0.08069453,\n",
    "       -0.1785701 ,  0.1426521 ,  0.00306699,  0.0159362 ,  0.06512081,\n",
    "       -0.05309048,  0.0862512 ,  0.21488312,  0.25097704,  0.14127009,\n",
    "        0.18774058, -0.07465655, -0.01800725,  0.3260477 ,  0.15244344,\n",
    "       -0.08687267,  0.03025587, -0.04395971, -0.18586159,  0.08551728,\n",
    "       -0.22130525, -0.23495401,  0.03418488, -0.07390089, -0.05678153,\n",
    "        0.13598013, -0.13698423, -0.03965495,  0.11112392,  0.21105455,\n",
    "        0.02034722,  0.24391615, -0.28721878,  0.09831403,  0.13019058,\n",
    "       -0.02740021,  0.37163538,  0.11740688, -0.19927797, -0.12224477,\n",
    "        0.15967976,  0.19773886,  0.19003677, -0.22213046, -0.04478471,\n",
    "        0.13020481, -0.02860797, -0.33745354, -0.10570466,  0.31893647,\n",
    "       -0.17283133, -0.6211185 ,  0.01343987,  0.42258748,  0.01363997,\n",
    "       -0.29233733,  0.1374005 ,  0.01339601, -0.13363872, -0.24251696,\n",
    "        0.05435875, -0.23837751, -0.25868213,  0.20181212,  0.3052121 ,\n",
    "       -0.1424281 , -0.48219118, -0.45944142,  0.34685043,  0.31673142,\n",
    "       -0.17289987, -0.19155483, -0.36092025,  0.11851136,  0.16645323,\n",
    "        0.24754228, -0.05499788,  0.405339  ,  0.03807057, -0.12862761,\n",
    "        0.39484748, -0.03735583, -0.22945215,  0.6631669 ,  0.03214832,\n",
    "        0.4261344 ,  0.09336088,  0.04861101, -0.05854401,  0.1427223 ,\n",
    "        0.04501177, -0.53186136, -0.43085012, -0.14987983, -0.2280006 ,\n",
    "       -0.03179392, -0.07236883,  0.3956167 , -0.1449337 , -0.15903845,\n",
    "       -0.10411502,  0.02559223,  0.11590704, -0.19719821, -0.09952932,\n",
    "        0.25843826,  0.33261454, -0.12408228,  0.15446222,  0.01077219,\n",
    "       -0.26607332,  0.24625608, -0.3265089 ,  0.04525331,  0.43520328,\n",
    "       -0.06411954,  0.09717246,  0.09264672, -0.05769975,  0.33523726,\n",
    "        0.03126295,  0.15681958,  0.15097412, -0.0535096 , -0.05437718,\n",
    "       -0.51766366, -0.09434037,  0.17197326,  0.14673598, -0.14532436,\n",
    "       -0.13728929, -0.14711682,  0.12629668, -0.2688484 ,  0.34775853,\n",
    "       -0.3049164 ,  0.22310556,  0.2587945 ,  0.07990313,  0.12840001,\n",
    "        0.15209757,  0.18393734, -0.06420466, -0.04103649,  0.07547604,\n",
    "       -0.18857339,  0.04525029,  0.19729285,  0.14387406,  0.27592   ,\n",
    "        0.16453473, -0.15909402, -0.07056698,  0.33893448,  0.09055871,\n",
    "       -0.44909224,  0.17272249, -0.00495394, -0.07218109,  0.21391515,\n",
    "        0.24492525, -0.04369092, -0.08489371, -0.08803509, -0.11547215,\n",
    "       -0.01311125, -0.1668508 , -0.2307405 ,  0.15834631, -0.2759895 ,\n",
    "       -0.04759758, -0.20086126, -0.13492417, -0.02528221, -0.37985814,\n",
    "        0.28493127,  0.21290855,  0.4865118 , -0.15395483,  0.29268938,\n",
    "        0.0969289 , -0.00284168, -0.40391612, -0.08864354, -0.0785172 ,\n",
    "       -0.34279057, -0.11454751,  0.10449875,  0.10536812, -0.2909094 ,\n",
    "       -0.67045397,  0.16679348,  0.10718717, -0.41893995, -0.22115742,\n",
    "       -0.01621133,  0.05936392, -0.31899223, -0.24713843,  0.3673036 ,\n",
    "        0.34694463,  0.28485155, -0.17395678, -0.1902776 ,  0.4045424 ,\n",
    "       -0.28046256, -0.15452908, -0.23597617, -0.1572371 ,  0.32217935,\n",
    "       -0.2725113 ,  0.03004621,  0.14065064, -0.17941366, -0.04520813,\n",
    "       -0.19858469, -0.14588854, -0.4414316 , -0.33943442,  0.07637325,\n",
    "        0.60388106, -0.01949055, -0.02220998,  0.538079  , -0.0524946 ,\n",
    "       -0.5092162 , -0.08533547, -0.42739713, -0.04295663,  0.49118719,\n",
    "        0.26476097, -0.54766136,  0.07622519,  0.02507301, -0.11556681,\n",
    "        0.38661835,  0.11261765,  0.23606096,  0.11455493,  0.44951752,\n",
    "        0.11370867,  0.23659272,  0.24002157,  0.04229506,  0.185617  ,\n",
    "        0.4504851 , -0.15164015,  0.05067288, -0.04432407,  0.22912578,\n",
    "        0.46277633,  0.20886758,  0.23356147, -0.1690124 ,  0.00310898,\n",
    "       -0.24912836,  0.21233985, -0.21329306, -0.13755402, -0.47236383,\n",
    "       -0.17137602, -0.10135191,  0.18339776,  0.11906958,  0.30441922]"
   ]
  },
  {
   "cell_type": "code",
   "execution_count": 4,
   "metadata": {
    "ExecuteTime": {
     "end_time": "2020-08-12T16:50:56.876777Z",
     "start_time": "2020-08-12T16:50:56.843777Z"
    }
   },
   "outputs": [],
   "source": [
    "electric=[-0.03592358, -0.18397458, -0.04713145,  0.47179678,  0.20052938,\n",
    "       -0.04018774,  0.30360115,  0.3292805 , -0.1992667 , -0.19160594,\n",
    "       -0.00220537,  0.56817216, -0.13962436,  0.03738423, -0.33631086,\n",
    "        0.40666005, -0.29595602, -0.2897487 , -0.03811299,  0.04209531,\n",
    "       -0.11027315, -0.08113853,  0.1419533 ,  0.12502608,  0.08593385,\n",
    "       -0.01335818, -0.27385637, -0.08444131, -0.08751336,  0.26976374,\n",
    "        0.01543709, -0.01233954,  0.0560229 ,  0.01837171, -0.06442425,\n",
    "        0.12623684,  0.10978495, -0.41647047, -0.0665739 , -0.00760091,\n",
    "        0.11699233, -0.10330258,  0.09652563,  0.10880841, -0.2652454 ,\n",
    "       -0.1625433 , -0.12639883,  0.03433451, -0.40936205,  0.13858043,\n",
    "       -0.13090083, -0.16545063, -0.03185921, -0.22125956,  0.1258937 ,\n",
    "       -0.10052616, -0.08884344, -0.08695153,  0.20908588, -0.02727928,\n",
    "        0.43493873, -0.03611684,  0.13124245,  0.2690188 ,  0.04565503,\n",
    "       -0.26416317,  0.13068183,  0.05672444,  0.15310928, -0.11772659,\n",
    "        0.18291219,  0.2959679 , -0.146421  ,  0.12230749, -0.04210344,\n",
    "       -0.00721465,  0.2613882 , -0.00956166,  0.32355392,  0.04586143,\n",
    "        0.09787305,  0.2891234 ,  0.12107114,  0.1372053 , -0.03298495,\n",
    "        0.08722255,  0.1399495 ,  0.15563276,  0.00752876, -0.11231707,\n",
    "       -0.0757645 , -0.48168847, -0.8461399 ,  0.01926094,  0.06638718,\n",
    "        0.70693594, -0.27264914, -0.10845838, -0.06803995,  0.00865566,\n",
    "       -0.19327335, -0.13473499,  0.00180523,  0.09359632, -0.18878077,\n",
    "        0.06329892, -0.10565224,  0.01108129,  0.2593603 , -0.04339594,\n",
    "       -0.08034335, -0.25675994,  0.04256913,  0.22314997,  0.31054097,\n",
    "        0.25774172, -0.07819666,  0.18016961, -0.03174494,  0.01878328,\n",
    "       -0.15349603, -0.0340778 ,  0.0240814 ,  0.03246493,  0.00143944,\n",
    "       -0.02490941,  0.3485598 ,  0.36694732,  0.373228  , -0.0075489 ,\n",
    "       -0.08719588,  0.07473908,  0.05170151, -0.08513073,  0.48092023,\n",
    "        0.06117438,  0.04163793,  0.24956094,  0.19853805, -0.11568831,\n",
    "       -0.13710815, -0.1750197 , -0.2856432 ,  0.24444981,  0.13111198,\n",
    "        0.27819487, -0.3400409 , -0.28732476,  0.1766119 , -0.3525759 ,\n",
    "       -0.10602987,  0.09292581,  0.38560897,  0.34875208,  0.17914267,\n",
    "        0.48605236, -0.06609904, -0.17067645, -0.11329203,  0.15743744,\n",
    "        0.4027924 , -0.0894538 , -0.01624261,  0.29856485, -0.2047772 ,\n",
    "        0.01125826,  0.03565498, -0.01456983,  0.07788697, -0.11310151,\n",
    "        0.6416981 , -0.10141136, -0.36579376,  0.15273406,  0.20250182,\n",
    "       -0.00107545,  0.10385647, -0.2964546 ,  0.02730287, -0.10622624,\n",
    "        0.02945478, -0.12776527, -0.01918014,  0.21324314,  0.05493847,\n",
    "        0.03015731,  0.12057941, -0.02371522, -0.15164371, -0.04930935,\n",
    "       -0.0336739 ,  0.18256119,  0.28234076, -0.06396082,  0.15488721,\n",
    "        0.1997409 , -0.351926  , -0.2194882 , -0.09770138,  0.1542342 ,\n",
    "       -0.30257046,  0.22824341, -0.23018774, -0.22157934, -0.37977743,\n",
    "       -0.10289312, -0.10085994, -0.0800261 , -0.08922911,  0.28097364,\n",
    "       -0.18608204,  0.30889094,  0.3739988 , -0.12490774,  0.44155997,\n",
    "       -0.27366063, -0.49004516,  0.3009292 , -0.23664072,  0.17513758,\n",
    "        0.2524912 , -0.6083658 ,  0.14326438,  0.3090411 ,  0.03951058,\n",
    "        0.02047481, -0.03409391, -0.00890299,  0.19901553, -0.06016139,\n",
    "       -0.12109691, -0.02186882, -0.01125329,  0.00436899, -0.04363814,\n",
    "       -0.19366425,  0.20187785,  0.10592016, -0.04586   , -0.17517668,\n",
    "        0.23782182, -0.08190858, -0.07867654,  0.06538893,  0.16319783,\n",
    "        0.18160623,  0.32781836, -0.01185287, -0.12892064, -0.48708433,\n",
    "        0.48302424, -0.3644765 ,  0.15831777,  0.00370221,  0.22029327,\n",
    "       -0.16095836, -0.25763214, -0.14305587,  0.03950792, -0.08131284,\n",
    "        0.07427404, -0.30046442, -0.18557326,  0.27277476,  0.07081544,\n",
    "        0.36484432,  0.19394313,  0.04948923,  0.4358119 ,  0.19211109,\n",
    "        0.13516699,  0.06871212,  0.02624549, -0.36681443, -0.13886242,\n",
    "       -0.10111348, -0.22043405, -0.01897811,  0.4257416 ,  0.40464774,\n",
    "       -0.2255249 , -0.3404876 , -0.5747382 ,  0.20824888, -0.07863583,\n",
    "       -0.2059475 ,  0.0604836 , -0.10185666, -0.13513534,  0.0156901 ,\n",
    "       -0.08048906, -0.08977084, -0.21434128, -0.29770714, -0.04372666,\n",
    "       -0.2821905 ,  0.13959226,  0.04872221, -0.10538325, -0.354368  ]"
   ]
  },
  {
   "cell_type": "code",
   "execution_count": 6,
   "metadata": {
    "ExecuteTime": {
     "end_time": "2020-08-12T16:51:44.984224Z",
     "start_time": "2020-08-12T16:51:44.980226Z"
    }
   },
   "outputs": [],
   "source": [
    "hybrid=np.array(hybrid)"
   ]
  },
  {
   "cell_type": "code",
   "execution_count": 8,
   "metadata": {
    "ExecuteTime": {
     "end_time": "2020-08-12T16:52:00.858696Z",
     "start_time": "2020-08-12T16:52:00.854701Z"
    }
   },
   "outputs": [],
   "source": [
    "elctric=np.array(electric)"
   ]
  },
  {
   "cell_type": "code",
   "execution_count": 9,
   "metadata": {
    "ExecuteTime": {
     "end_time": "2020-08-12T16:52:24.922841Z",
     "start_time": "2020-08-12T16:52:24.917846Z"
    }
   },
   "outputs": [],
   "source": [
    "word_vectors = np.array([hybrid,electric])"
   ]
  },
  {
   "cell_type": "code",
   "execution_count": null,
   "metadata": {
    "ExecuteTime": {
     "end_time": "2020-08-12T16:56:27.485911Z",
     "start_time": "2020-08-12T16:56:27.032175Z"
    }
   },
   "outputs": [],
   "source": [
    "twodim = PCA().fit_transform(word_vectors)[:,:2]\n",
    "\n",
    "plt.figure(figsize=(6,6))\n",
    "plt.scatter(twodim[:,0], twodim[:,1], edgecolors='k', c='r')\n",
    "\n",
    "twodim = PCA().fit_transform(word_vectors)[:,:2]\n",
    "\n",
    "plt.figure(figsize=(1,1))\n",
    "plt.scatter(twodim[:,0], twodim[:,1], edgecolors='k', c='r')\n",
    "\n",
    "words=['Hybrid','Electric']\n",
    "\n",
    "for word, (x,y) in zip(words, twodim):\n",
    "    plt.text(x+0.05, y+0.05, word)"
   ]
  },
  {
   "cell_type": "code",
   "execution_count": 12,
   "metadata": {
    "ExecuteTime": {
     "end_time": "2020-08-12T16:53:53.807344Z",
     "start_time": "2020-08-12T16:53:53.797351Z"
    }
   },
   "outputs": [
    {
     "data": {
      "text/plain": [
       "array([[ 2.93996212e+00,  1.97162358e-16],\n",
       "       [-2.93996212e+00,  1.97162358e-16]])"
      ]
     },
     "execution_count": 12,
     "metadata": {},
     "output_type": "execute_result"
    }
   ],
   "source": [
    "twodim"
   ]
  },
  {
   "cell_type": "code",
   "execution_count": 17,
   "metadata": {
    "ExecuteTime": {
     "end_time": "2020-08-12T16:57:35.572237Z",
     "start_time": "2020-08-12T16:57:35.416329Z"
    }
   },
   "outputs": [],
   "source": [
    "from sklearn.manifold import TSNE"
   ]
  },
  {
   "cell_type": "code",
   "execution_count": 18,
   "metadata": {
    "ExecuteTime": {
     "end_time": "2020-08-12T16:58:51.739749Z",
     "start_time": "2020-08-12T16:58:51.732756Z"
    }
   },
   "outputs": [],
   "source": [
    "dim=pd.DataFrame(twodim)"
   ]
  },
  {
   "cell_type": "code",
   "execution_count": 22,
   "metadata": {
    "ExecuteTime": {
     "end_time": "2020-08-12T17:01:40.871906Z",
     "start_time": "2020-08-12T17:01:40.866907Z"
    }
   },
   "outputs": [],
   "source": [
    "dim.index=['Hybrid','Electric']\n",
    "dim.columns=['x','y']"
   ]
  },
  {
   "cell_type": "code",
   "execution_count": 23,
   "metadata": {
    "ExecuteTime": {
     "end_time": "2020-08-12T17:01:45.433286Z",
     "start_time": "2020-08-12T17:01:45.417298Z"
    }
   },
   "outputs": [
    {
     "data": {
      "text/html": [
       "<div>\n",
       "<style scoped>\n",
       "    .dataframe tbody tr th:only-of-type {\n",
       "        vertical-align: middle;\n",
       "    }\n",
       "\n",
       "    .dataframe tbody tr th {\n",
       "        vertical-align: top;\n",
       "    }\n",
       "\n",
       "    .dataframe thead th {\n",
       "        text-align: right;\n",
       "    }\n",
       "</style>\n",
       "<table border=\"1\" class=\"dataframe\">\n",
       "  <thead>\n",
       "    <tr style=\"text-align: right;\">\n",
       "      <th></th>\n",
       "      <th>x</th>\n",
       "      <th>y</th>\n",
       "    </tr>\n",
       "  </thead>\n",
       "  <tbody>\n",
       "    <tr>\n",
       "      <td>Hybrid</td>\n",
       "      <td>2.939962</td>\n",
       "      <td>1.971624e-16</td>\n",
       "    </tr>\n",
       "    <tr>\n",
       "      <td>Electric</td>\n",
       "      <td>-2.939962</td>\n",
       "      <td>1.971624e-16</td>\n",
       "    </tr>\n",
       "  </tbody>\n",
       "</table>\n",
       "</div>"
      ],
      "text/plain": [
       "                 x             y\n",
       "Hybrid    2.939962  1.971624e-16\n",
       "Electric -2.939962  1.971624e-16"
      ]
     },
     "execution_count": 23,
     "metadata": {},
     "output_type": "execute_result"
    }
   ],
   "source": [
    "dim"
   ]
  },
  {
   "cell_type": "code",
   "execution_count": 27,
   "metadata": {
    "ExecuteTime": {
     "end_time": "2020-08-12T17:02:54.927163Z",
     "start_time": "2020-08-12T17:02:54.667315Z"
    }
   },
   "outputs": [
    {
     "data": {
      "text/plain": [
       "<matplotlib.collections.PathCollection at 0x22f06d8b708>"
      ]
     },
     "execution_count": 27,
     "metadata": {},
     "output_type": "execute_result"
    },
    {
     "data": {
      "image/png": "[encoded data removed]",
      "text/plain": [
       "<Figure size 432x288 with 1 Axes>"
      ]
     },
     "metadata": {
      "needs_background": "light"
     },
     "output_type": "display_data"
    }
   ],
   "source": [
    "fig = plt.figure()\n",
    "ax = fig.add_subplot(1, 1, 1)\n",
    "\n",
    "for word, pos in dim.iterrows():\n",
    "    ax.annotate(word, pos)\n",
    "\n",
    "ax.scatter(dim['x'], dim['y'])"
   ]
  },
  {
   "cell_type": "code",
   "execution_count": 26,
   "metadata": {
    "ExecuteTime": {
     "end_time": "2020-08-12T17:02:41.123358Z",
     "start_time": "2020-08-12T17:02:41.117365Z"
    }
   },
   "outputs": [],
   "source": [
    "for word, pos in dim.iterrows():\n",
    "    ax.annotate(word, pos)"
   ]
  },
  {
   "cell_type": "code",
   "execution_count": 28,
   "metadata": {
    "ExecuteTime": {
     "end_time": "2020-08-12T17:09:16.428121Z",
     "start_time": "2020-08-12T17:09:16.423123Z"
    }
   },
   "outputs": [],
   "source": [
    "labels = ['Hybrid','Electric']\n",
    "tokens = [hybrid,electric]"
   ]
  },
  {
   "cell_type": "code",
   "execution_count": 76,
   "metadata": {
    "ExecuteTime": {
     "end_time": "2020-08-13T09:47:54.403400Z",
     "start_time": "2020-08-13T09:47:54.399405Z"
    }
   },
   "outputs": [],
   "source": [
    "tokens = [hybrid,electric]"
   ]
  },
  {
   "cell_type": "code",
   "execution_count": 47,
   "metadata": {
    "ExecuteTime": {
     "end_time": "2020-08-12T17:23:12.975751Z",
     "start_time": "2020-08-12T17:23:12.969756Z"
    }
   },
   "outputs": [
    {
     "data": {
      "text/plain": [
       "array([[ 2.93996212e+00,  1.97162358e-16],\n",
       "       [-2.93996212e+00,  1.97162358e-16]])"
      ]
     },
     "execution_count": 47,
     "metadata": {},
     "output_type": "execute_result"
    }
   ],
   "source": [
    "twodim"
   ]
  },
  {
   "cell_type": "code",
   "execution_count": 79,
   "metadata": {
    "ExecuteTime": {
     "end_time": "2020-08-13T09:48:11.922968Z",
     "start_time": "2020-08-13T09:48:11.915958Z"
    }
   },
   "outputs": [
    {
     "data": {
      "text/plain": [
       "array([[-4.2871964e+02,  3.7252903e-08],\n",
       "       [ 4.2871964e+02,  3.7252903e-08]], dtype=float32)"
      ]
     },
     "execution_count": 79,
     "metadata": {},
     "output_type": "execute_result"
    }
   ],
   "source": [
    "new_values"
   ]
  },
  {
   "cell_type": "code",
   "execution_count": 100,
   "metadata": {
    "ExecuteTime": {
     "end_time": "2020-08-13T10:15:47.875775Z",
     "start_time": "2020-08-13T10:15:47.871780Z"
    }
   },
   "outputs": [],
   "source": [
    "from math import log \n"
   ]
  },
  {
   "cell_type": "code",
   "execution_count": 106,
   "metadata": {
    "ExecuteTime": {
     "end_time": "2020-08-13T10:17:13.002619Z",
     "start_time": "2020-08-13T10:17:12.995629Z"
    }
   },
   "outputs": [
    {
     "data": {
      "text/plain": [
       "-7.428839878591473"
      ]
     },
     "execution_count": 106,
     "metadata": {},
     "output_type": "execute_result"
    }
   ],
   "source": [
    "log(y[0],10)"
   ]
  },
  {
   "cell_type": "code",
   "execution_count": 107,
   "metadata": {
    "ExecuteTime": {
     "end_time": "2020-08-13T10:17:43.036325Z",
     "start_time": "2020-08-13T10:17:43.032328Z"
    }
   },
   "outputs": [],
   "source": [
    "y=[log(i,10) for i in y]"
   ]
  },
  {
   "cell_type": "code",
   "execution_count": 131,
   "metadata": {
    "ExecuteTime": {
     "end_time": "2020-08-13T13:12:41.671950Z",
     "start_time": "2020-08-13T13:12:41.660958Z"
    }
   },
   "outputs": [
    {
     "data": {
      "text/plain": [
       "[-428.71964, 428.71964]"
      ]
     },
     "execution_count": 131,
     "metadata": {},
     "output_type": "execute_result"
    }
   ],
   "source": [
    "x"
   ]
  },
  {
   "cell_type": "code",
   "execution_count": 132,
   "metadata": {
    "ExecuteTime": {
     "end_time": "2020-08-13T13:13:18.209436Z",
     "start_time": "2020-08-13T13:13:18.202442Z"
    }
   },
   "outputs": [
    {
     "data": {
      "text/plain": [
       "[3.7252903e-08, 3.7252903e-08]"
      ]
     },
     "execution_count": 132,
     "metadata": {},
     "output_type": "execute_result"
    }
   ],
   "source": [
    "y"
   ]
  },
  {
   "cell_type": "code",
   "execution_count": 142,
   "metadata": {
    "ExecuteTime": {
     "end_time": "2020-08-13T13:21:59.722179Z",
     "start_time": "2020-08-13T13:21:59.714184Z"
    }
   },
   "outputs": [],
   "source": [
    "labels = ['Hybrid','Electric']"
   ]
  },
  {
   "cell_type": "code",
   "execution_count": 108,
   "metadata": {
    "ExecuteTime": {
     "end_time": "2020-08-13T10:17:48.190365Z",
     "start_time": "2020-08-13T10:17:48.182371Z"
    }
   },
   "outputs": [
    {
     "data": {
      "text/plain": [
       "[-7.428839878591473, -7.428839878591473]"
      ]
     },
     "execution_count": 108,
     "metadata": {},
     "output_type": "execute_result"
    }
   ],
   "source": [
    "y"
   ]
  },
  {
   "cell_type": "code",
   "execution_count": 143,
   "metadata": {
    "ExecuteTime": {
     "end_time": "2020-08-13T13:22:02.520640Z",
     "start_time": "2020-08-13T13:22:02.086892Z"
    }
   },
   "outputs": [
    {
     "data": {
      "image/png": "[encoded data removed]",
      "text/plain": [
       "<Figure size 288x288 with 1 Axes>"
      ]
     },
     "metadata": {
      "needs_background": "light"
     },
     "output_type": "display_data"
    }
   ],
   "source": [
    "\n",
    "    \n",
    "    tsne_model = TSNE(perplexity=40, n_components=2, init='pca', n_iter=2500, random_state=23)\n",
    "    new_values = tsne_model.fit_transform(tokens)\n",
    "\n",
    "    x = []\n",
    "    y = []\n",
    "\n",
    "    for value in new_values:\n",
    "        x.append(value[0])\n",
    "        y.append(value[1])\n",
    "    \n",
    "    #y=[log(i,10) for i in y]\n",
    "        \n",
    "    plt.figure(figsize=(4, 4)) \n",
    "\n",
    "    plt.scatter(x[0],y[0])\n",
    "    plt.annotate(labels[0],\n",
    "                     xy=(x[0], y[0]),\n",
    "                     xytext=(1, 3),\n",
    "                     textcoords='offset points',\n",
    "                     ha='left',\n",
    "                     va='bottom')\n",
    "    \n",
    "    plt.scatter(x[1],y[1])\n",
    "    plt.annotate(labels[1],\n",
    "                     xy=(x[1], y[1]),\n",
    "                     xytext=(1, 3),\n",
    "                     textcoords='offset points',\n",
    "                     ha='right',\n",
    "                     va='bottom')\n",
    "        \n",
    "        \n",
    "    plt.xlabel('Dimension 1')\n",
    "    plt.ylabel('Dimension 2')\n",
    "#plt.title(\"Semantic Similarity for 'Electric' & 'Hybrid'\",size=10)\n",
    "    \n",
    "\n",
    "plt.ylim(-500,500)\n",
    "    \n",
    "#plt.grid()\n",
    "\n",
    "#plt.xticks([])\n",
    "#plt.yticks([])\n",
    "\n",
    "#plt.vlines(x[0], -7.85, y[0])\n",
    "#plt.hlines(y, xmin, xmax)\n",
    "\n",
    "#plt.vlines(0,0,0.5)\n",
    "\n",
    "plt.savefig('similarity44.pdf',\n",
    "            transparent=True,\n",
    "            bbox_inches='tight',\n",
    "            pad_inches=0)\n",
    "\n",
    "# plt.axhline(y=3.7252903e-08, c='r', ls='--', lw=2)\n",
    "# plt.axvline(x=428.71964, c='g', ls='-.', lw=2)\n",
    "\n",
    "        \n",
    "    plt.show()"
   ]
  },
  {
   "cell_type": "markdown",
   "metadata": {},
   "source": [
    "pca=PCA(n_components=2)\n",
    ">>> newData=pca.fit_transform(data)\n"
   ]
  },
  {
   "cell_type": "code",
   "execution_count": null,
   "metadata": {},
   "outputs": [],
   "source": [
    "Axes3D.scatter(xs, ys, zs=0, zdir='z', s=20, c=None, depthshade=True, *args, **kwargs)"
   ]
  },
  {
   "cell_type": "code",
   "execution_count": null,
   "metadata": {},
   "outputs": [],
   "source": [
    "import"
   ]
  },
  {
   "cell_type": "code",
   "execution_count": null,
   "metadata": {},
   "outputs": [],
   "source": [
    "sklearn.decomposition.PCA(n_components=None, copy=True, whiten=False)"
   ]
  }
 ],
 "metadata": {
  "kernelspec": {
   "display_name": "Python 3",
   "language": "python",
   "name": "python3"
  },
  "language_info": {
   "codemirror_mode": {
    "name": "ipython",
    "version": 3
   },
   "file_extension": ".py",
   "mimetype": "text/x-python",
   "name": "python",
   "nbconvert_exporter": "python",
   "pygments_lexer": "ipython3",
   "version": "3.7.4"
  },
  "toc": {
   "base_numbering": 1,
   "nav_menu": {},
   "number_sections": true,
   "sideBar": true,
   "skip_h1_title": false,
   "title_cell": "Table of Contents",
   "title_sidebar": "Contents",
   "toc_cell": false,
   "toc_position": {},
   "toc_section_display": true,
   "toc_window_display": false
  },
  "varInspector": {
   "cols": {
    "lenName": 16,
    "lenType": 16,
    "lenVar": 40
   },
   "kernels_config": {
    "python": {
     "delete_cmd_postfix": "",
     "delete_cmd_prefix": "del ",
     "library": "var_list.py",
     "varRefreshCmd": "print(var_dic_list())"
    },
    "r": {
     "delete_cmd_postfix": ") ",
     "delete_cmd_prefix": "rm(",
     "library": "var_list.r",
     "varRefreshCmd": "cat(var_dic_list()) "
    }
   },
   "types_to_exclude": [
    "module",
    "function",
    "builtin_function_or_method",
    "instance",
    "_Feature"
   ],
   "window_display": false
  }
 },
 "nbformat": 4,
 "nbformat_minor": 2
}
