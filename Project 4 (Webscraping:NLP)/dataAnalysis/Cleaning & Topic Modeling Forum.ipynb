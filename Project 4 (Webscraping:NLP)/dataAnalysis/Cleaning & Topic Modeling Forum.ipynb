{
 "cells": [
  {
   "cell_type": "markdown",
   "metadata": {},
   "source": [
    "# Libraries"
   ]
  },
  {
   "cell_type": "code",
   "execution_count": 1,
   "metadata": {
    "ExecuteTime": {
     "end_time": "2020-08-04T13:06:33.373824Z",
     "start_time": "2020-08-04T13:06:30.498399Z"
    }
   },
   "outputs": [],
   "source": [
    "from nltk.corpus import stopwords\n",
    "import nltk\n",
    "# from nltk import pos_tag, word_tokenize"
   ]
  },
  {
   "cell_type": "code",
   "execution_count": 5,
   "metadata": {
    "ExecuteTime": {
     "end_time": "2020-08-04T17:28:04.409738Z",
     "start_time": "2020-08-04T17:28:04.375759Z"
    }
   },
   "outputs": [],
   "source": [
    "# basic operations\n",
    "import os\n",
    "import re\n",
    "#import time\n",
    "\n",
    "# utilities\n",
    "#from pprint import pprint as pp\n",
    "\n",
    "# data analysis/management/manipulation\n",
    "import numpy as np\n",
    "import pandas as pd\n",
    "#import sklearn\n",
    "\n",
    "# text analysis\n",
    "import gensim\n",
    "from gensim.models import LdaModel, ldamodel\n",
    "from gensim.models import LsiModel, lsimodel\n",
    "from gensim.models import Phrases\n",
    "from gensim.models import CoherenceModel  \n",
    "from gensim.corpora import Dictionary\n",
    "from gensim.similarities import MatrixSimilarity\n",
    "'''\n",
    "Uncomment the next two lines of code if you don't have a copy of the\n",
    "Mallet software installed in your machine\n",
    "'''\n",
    "# ! wget http://mallet.cs.umass.edu/dist/mallet-2.0.8.zip # * update if needed *\n",
    "# ! unzip mallet-2.0.8.zip\n",
    "import spacy\n",
    "import en_core_web_lg\n",
    "\n",
    "\n",
    "# visualization\n",
    "import matplotlib.pyplot as plt\n",
    "import matplotlib.cm as cm\n",
    "import pyLDAvis\n",
    "import pyLDAvis.gensim"
   ]
  },
  {
   "cell_type": "code",
   "execution_count": 1,
   "metadata": {
    "ExecuteTime": {
     "end_time": "2020-08-22T15:39:08.280035Z",
     "start_time": "2020-08-22T15:39:06.882835Z"
    }
   },
   "outputs": [],
   "source": [
    "# data analysis/management/manipulation\n",
    "import numpy as np\n",
    "import pandas as pd\n",
    "#import sklearn\n",
    "# visualization\n",
    "import matplotlib.pyplot as plt\n",
    "import matplotlib.cm as cm\n",
    "#import pyLDAvis\n",
    "#import pyLDAvis.gensim"
   ]
  },
  {
   "cell_type": "code",
   "execution_count": 3,
   "metadata": {
    "ExecuteTime": {
     "end_time": "2020-08-04T13:06:38.547042Z",
     "start_time": "2020-08-04T13:06:38.534041Z"
    }
   },
   "outputs": [],
   "source": [
    "# data vis\n",
    "%matplotlib inline\n",
    "\n",
    "# send output to the screen\n",
    "LINE = ''.join(['\\n', 79 * '-', '\\n'])"
   ]
  },
  {
   "cell_type": "code",
   "execution_count": 4,
   "metadata": {
    "ExecuteTime": {
     "end_time": "2020-08-04T13:06:47.537247Z",
     "start_time": "2020-08-04T13:06:47.284393Z"
    },
    "collapsed": true
   },
   "outputs": [
    {
     "ename": "NameError",
     "evalue": "name 'DOCS_PHRASED' is not defined",
     "output_type": "error",
     "traceback": [
      "\u001b[1;31m---------------------------------------------------------------------------\u001b[0m",
      "\u001b[1;31mNameError\u001b[0m                                 Traceback (most recent call last)",
      "\u001b[1;32m<ipython-input-4-81c51db234ce>\u001b[0m in \u001b[0;36m<module>\u001b[1;34m\u001b[0m\n\u001b[1;32m----> 1\u001b[1;33m \u001b[0mdf\u001b[0m\u001b[1;33m[\u001b[0m\u001b[1;34m'docs_phrases'\u001b[0m\u001b[1;33m]\u001b[0m\u001b[1;33m=\u001b[0m\u001b[0mnp\u001b[0m\u001b[1;33m.\u001b[0m\u001b[0marray\u001b[0m\u001b[1;33m(\u001b[0m\u001b[0mDOCS_PHRASED\u001b[0m\u001b[1;33m)\u001b[0m\u001b[1;33m\u001b[0m\u001b[1;33m\u001b[0m\u001b[0m\n\u001b[0m\u001b[0;32m      2\u001b[0m \u001b[0mdf\u001b[0m\u001b[1;33m.\u001b[0m\u001b[0mto_csv\u001b[0m\u001b[1;33m(\u001b[0m\u001b[1;34m\"forum with phrases.csv\"\u001b[0m\u001b[1;33m)\u001b[0m\u001b[1;33m\u001b[0m\u001b[1;33m\u001b[0m\u001b[0m\n",
      "\u001b[1;31mNameError\u001b[0m: name 'DOCS_PHRASED' is not defined"
     ]
    }
   ],
   "source": [
    "df['docs_phrases']=np.array(DOCS_PHRASED)\n",
    "df.to_csv(\"forum with phrases.csv\")"
   ]
  },
  {
   "cell_type": "markdown",
   "metadata": {},
   "source": [
    "# Load data"
   ]
  },
  {
   "cell_type": "code",
   "execution_count": 8,
   "metadata": {
    "ExecuteTime": {
     "end_time": "2020-08-04T17:29:10.290521Z",
     "start_time": "2020-08-04T17:29:10.217582Z"
    }
   },
   "outputs": [],
   "source": [
    "## Read in the scraped data\n",
    "df = pd.read_csv(\"forumdata.csv\")"
   ]
  },
  {
   "cell_type": "code",
   "execution_count": 7,
   "metadata": {
    "ExecuteTime": {
     "end_time": "2020-07-30T15:32:00.516241Z",
     "start_time": "2020-07-30T15:32:00.508243Z"
    }
   },
   "outputs": [
    {
     "data": {
      "text/plain": [
       "True"
      ]
     },
     "execution_count": 7,
     "metadata": {},
     "output_type": "execute_result"
    }
   ],
   "source": [
    "df['body'].isnull().count() == len(df['body'])"
   ]
  },
  {
   "cell_type": "code",
   "execution_count": 8,
   "metadata": {
    "ExecuteTime": {
     "end_time": "2020-07-30T15:32:01.450033Z",
     "start_time": "2020-07-30T15:32:01.442039Z"
    }
   },
   "outputs": [
    {
     "data": {
      "text/plain": [
       "True"
      ]
     },
     "execution_count": 8,
     "metadata": {},
     "output_type": "execute_result"
    }
   ],
   "source": [
    "df['date'].isnull().count() == len(df['date'])"
   ]
  },
  {
   "cell_type": "code",
   "execution_count": 9,
   "metadata": {
    "ExecuteTime": {
     "end_time": "2020-07-30T15:32:02.281426Z",
     "start_time": "2020-07-30T15:32:02.270415Z"
    }
   },
   "outputs": [],
   "source": [
    "df.dropna(subset = [\"body\"], inplace=True)"
   ]
  },
  {
   "cell_type": "code",
   "execution_count": 10,
   "metadata": {
    "ExecuteTime": {
     "end_time": "2020-07-30T15:32:03.020583Z",
     "start_time": "2020-07-30T15:32:03.013587Z"
    }
   },
   "outputs": [],
   "source": [
    "df.fillna('\\n Sun, 02/05/2017 - 14:25\\n', inplace=True)"
   ]
  },
  {
   "cell_type": "code",
   "execution_count": 11,
   "metadata": {
    "ExecuteTime": {
     "end_time": "2020-07-30T15:32:03.581081Z",
     "start_time": "2020-07-30T15:32:03.557094Z"
    }
   },
   "outputs": [],
   "source": [
    "df.drop_duplicates(subset = [\"body\"], keep='first',inplace=True)"
   ]
  },
  {
   "cell_type": "code",
   "execution_count": 12,
   "metadata": {
    "ExecuteTime": {
     "end_time": "2020-07-30T15:32:04.139243Z",
     "start_time": "2020-07-30T15:32:04.129251Z"
    }
   },
   "outputs": [
    {
     "name": "stdout",
     "output_type": "stream",
     "text": [
      "<class 'pandas.core.frame.DataFrame'>\n",
      "Int64Index: 1287 entries, 0 to 1301\n",
      "Data columns (total 4 columns):\n",
      "name     1287 non-null object\n",
      "date     1287 non-null object\n",
      "title    1287 non-null object\n",
      "body     1287 non-null object\n",
      "dtypes: object(4)\n",
      "memory usage: 50.3+ KB\n"
     ]
    }
   ],
   "source": [
    "df.info()"
   ]
  },
  {
   "cell_type": "code",
   "execution_count": 57,
   "metadata": {
    "ExecuteTime": {
     "end_time": "2020-07-29T07:13:42.513328Z",
     "start_time": "2020-07-29T07:13:42.494341Z"
    }
   },
   "outputs": [
    {
     "data": {
      "text/html": [
       "<div>\n",
       "<style scoped>\n",
       "    .dataframe tbody tr th:only-of-type {\n",
       "        vertical-align: middle;\n",
       "    }\n",
       "\n",
       "    .dataframe tbody tr th {\n",
       "        vertical-align: top;\n",
       "    }\n",
       "\n",
       "    .dataframe thead th {\n",
       "        text-align: right;\n",
       "    }\n",
       "</style>\n",
       "<table border=\"1\" class=\"dataframe\">\n",
       "  <thead>\n",
       "    <tr style=\"text-align: right;\">\n",
       "      <th></th>\n",
       "      <th>name</th>\n",
       "      <th>date</th>\n",
       "      <th>title</th>\n",
       "      <th>body</th>\n",
       "    </tr>\n",
       "  </thead>\n",
       "  <tbody>\n",
       "    <tr>\n",
       "      <td>0</td>\n",
       "      <td>Spaceangel</td>\n",
       "      <td>\\n      Sun, 02/05/2017 - 14:25\\n</td>\n",
       "      <td>Scooter chargers ~ in general &amp; NFPA/NEC</td>\n",
       "      <td>I have lived in a number of places in this won...</td>\n",
       "    </tr>\n",
       "    <tr>\n",
       "      <td>1</td>\n",
       "      <td>Orphee,MEroller,Orphee,Orphee,pcarlson1979,Jac...</td>\n",
       "      <td>\\n      Wed, 06/20/2012 - 09:11\\n             ...</td>\n",
       "      <td>3500W hub motor, question about real power and...</td>\n",
       "      <td>Hi all,I have a (small) problem on my electric...</td>\n",
       "    </tr>\n",
       "    <tr>\n",
       "      <td>2</td>\n",
       "      <td>IFIMotors</td>\n",
       "      <td>\\n      Tue, 06/12/2018 - 07:06\\n</td>\n",
       "      <td>NEW SEVCON GEN 4 80V FOR Sale</td>\n",
       "      <td>hello,\\ni have new Sevcon controllers for sale...</td>\n",
       "    </tr>\n",
       "    <tr>\n",
       "      <td>4</td>\n",
       "      <td>gatorsby7,power-up,Pinche</td>\n",
       "      <td>\\n      Tue, 11/01/2011 - 10:24\\n             ...</td>\n",
       "      <td>how does 24v 4-wire reversible motor work?</td>\n",
       "      <td>i have a mobility scooter (JP Cruiser - HCF305...</td>\n",
       "    </tr>\n",
       "    <tr>\n",
       "      <td>5</td>\n",
       "      <td>tilt2468,reikiman,antiscab,tilt2468,tilt2468,m...</td>\n",
       "      <td>\\n      Thu, 06/11/2009 - 19:03\\n             ...</td>\n",
       "      <td>Lithium safety for an e-bike</td>\n",
       "      <td>I am getting some severe warnings on an e-bike...</td>\n",
       "    </tr>\n",
       "    <tr>\n",
       "      <td>...</td>\n",
       "      <td>...</td>\n",
       "      <td>...</td>\n",
       "      <td>...</td>\n",
       "      <td>...</td>\n",
       "    </tr>\n",
       "    <tr>\n",
       "      <td>1297</td>\n",
       "      <td>ElectroLex,azvectrix,ElectroLex,azvectrix,Don ...</td>\n",
       "      <td>\\n      Tue, 03/27/2012 - 14:35\\n             ...</td>\n",
       "      <td>Any east coasters/southeast/mid atlantic folks...</td>\n",
       "      <td>I'm in the Raleigh-Durham-Chapel Hill area of ...</td>\n",
       "    </tr>\n",
       "    <tr>\n",
       "      <td>1298</td>\n",
       "      <td>Spaceangel,Johnny J,Spaceangel</td>\n",
       "      <td>\\n      Fri, 08/16/2013 - 11:30\\n             ...</td>\n",
       "      <td>Battery Ohm Meters</td>\n",
       "      <td>Testing of Battery packs and modules.,OHM METE...</td>\n",
       "    </tr>\n",
       "    <tr>\n",
       "      <td>1299</td>\n",
       "      <td>reikiman</td>\n",
       "      <td>\\n      Thu, 11/14/2013 - 12:08\\n</td>\n",
       "      <td>Clipper Creek announces LCS-25 EVSE w/ pre-wir...</td>\n",
       "      <td>The expense of buying a home charging station ...</td>\n",
       "    </tr>\n",
       "    <tr>\n",
       "      <td>1300</td>\n",
       "      <td>Webmaster</td>\n",
       "      <td>\\n      Wed, 12/11/2013 - 12:18\\n</td>\n",
       "      <td>Clipper Creek new inexpensive charging station...</td>\n",
       "      <td>What's important about this one is that it's v...</td>\n",
       "    </tr>\n",
       "    <tr>\n",
       "      <td>1301</td>\n",
       "      <td>reikiman</td>\n",
       "      <td>\\n      Thu, 03/13/2014 - 11:26\\n</td>\n",
       "      <td>CLIPPERCREEK LAUNCHES the HCS-60, HIGH POWER 2...</td>\n",
       "      <td>Just received this press release for a new EVS...</td>\n",
       "    </tr>\n",
       "  </tbody>\n",
       "</table>\n",
       "<p>1287 rows × 4 columns</p>\n",
       "</div>"
      ],
      "text/plain": [
       "                                                   name  \\\n",
       "0                                            Spaceangel   \n",
       "1     Orphee,MEroller,Orphee,Orphee,pcarlson1979,Jac...   \n",
       "2                                             IFIMotors   \n",
       "4                             gatorsby7,power-up,Pinche   \n",
       "5     tilt2468,reikiman,antiscab,tilt2468,tilt2468,m...   \n",
       "...                                                 ...   \n",
       "1297  ElectroLex,azvectrix,ElectroLex,azvectrix,Don ...   \n",
       "1298                     Spaceangel,Johnny J,Spaceangel   \n",
       "1299                                           reikiman   \n",
       "1300                                          Webmaster   \n",
       "1301                                           reikiman   \n",
       "\n",
       "                                                   date  \\\n",
       "0     \\n      Sun, 02/05/2017 - 14:25\\n                   \n",
       "1     \\n      Wed, 06/20/2012 - 09:11\\n             ...   \n",
       "2     \\n      Tue, 06/12/2018 - 07:06\\n                   \n",
       "4     \\n      Tue, 11/01/2011 - 10:24\\n             ...   \n",
       "5     \\n      Thu, 06/11/2009 - 19:03\\n             ...   \n",
       "...                                                 ...   \n",
       "1297  \\n      Tue, 03/27/2012 - 14:35\\n             ...   \n",
       "1298  \\n      Fri, 08/16/2013 - 11:30\\n             ...   \n",
       "1299  \\n      Thu, 11/14/2013 - 12:08\\n                   \n",
       "1300  \\n      Wed, 12/11/2013 - 12:18\\n                   \n",
       "1301  \\n      Thu, 03/13/2014 - 11:26\\n                   \n",
       "\n",
       "                                                  title  \\\n",
       "0              Scooter chargers ~ in general & NFPA/NEC   \n",
       "1     3500W hub motor, question about real power and...   \n",
       "2                        NEW SEVCON GEN 4 80V FOR Sale    \n",
       "4            how does 24v 4-wire reversible motor work?   \n",
       "5                          Lithium safety for an e-bike   \n",
       "...                                                 ...   \n",
       "1297  Any east coasters/southeast/mid atlantic folks...   \n",
       "1298                                 Battery Ohm Meters   \n",
       "1299  Clipper Creek announces LCS-25 EVSE w/ pre-wir...   \n",
       "1300  Clipper Creek new inexpensive charging station...   \n",
       "1301  CLIPPERCREEK LAUNCHES the HCS-60, HIGH POWER 2...   \n",
       "\n",
       "                                                   body  \n",
       "0     I have lived in a number of places in this won...  \n",
       "1     Hi all,I have a (small) problem on my electric...  \n",
       "2     hello,\\ni have new Sevcon controllers for sale...  \n",
       "4     i have a mobility scooter (JP Cruiser - HCF305...  \n",
       "5     I am getting some severe warnings on an e-bike...  \n",
       "...                                                 ...  \n",
       "1297  I'm in the Raleigh-Durham-Chapel Hill area of ...  \n",
       "1298  Testing of Battery packs and modules.,OHM METE...  \n",
       "1299  The expense of buying a home charging station ...  \n",
       "1300  What's important about this one is that it's v...  \n",
       "1301  Just received this press release for a new EVS...  \n",
       "\n",
       "[1287 rows x 4 columns]"
      ]
     },
     "execution_count": 57,
     "metadata": {},
     "output_type": "execute_result"
    }
   ],
   "source": [
    "df"
   ]
  },
  {
   "cell_type": "markdown",
   "metadata": {},
   "source": [
    "## extract year"
   ]
  },
  {
   "cell_type": "code",
   "execution_count": 13,
   "metadata": {
    "ExecuteTime": {
     "end_time": "2020-07-30T15:32:09.157280Z",
     "start_time": "2020-07-30T15:32:09.146286Z"
    }
   },
   "outputs": [],
   "source": [
    "df['date']=df.date.astype(str)\n",
    "df.loc[:, 'date'] = df['date'].str.replace('\\n', '')"
   ]
  },
  {
   "cell_type": "code",
   "execution_count": 14,
   "metadata": {
    "ExecuteTime": {
     "end_time": "2020-07-30T15:32:09.861301Z",
     "start_time": "2020-07-30T15:32:09.854305Z"
    }
   },
   "outputs": [],
   "source": [
    "year1=[i.split('/')[2] for i in df.date]\n",
    "year=[i.split(' -')[0] for i in year1]"
   ]
  },
  {
   "cell_type": "code",
   "execution_count": 15,
   "metadata": {
    "ExecuteTime": {
     "end_time": "2020-07-30T15:32:12.323782Z",
     "start_time": "2020-07-30T15:32:12.316790Z"
    }
   },
   "outputs": [
    {
     "data": {
      "text/plain": [
       "{'2007',\n",
       " '2008',\n",
       " '2009',\n",
       " '2010',\n",
       " '2011',\n",
       " '2012',\n",
       " '2013',\n",
       " '2014',\n",
       " '2015',\n",
       " '2016',\n",
       " '2017',\n",
       " '2018',\n",
       " '2020'}"
      ]
     },
     "execution_count": 15,
     "metadata": {},
     "output_type": "execute_result"
    }
   ],
   "source": [
    "set(year)"
   ]
  },
  {
   "cell_type": "code",
   "execution_count": 16,
   "metadata": {
    "ExecuteTime": {
     "end_time": "2020-07-30T15:32:16.465140Z",
     "start_time": "2020-07-30T15:32:16.457145Z"
    }
   },
   "outputs": [],
   "source": [
    "df['year']=np.array(year)"
   ]
  },
  {
   "cell_type": "code",
   "execution_count": 17,
   "metadata": {
    "ExecuteTime": {
     "end_time": "2020-07-30T15:32:17.000941Z",
     "start_time": "2020-07-30T15:32:16.996963Z"
    }
   },
   "outputs": [],
   "source": [
    "df.reset_index(inplace=True)"
   ]
  },
  {
   "cell_type": "code",
   "execution_count": 18,
   "metadata": {
    "ExecuteTime": {
     "end_time": "2020-07-30T15:32:17.521981Z",
     "start_time": "2020-07-30T15:32:17.513985Z"
    }
   },
   "outputs": [],
   "source": [
    "df=df.drop(['date','index'],axis=1)"
   ]
  },
  {
   "cell_type": "code",
   "execution_count": 19,
   "metadata": {
    "ExecuteTime": {
     "end_time": "2020-07-30T15:32:18.243839Z",
     "start_time": "2020-07-30T15:32:18.222845Z"
    }
   },
   "outputs": [
    {
     "data": {
      "text/html": [
       "<div>\n",
       "<style scoped>\n",
       "    .dataframe tbody tr th:only-of-type {\n",
       "        vertical-align: middle;\n",
       "    }\n",
       "\n",
       "    .dataframe tbody tr th {\n",
       "        vertical-align: top;\n",
       "    }\n",
       "\n",
       "    .dataframe thead th {\n",
       "        text-align: right;\n",
       "    }\n",
       "</style>\n",
       "<table border=\"1\" class=\"dataframe\">\n",
       "  <thead>\n",
       "    <tr style=\"text-align: right;\">\n",
       "      <th></th>\n",
       "      <th>name</th>\n",
       "      <th>title</th>\n",
       "      <th>body</th>\n",
       "      <th>year</th>\n",
       "    </tr>\n",
       "  </thead>\n",
       "  <tbody>\n",
       "    <tr>\n",
       "      <td>0</td>\n",
       "      <td>Spaceangel</td>\n",
       "      <td>Scooter chargers ~ in general &amp; NFPA/NEC</td>\n",
       "      <td>I have lived in a number of places in this won...</td>\n",
       "      <td>2017</td>\n",
       "    </tr>\n",
       "    <tr>\n",
       "      <td>1</td>\n",
       "      <td>Orphee,MEroller,Orphee,Orphee,pcarlson1979,Jac...</td>\n",
       "      <td>3500W hub motor, question about real power and...</td>\n",
       "      <td>Hi all,I have a (small) problem on my electric...</td>\n",
       "      <td>2012</td>\n",
       "    </tr>\n",
       "    <tr>\n",
       "      <td>2</td>\n",
       "      <td>IFIMotors</td>\n",
       "      <td>NEW SEVCON GEN 4 80V FOR Sale</td>\n",
       "      <td>hello,\\ni have new Sevcon controllers for sale...</td>\n",
       "      <td>2018</td>\n",
       "    </tr>\n",
       "    <tr>\n",
       "      <td>3</td>\n",
       "      <td>gatorsby7,power-up,Pinche</td>\n",
       "      <td>how does 24v 4-wire reversible motor work?</td>\n",
       "      <td>i have a mobility scooter (JP Cruiser - HCF305...</td>\n",
       "      <td>2011</td>\n",
       "    </tr>\n",
       "    <tr>\n",
       "      <td>4</td>\n",
       "      <td>tilt2468,reikiman,antiscab,tilt2468,tilt2468,m...</td>\n",
       "      <td>Lithium safety for an e-bike</td>\n",
       "      <td>I am getting some severe warnings on an e-bike...</td>\n",
       "      <td>2009</td>\n",
       "    </tr>\n",
       "    <tr>\n",
       "      <td>...</td>\n",
       "      <td>...</td>\n",
       "      <td>...</td>\n",
       "      <td>...</td>\n",
       "      <td>...</td>\n",
       "    </tr>\n",
       "    <tr>\n",
       "      <td>1282</td>\n",
       "      <td>ElectroLex,azvectrix,ElectroLex,azvectrix,Don ...</td>\n",
       "      <td>Any east coasters/southeast/mid atlantic folks...</td>\n",
       "      <td>I'm in the Raleigh-Durham-Chapel Hill area of ...</td>\n",
       "      <td>2012</td>\n",
       "    </tr>\n",
       "    <tr>\n",
       "      <td>1283</td>\n",
       "      <td>Spaceangel,Johnny J,Spaceangel</td>\n",
       "      <td>Battery Ohm Meters</td>\n",
       "      <td>Testing of Battery packs and modules.,OHM METE...</td>\n",
       "      <td>2013</td>\n",
       "    </tr>\n",
       "    <tr>\n",
       "      <td>1284</td>\n",
       "      <td>reikiman</td>\n",
       "      <td>Clipper Creek announces LCS-25 EVSE w/ pre-wir...</td>\n",
       "      <td>The expense of buying a home charging station ...</td>\n",
       "      <td>2013</td>\n",
       "    </tr>\n",
       "    <tr>\n",
       "      <td>1285</td>\n",
       "      <td>Webmaster</td>\n",
       "      <td>Clipper Creek new inexpensive charging station...</td>\n",
       "      <td>What's important about this one is that it's v...</td>\n",
       "      <td>2013</td>\n",
       "    </tr>\n",
       "    <tr>\n",
       "      <td>1286</td>\n",
       "      <td>reikiman</td>\n",
       "      <td>CLIPPERCREEK LAUNCHES the HCS-60, HIGH POWER 2...</td>\n",
       "      <td>Just received this press release for a new EVS...</td>\n",
       "      <td>2014</td>\n",
       "    </tr>\n",
       "  </tbody>\n",
       "</table>\n",
       "<p>1287 rows × 4 columns</p>\n",
       "</div>"
      ],
      "text/plain": [
       "                                                   name  \\\n",
       "0                                            Spaceangel   \n",
       "1     Orphee,MEroller,Orphee,Orphee,pcarlson1979,Jac...   \n",
       "2                                             IFIMotors   \n",
       "3                             gatorsby7,power-up,Pinche   \n",
       "4     tilt2468,reikiman,antiscab,tilt2468,tilt2468,m...   \n",
       "...                                                 ...   \n",
       "1282  ElectroLex,azvectrix,ElectroLex,azvectrix,Don ...   \n",
       "1283                     Spaceangel,Johnny J,Spaceangel   \n",
       "1284                                           reikiman   \n",
       "1285                                          Webmaster   \n",
       "1286                                           reikiman   \n",
       "\n",
       "                                                  title  \\\n",
       "0              Scooter chargers ~ in general & NFPA/NEC   \n",
       "1     3500W hub motor, question about real power and...   \n",
       "2                        NEW SEVCON GEN 4 80V FOR Sale    \n",
       "3            how does 24v 4-wire reversible motor work?   \n",
       "4                          Lithium safety for an e-bike   \n",
       "...                                                 ...   \n",
       "1282  Any east coasters/southeast/mid atlantic folks...   \n",
       "1283                                 Battery Ohm Meters   \n",
       "1284  Clipper Creek announces LCS-25 EVSE w/ pre-wir...   \n",
       "1285  Clipper Creek new inexpensive charging station...   \n",
       "1286  CLIPPERCREEK LAUNCHES the HCS-60, HIGH POWER 2...   \n",
       "\n",
       "                                                   body  year  \n",
       "0     I have lived in a number of places in this won...  2017  \n",
       "1     Hi all,I have a (small) problem on my electric...  2012  \n",
       "2     hello,\\ni have new Sevcon controllers for sale...  2018  \n",
       "3     i have a mobility scooter (JP Cruiser - HCF305...  2011  \n",
       "4     I am getting some severe warnings on an e-bike...  2009  \n",
       "...                                                 ...   ...  \n",
       "1282  I'm in the Raleigh-Durham-Chapel Hill area of ...  2012  \n",
       "1283  Testing of Battery packs and modules.,OHM METE...  2013  \n",
       "1284  The expense of buying a home charging station ...  2013  \n",
       "1285  What's important about this one is that it's v...  2013  \n",
       "1286  Just received this press release for a new EVS...  2014  \n",
       "\n",
       "[1287 rows x 4 columns]"
      ]
     },
     "execution_count": 19,
     "metadata": {},
     "output_type": "execute_result"
    }
   ],
   "source": [
    "df"
   ]
  },
  {
   "cell_type": "markdown",
   "metadata": {},
   "source": [
    "# Data pre-processing"
   ]
  },
  {
   "cell_type": "code",
   "execution_count": 21,
   "metadata": {
    "ExecuteTime": {
     "end_time": "2020-07-30T15:33:21.386317Z",
     "start_time": "2020-07-30T15:33:21.366347Z"
    }
   },
   "outputs": [],
   "source": [
    "# remove returns\n",
    "df.loc[:, 'body'] = df['body'].str.replace('\\n', '')"
   ]
  },
  {
   "cell_type": "code",
   "execution_count": 22,
   "metadata": {
    "ExecuteTime": {
     "end_time": "2020-07-30T15:33:22.138080Z",
     "start_time": "2020-07-30T15:33:21.966776Z"
    }
   },
   "outputs": [],
   "source": [
    "# remove punctuation\n",
    "df['body'] = df['body'].str.replace('[^\\\\w\\\\s]','')"
   ]
  },
  {
   "cell_type": "code",
   "execution_count": 23,
   "metadata": {
    "ExecuteTime": {
     "end_time": "2020-07-30T15:33:22.780193Z",
     "start_time": "2020-07-30T15:33:22.538314Z"
    }
   },
   "outputs": [],
   "source": [
    "# lower casing\n",
    "df['body'] = df['body'].apply(lambda x: \" \".join(x.lower() for x in x.split()))"
   ]
  },
  {
   "cell_type": "code",
   "execution_count": 28,
   "metadata": {
    "ExecuteTime": {
     "end_time": "2020-07-30T15:33:49.722838Z",
     "start_time": "2020-07-30T15:33:47.851848Z"
    }
   },
   "outputs": [],
   "source": [
    "## stopwords\n",
    "stop = stopwords.words('english')\n",
    "\n",
    "stop.extend([\"ev\",\"electric\",\"hybrid\",\"car\",\"vehicle\",\"bike\",\"cars\",\"vehicles\",\"scooter\" ,\"cycle\",\"good\",\"thing\"])\n",
    "\n",
    "df[\"body\"] = df[\"body\"].apply(lambda x: \" \".join(x for x in x.split() if x not in stop))"
   ]
  },
  {
   "cell_type": "code",
   "execution_count": 29,
   "metadata": {
    "ExecuteTime": {
     "end_time": "2020-07-30T15:33:50.014099Z",
     "start_time": "2020-07-30T15:33:49.888168Z"
    }
   },
   "outputs": [],
   "source": [
    "# list of abstract\n",
    "DOCS = [body.strip().lower() for body in df.body]\n",
    "\n",
    "# hyphen to underscores\n",
    "DOCS = [re.sub(r'\\b-\\b', '_', text) for text in DOCS]"
   ]
  },
  {
   "cell_type": "markdown",
   "metadata": {},
   "source": [
    "# Spacy pipeline"
   ]
  },
  {
   "cell_type": "code",
   "execution_count": 30,
   "metadata": {
    "ExecuteTime": {
     "end_time": "2020-07-30T15:34:11.760696Z",
     "start_time": "2020-07-30T15:33:53.085589Z"
    }
   },
   "outputs": [],
   "source": [
    "nlp = spacy.load('en_core_web_lg')"
   ]
  },
  {
   "cell_type": "code",
   "execution_count": 31,
   "metadata": {
    "ExecuteTime": {
     "end_time": "2020-07-30T15:36:28.922875Z",
     "start_time": "2020-07-30T15:34:11.904604Z"
    }
   },
   "outputs": [],
   "source": [
    "# lemmatization\n",
    "\n",
    "DOCS_TOKENS, TMP_TOKENS = [], []\n",
    "\n",
    "for doc in DOCS:\n",
    "    TMP_TOKENS=[token.lemma_ for token in nlp(doc) \n",
    "                  if not token.is_stop\n",
    "                  and not token.is_space\n",
    "                  and not token.is_punct\n",
    "                  and not token.like_num\n",
    "                  and not token.is_oov\n",
    "                  and len(token.lemma_) > 1]\n",
    "    DOCS_TOKENS.append(TMP_TOKENS)\n",
    "    TMP_TOKENS=[]"
   ]
  },
  {
   "cell_type": "markdown",
   "metadata": {},
   "source": [
    "## Take into account bi- and tri-grams"
   ]
  },
  {
   "cell_type": "code",
   "execution_count": 32,
   "metadata": {
    "ExecuteTime": {
     "end_time": "2020-07-30T15:36:36.170717Z",
     "start_time": "2020-07-30T15:36:29.233642Z"
    }
   },
   "outputs": [],
   "source": [
    "# get rid of common terms\n",
    "COMMON_TERMS = [u'of', u'with', u'without', u'and', u'or', u'the', u'a',\n",
    "                u'not', 'be', u'to', u'this', u'who', u'in']\n",
    "\n",
    "# find phrases\n",
    "BIGRAM = Phrases(DOCS_TOKENS,\n",
    "                 min_count=50,\n",
    "                 threshold=5,\n",
    "                 max_vocab_size=50000,\n",
    "                 common_terms=COMMON_TERMS)\n",
    "\n",
    "TRIGRAM = Phrases(BIGRAM[DOCS_TOKENS],\n",
    "                  min_count=50,\n",
    "                  threshold=5,\n",
    "                  max_vocab_size=50000,\n",
    "                  common_terms=COMMON_TERMS)\n",
    "\n",
    "# uncomment if bi-grammed, tokenized document is preferred\n",
    "# DOCS_PHRASED = [BIGRAM[line] for line in DOCS_TOKENS]\n",
    "DOCS_PHRASED = [TRIGRAM[BIGRAM[line]] for line in DOCS_TOKENS]\n",
    "\n",
    "# check nlp pipeline\n",
    "#print('',\n",
    "#      'Tokenized:', DOCS_TOKENS[0],\n",
    "#      'Tri-grammed tokenised:', DOCS_PHRASED[0],\n",
    "#      sep=LINE, end=LINE)"
   ]
  },
  {
   "cell_type": "markdown",
   "metadata": {},
   "source": [
    "# Topic modeling\n",
    "\n",
    "## Model building\n",
    "\n",
    "### Text transformation"
   ]
  },
  {
   "cell_type": "code",
   "execution_count": 33,
   "metadata": {
    "ExecuteTime": {
     "end_time": "2020-07-30T15:36:38.663287Z",
     "start_time": "2020-07-30T15:36:36.651386Z"
    }
   },
   "outputs": [],
   "source": [
    "DICT = Dictionary(DOCS_PHRASED)\n",
    "CORPUS = [DICT.doc2bow(doc) for doc in DOCS_PHRASED]"
   ]
  },
  {
   "cell_type": "code",
   "execution_count": 34,
   "metadata": {
    "ExecuteTime": {
     "end_time": "2020-07-30T15:36:39.298870Z",
     "start_time": "2020-07-30T15:36:39.292873Z"
    }
   },
   "outputs": [],
   "source": [
    "from gensim.models.wrappers import LdaMallet\n",
    "\n",
    "os.environ['MALLET_HOME'] = 'D:/BAmaster/mallet-2.0.8'\n",
    "MALLET_PATH= 'D:/BAmaster/mallet-2.0.8/bin/mallet.bat'"
   ]
  },
  {
   "cell_type": "markdown",
   "metadata": {},
   "source": [
    "##  Model evaluation\n",
    "\n",
    "### Get range of coherence values as the number of retained topics change"
   ]
  },
  {
   "cell_type": "code",
   "execution_count": 35,
   "metadata": {
    "ExecuteTime": {
     "end_time": "2020-07-30T15:36:39.919512Z",
     "start_time": "2020-07-30T15:36:39.906522Z"
    }
   },
   "outputs": [],
   "source": [
    "# define function\n",
    "def compute_coherence_values(dictionary, corpus, texts, limit, start, step):\n",
    "    \"\"\"\n",
    "    Compute c_v coherence for various number of topics\n",
    "\n",
    "    Parameters:\n",
    "    -----------\n",
    "    dictionary : Gensim dictionary\n",
    "    corpus     : Gensim corpus\n",
    "    texts      : List of input texts\n",
    "    limit      : Max number of topics\n",
    "\n",
    "    Returns:\n",
    "    --------\n",
    "    model_list       : List of LDA topic models\n",
    "    coherence_values : Coherence values corresponding to the LDA model\n",
    "                       with respective number of topics\n",
    "    \"\"\"\n",
    "    coherence_values = []\n",
    "    model_list = []\n",
    "    mallet_path = MALLET_PATH\n",
    "    for num_topics in range(start, limit, step):\n",
    "        model = gensim.models.wrappers.LdaMallet(mallet_path,\n",
    "                                                 corpus=corpus,\n",
    "                                                 num_topics=num_topics,\n",
    "                                                 id2word=dictionary,\n",
    "                                                 random_seed=123)\n",
    "        model_list.append(model)\n",
    "        coherencemodel = CoherenceModel(model=model,\n",
    "                                        texts=texts,\n",
    "                                        dictionary=dictionary,\n",
    "                                        coherence='c_v')\n",
    "        coherence_values.append(coherencemodel.get_coherence())\n",
    "\n",
    "    return model_list, coherence_values"
   ]
  },
  {
   "cell_type": "code",
   "execution_count": 73,
   "metadata": {
    "ExecuteTime": {
     "end_time": "2020-07-29T07:40:04.941162Z",
     "start_time": "2020-07-29T07:19:51.741330Z"
    }
   },
   "outputs": [],
   "source": [
    "# collect coherence scores as the number of retained topics change\n",
    "LIMIT, START, STEP = 20, 1, 1\n",
    "MODEL_LIST, COHER_VALS = compute_coherence_values(dictionary=DICT,\n",
    "                                                  corpus=CORPUS,\n",
    "                                                  texts=DOCS_PHRASED,\n",
    "                                                  start=START,\n",
    "                                                  limit=LIMIT,\n",
    "                                                  step=STEP)"
   ]
  },
  {
   "cell_type": "code",
   "execution_count": 74,
   "metadata": {
    "ExecuteTime": {
     "end_time": "2020-07-29T07:40:05.666768Z",
     "start_time": "2020-07-29T07:40:05.659751Z"
    }
   },
   "outputs": [
    {
     "data": {
      "text/plain": [
       "[0.3408082983905028,\n",
       " 0.39556699492543745,\n",
       " 0.3806115802515353,\n",
       " 0.41110181001523544,\n",
       " 0.46221689035570784,\n",
       " 0.4792771513434682,\n",
       " 0.44074904828596384,\n",
       " 0.4271333441006549,\n",
       " 0.4558936650330893,\n",
       " 0.4282837334203563,\n",
       " 0.4407382740267625,\n",
       " 0.45673808151523526,\n",
       " 0.46180297060143904,\n",
       " 0.44651912276075645,\n",
       " 0.4518152462505685,\n",
       " 0.455341477549128,\n",
       " 0.4676102621171287,\n",
       " 0.4592888212542738,\n",
       " 0.4480217489632556]"
      ]
     },
     "execution_count": 74,
     "metadata": {},
     "output_type": "execute_result"
    }
   ],
   "source": [
    "COHER_VALS"
   ]
  },
  {
   "cell_type": "code",
   "execution_count": 2,
   "metadata": {
    "ExecuteTime": {
     "end_time": "2020-08-22T15:39:12.010418Z",
     "start_time": "2020-08-22T15:39:12.004423Z"
    }
   },
   "outputs": [],
   "source": [
    "COHER_VALS=[0.3408082983905028,\n",
    " 0.39556699492543745,\n",
    " 0.3806115802515353,\n",
    " 0.41110181001523544,\n",
    " 0.46221689035570784,\n",
    " 0.4792771513434682,\n",
    " 0.44074904828596384,\n",
    " 0.4271333441006549,\n",
    " 0.4558936650330893,\n",
    " 0.4282837334203563,\n",
    " 0.4407382740267625,\n",
    " 0.45673808151523526,\n",
    " 0.46180297060143904,\n",
    " 0.44651912276075645,\n",
    " 0.4518152462505685,\n",
    " 0.455341477549128,\n",
    " 0.4676102621171287,\n",
    " 0.4592888212542738,\n",
    " 0.4480217489632556]"
   ]
  },
  {
   "cell_type": "code",
   "execution_count": 75,
   "metadata": {
    "ExecuteTime": {
     "end_time": "2020-07-29T07:40:06.586225Z",
     "start_time": "2020-07-29T07:40:06.577227Z"
    }
   },
   "outputs": [
    {
     "data": {
      "text/plain": [
       "0.4792771513434682"
      ]
     },
     "execution_count": 75,
     "metadata": {},
     "output_type": "execute_result"
    }
   ],
   "source": [
    "max(COHER_VALS)"
   ]
  },
  {
   "cell_type": "code",
   "execution_count": 5,
   "metadata": {
    "ExecuteTime": {
     "end_time": "2020-08-22T15:46:14.738904Z",
     "start_time": "2020-08-22T15:46:14.339139Z"
    }
   },
   "outputs": [
    {
     "data": {
      "image/png": "[encoded data removed]",
      "text/plain": [
       "<Figure size 432x288 with 1 Axes>"
      ]
     },
     "metadata": {
      "needs_background": "light"
     },
     "output_type": "display_data"
    }
   ],
   "source": [
    "# plot collected coherence scores data\n",
    "\n",
    "# data series\n",
    "X = range(1, 20, 1)\n",
    "Y = COHER_VALS\n",
    "\n",
    "# create figure\n",
    "FIG = plt.figure(figsize=(6, 4))\n",
    "AX = FIG.add_subplot(1, 1, 1)\n",
    "\n",
    "# plot data\n",
    "AX.plot(X, Y, marker='o', color='b', ls='-')\n",
    "\n",
    "# axes\n",
    "AX.set_xlabel(\"Forum Data\",size=12)\n",
    "AX.set_ylabel(\"Coherence score\",size=12)\n",
    "\n",
    "#IMP\n",
    "AX.set_xticks(np.arange(1, 20, 1))\n",
    "\n",
    "# reference line\n",
    "AX.axvline(x=6, ymin=0, ymax=1, color='r')\n",
    "\n",
    "# grid\n",
    "#AX.grid(True, ls='--')\n",
    "\n",
    "# save plot to file\n",
    "#CWD = CWD\n",
    "#FOLDER = 'exhibits/appxB'\n",
    "#FILE = 'B_0.pdf'\n",
    "\n",
    "plt.savefig('forum_cohere.pdf',\n",
    "            transparent=True,\n",
    "            bbox_inches='tight',\n",
    "            pad_inches=0)\n",
    "\n",
    "plt.show()"
   ]
  },
  {
   "cell_type": "code",
   "execution_count": 35,
   "metadata": {
    "ExecuteTime": {
     "end_time": "2020-07-24T15:13:44.120143Z",
     "start_time": "2020-07-24T15:13:44.101155Z"
    }
   },
   "outputs": [
    {
     "data": {
      "text/plain": [
       "<Figure size 432x288 with 0 Axes>"
      ]
     },
     "metadata": {},
     "output_type": "display_data"
    }
   ],
   "source": [
    "plt.savefig(\"tm for forumdata\",\n",
    "            transparent=True,\n",
    "            bbox_inches='tight',\n",
    "            pad_inches=0)"
   ]
  },
  {
   "cell_type": "code",
   "execution_count": 36,
   "metadata": {
    "ExecuteTime": {
     "end_time": "2020-07-30T15:37:23.750079Z",
     "start_time": "2020-07-30T15:36:40.655091Z"
    }
   },
   "outputs": [],
   "source": [
    "# suggested number of topics to retain -- see above\n",
    "N_TOPICS = 6\n",
    "\n",
    "# model estimation\n",
    "LDA_MALLET = gensim.models.wrappers.LdaMallet(MALLET_PATH,\n",
    "                                              corpus=CORPUS,\n",
    "                                              num_topics=N_TOPICS,\n",
    "                                              id2word=DICT,\n",
    "                                              random_seed=123)\n",
    "\n",
    "# print results\n",
    "#LDA_MALLET.print_topics(num_topics=N_TOPICS, num_words=10)"
   ]
  },
  {
   "cell_type": "code",
   "execution_count": 25,
   "metadata": {
    "ExecuteTime": {
     "end_time": "2020-07-28T07:51:09.727116Z",
     "start_time": "2020-07-28T07:51:09.716103Z"
    }
   },
   "outputs": [
    {
     "data": {
      "text/plain": [
       "[(0,\n",
       "  '0.037*\"wire\" + 0.017*\"switch\" + 0.017*\"light\" + 0.015*\"connect\" + 0.014*\"connector\" + 0.013*\"plug\" + 0.010*\"work\" + 0.009*\"end\" + 0.008*\"connection\" + 0.008*\"power\"'),\n",
       " (1,\n",
       "  '0.016*\"energy\" + 0.009*\"year\" + 0.009*\"system\" + 0.008*\"power\" + 0.008*\"people\" + 0.007*\"cost\" + 0.007*\"company\" + 0.007*\"large\" + 0.006*\"lithium\" + 0.005*\"product\"'),\n",
       " (2,\n",
       "  '0.089*\"battery\" + 0.077*\"charge\" + 0.073*\"cell\" + 0.068*\"charger\" + 0.032*\"pack\" + 0.025*\"bms\" + 0.024*\"voltage\" + 0.012*\"discharge\" + 0.010*\"balance\" + 0.010*\"parallel\"'),\n",
       " (3,\n",
       "  '0.087*\"battery\" + 0.043*\"pack\" + 0.015*\"range\" + 0.014*\"ah\" + 0.014*\"lifepo4\" + 0.013*\"buy\" + 0.012*\"ride\" + 0.012*\"mile\" + 0.010*\"36v\" + 0.010*\"48v\"'),\n",
       " (4,\n",
       "  '0.091*\"motor\" + 0.063*\"controller\" + 0.023*\"speed\" + 0.012*\"run\" + 0.012*\"throttle\" + 0.012*\"work\" + 0.011*\"power\" + 0.009*\"brake\" + 0.009*\"mph\" + 0.009*\"drive\"'),\n",
       " (5,\n",
       "  '0.038*\"voltage\" + 0.037*\"volt\" + 0.034*\"current\" + 0.028*\"amp\" + 0.023*\"power\" + 0.021*\"high\" + 0.014*\"load\" + 0.013*\"watt\" + 0.013*\"battery\" + 0.011*\"rate\"')]"
      ]
     },
     "execution_count": 25,
     "metadata": {},
     "output_type": "execute_result"
    }
   ],
   "source": [
    "LDA_MALLET.print_topics(num_topics=N_TOPICS, num_words=10)"
   ]
  },
  {
   "cell_type": "code",
   "execution_count": 78,
   "metadata": {
    "ExecuteTime": {
     "end_time": "2020-07-29T07:41:45.898912Z",
     "start_time": "2020-07-29T07:41:45.876922Z"
    }
   },
   "outputs": [
    {
     "data": {
      "text/plain": [
       "[(0,\n",
       "  '0.037*\"wire\" + 0.017*\"switch\" + 0.017*\"light\" + 0.015*\"connect\" + 0.014*\"connector\" + 0.013*\"plug\" + 0.010*\"work\" + 0.009*\"end\" + 0.008*\"connection\" + 0.008*\"power\"'),\n",
       " (1,\n",
       "  '0.016*\"energy\" + 0.009*\"year\" + 0.009*\"system\" + 0.008*\"power\" + 0.008*\"people\" + 0.007*\"cost\" + 0.007*\"company\" + 0.007*\"large\" + 0.006*\"lithium\" + 0.005*\"product\"'),\n",
       " (2,\n",
       "  '0.089*\"battery\" + 0.077*\"charge\" + 0.073*\"cell\" + 0.068*\"charger\" + 0.032*\"pack\" + 0.025*\"bms\" + 0.024*\"voltage\" + 0.012*\"discharge\" + 0.010*\"balance\" + 0.010*\"parallel\"'),\n",
       " (3,\n",
       "  '0.087*\"battery\" + 0.043*\"pack\" + 0.015*\"range\" + 0.014*\"ah\" + 0.014*\"lifepo4\" + 0.013*\"buy\" + 0.012*\"ride\" + 0.012*\"mile\" + 0.010*\"36v\" + 0.010*\"48v\"'),\n",
       " (4,\n",
       "  '0.091*\"motor\" + 0.063*\"controller\" + 0.023*\"speed\" + 0.012*\"run\" + 0.012*\"throttle\" + 0.012*\"work\" + 0.011*\"power\" + 0.009*\"brake\" + 0.009*\"mph\" + 0.009*\"drive\"'),\n",
       " (5,\n",
       "  '0.038*\"voltage\" + 0.037*\"volt\" + 0.034*\"current\" + 0.028*\"amp\" + 0.023*\"power\" + 0.021*\"high\" + 0.014*\"load\" + 0.013*\"watt\" + 0.013*\"battery\" + 0.011*\"rate\"')]"
      ]
     },
     "execution_count": 78,
     "metadata": {},
     "output_type": "execute_result"
    }
   ],
   "source": [
    "LDA_MALLET.print_topics(num_topics=N_TOPICS, num_words=10)"
   ]
  },
  {
   "cell_type": "markdown",
   "metadata": {},
   "source": [
    "### Result visualization with pyLDAvis\n",
    "\n",
    "### Copy the training model weights from `Mallet` to `Gensim`"
   ]
  },
  {
   "cell_type": "code",
   "execution_count": 126,
   "metadata": {
    "ExecuteTime": {
     "end_time": "2020-07-28T09:50:58.564096Z",
     "start_time": "2020-07-28T09:50:58.530116Z"
    }
   },
   "outputs": [],
   "source": [
    "# translate topic modeling outcome\n",
    "LDA_MALLET_G = gensim.models.wrappers.ldamallet.malletmodel2ldamodel(LDA_MALLET)"
   ]
  },
  {
   "cell_type": "code",
   "execution_count": null,
   "metadata": {
    "ExecuteTime": {
     "start_time": "2020-07-24T12:09:27.395Z"
    },
    "collapsed": true
   },
   "outputs": [],
   "source": [
    "# ignore warnings coming from pyLDAvis\n",
    "import warnings\n",
    "warnings.filterwarnings('ignore')\n",
    "\n",
    "# visualizing the outcome of the retained model -- this takes time\n",
    "pyLDAvis.enable_notebook()\n",
    "DATA_VIS = pyLDAvis.gensim.prepare(LDA_MALLET_G, CORPUS, DICT, sort_topics=False)\n",
    "DATA_VIS"
   ]
  },
  {
   "cell_type": "code",
   "execution_count": null,
   "metadata": {
    "ExecuteTime": {
     "start_time": "2020-07-24T12:14:15.555Z"
    },
    "collapsed": true
   },
   "outputs": [],
   "source": [
    "# save pyLDAvis data to json file\n",
    "pyLDAvis.save_json(DATA_VIS, 'topic_modelling_vis.json')"
   ]
  },
  {
   "cell_type": "markdown",
   "metadata": {},
   "source": [
    "### Get term-to-topic probabilities"
   ]
  },
  {
   "cell_type": "code",
   "execution_count": 127,
   "metadata": {
    "ExecuteTime": {
     "end_time": "2020-07-28T09:51:02.348018Z",
     "start_time": "2020-07-28T09:51:02.339023Z"
    }
   },
   "outputs": [],
   "source": [
    "# get top 5 terms per topic\n",
    "TOP_TERMS_LINE = LDA_MALLET_G.show_topics(num_topics=N_TOPICS, num_words=10)"
   ]
  },
  {
   "cell_type": "code",
   "execution_count": null,
   "metadata": {
    "ExecuteTime": {
     "end_time": "2020-07-24T15:13:56.886250Z",
     "start_time": "2020-07-24T15:13:56.878256Z"
    }
   },
   "outputs": [],
   "source": [
    "TOP_TERMS_LINE"
   ]
  },
  {
   "cell_type": "code",
   "execution_count": 128,
   "metadata": {
    "ExecuteTime": {
     "end_time": "2020-07-28T09:51:04.887685Z",
     "start_time": "2020-07-28T09:51:04.775749Z"
    }
   },
   "outputs": [],
   "source": [
    "# rearrange data on top 10 terms per topic\n",
    "TOP_TERMS_M = []\n",
    "\n",
    "for i in TOP_TERMS_LINE:\n",
    "    topic_num = i[0]\n",
    "    prob_terms = i[1].split('+')\n",
    "    for term_sort, term in enumerate(prob_terms):\n",
    "        weight = float(term.split('*')[0])\n",
    "        term = term.split('*')[1].strip('\"| ')\n",
    "        TOP_TERMS_M.append([topic_num, term_sort, weight, term])\n",
    "\n",
    "DF = pd.DataFrame(TOP_TERMS_M)\n",
    "\n",
    "# rename columns\n",
    "OLD_NAMES = [0, 1, 2, 3]\n",
    "NEW_NAMES = ['topic_n', 'term_sort', 'weight', 'term']\n",
    "COLS = dict(zip(OLD_NAMES, NEW_NAMES))\n",
    "DF.rename(columns=COLS, inplace=True)\n",
    "DF.set_index(['term_sort', 'topic_n'], inplace=True)\n",
    "DF = DF.unstack()\n",
    "\n",
    "# sidewaystable\n",
    "DF_H = pd.DataFrame()\n",
    "\n",
    "###################################################################range\n",
    "for i in range(6):\n",
    "    terms = DF['term'][i]\n",
    "    weights = DF['weight'][i]\n",
    "    weights = pd.Series(['( %s )' % j for j in weights ])\n",
    "    DF_H = pd.concat([DF_H, terms, weights], axis=1)\n",
    "\n",
    "\n",
    "# write data to file\n",
    "#CWD = CWD\n",
    "#FOLDER = 'exhibits'\n",
    "#FILE = '_1.tex'\n",
    "#DF_H.T.to_latex(os.path.join(CWD, FOLDER, FILE), index=True)\n",
    "\n",
    "# DF_H.T.to_latex('1.tex', index=True)"
   ]
  },
  {
   "cell_type": "code",
   "execution_count": 129,
   "metadata": {
    "ExecuteTime": {
     "end_time": "2020-07-28T09:51:06.534960Z",
     "start_time": "2020-07-28T09:51:06.507977Z"
    }
   },
   "outputs": [
    {
     "data": {
      "text/html": [
       "<div>\n",
       "<style scoped>\n",
       "    .dataframe tbody tr th:only-of-type {\n",
       "        vertical-align: middle;\n",
       "    }\n",
       "\n",
       "    .dataframe tbody tr th {\n",
       "        vertical-align: top;\n",
       "    }\n",
       "\n",
       "    .dataframe thead th {\n",
       "        text-align: right;\n",
       "    }\n",
       "</style>\n",
       "<table border=\"1\" class=\"dataframe\">\n",
       "  <thead>\n",
       "    <tr style=\"text-align: right;\">\n",
       "      <th></th>\n",
       "      <th>0</th>\n",
       "      <th>1</th>\n",
       "      <th>2</th>\n",
       "      <th>3</th>\n",
       "      <th>4</th>\n",
       "      <th>5</th>\n",
       "      <th>6</th>\n",
       "      <th>7</th>\n",
       "      <th>8</th>\n",
       "      <th>9</th>\n",
       "    </tr>\n",
       "  </thead>\n",
       "  <tbody>\n",
       "    <tr>\n",
       "      <td>0</td>\n",
       "      <td>wire</td>\n",
       "      <td>switch</td>\n",
       "      <td>light</td>\n",
       "      <td>connect</td>\n",
       "      <td>connector</td>\n",
       "      <td>plug</td>\n",
       "      <td>work</td>\n",
       "      <td>end</td>\n",
       "      <td>connection</td>\n",
       "      <td>power</td>\n",
       "    </tr>\n",
       "    <tr>\n",
       "      <td>0</td>\n",
       "      <td>( 0.037 )</td>\n",
       "      <td>( 0.017 )</td>\n",
       "      <td>( 0.017 )</td>\n",
       "      <td>( 0.015 )</td>\n",
       "      <td>( 0.014 )</td>\n",
       "      <td>( 0.013 )</td>\n",
       "      <td>( 0.01 )</td>\n",
       "      <td>( 0.009 )</td>\n",
       "      <td>( 0.008 )</td>\n",
       "      <td>( 0.008 )</td>\n",
       "    </tr>\n",
       "    <tr>\n",
       "      <td>1</td>\n",
       "      <td>energy</td>\n",
       "      <td>year</td>\n",
       "      <td>system</td>\n",
       "      <td>power</td>\n",
       "      <td>people</td>\n",
       "      <td>cost</td>\n",
       "      <td>company</td>\n",
       "      <td>large</td>\n",
       "      <td>lithium</td>\n",
       "      <td>product</td>\n",
       "    </tr>\n",
       "    <tr>\n",
       "      <td>0</td>\n",
       "      <td>( 0.016 )</td>\n",
       "      <td>( 0.009 )</td>\n",
       "      <td>( 0.009 )</td>\n",
       "      <td>( 0.008 )</td>\n",
       "      <td>( 0.008 )</td>\n",
       "      <td>( 0.007 )</td>\n",
       "      <td>( 0.007 )</td>\n",
       "      <td>( 0.007 )</td>\n",
       "      <td>( 0.006 )</td>\n",
       "      <td>( 0.005 )</td>\n",
       "    </tr>\n",
       "    <tr>\n",
       "      <td>2</td>\n",
       "      <td>battery</td>\n",
       "      <td>charge</td>\n",
       "      <td>cell</td>\n",
       "      <td>charger</td>\n",
       "      <td>pack</td>\n",
       "      <td>bms</td>\n",
       "      <td>voltage</td>\n",
       "      <td>discharge</td>\n",
       "      <td>balance</td>\n",
       "      <td>parallel</td>\n",
       "    </tr>\n",
       "    <tr>\n",
       "      <td>0</td>\n",
       "      <td>( 0.089 )</td>\n",
       "      <td>( 0.077 )</td>\n",
       "      <td>( 0.073 )</td>\n",
       "      <td>( 0.068 )</td>\n",
       "      <td>( 0.032 )</td>\n",
       "      <td>( 0.025 )</td>\n",
       "      <td>( 0.024 )</td>\n",
       "      <td>( 0.012 )</td>\n",
       "      <td>( 0.01 )</td>\n",
       "      <td>( 0.01 )</td>\n",
       "    </tr>\n",
       "    <tr>\n",
       "      <td>3</td>\n",
       "      <td>battery</td>\n",
       "      <td>pack</td>\n",
       "      <td>range</td>\n",
       "      <td>ah</td>\n",
       "      <td>lifepo4</td>\n",
       "      <td>buy</td>\n",
       "      <td>ride</td>\n",
       "      <td>mile</td>\n",
       "      <td>36v</td>\n",
       "      <td>48v</td>\n",
       "    </tr>\n",
       "    <tr>\n",
       "      <td>0</td>\n",
       "      <td>( 0.087 )</td>\n",
       "      <td>( 0.043 )</td>\n",
       "      <td>( 0.015 )</td>\n",
       "      <td>( 0.014 )</td>\n",
       "      <td>( 0.014 )</td>\n",
       "      <td>( 0.013 )</td>\n",
       "      <td>( 0.012 )</td>\n",
       "      <td>( 0.012 )</td>\n",
       "      <td>( 0.01 )</td>\n",
       "      <td>( 0.01 )</td>\n",
       "    </tr>\n",
       "    <tr>\n",
       "      <td>4</td>\n",
       "      <td>motor</td>\n",
       "      <td>controller</td>\n",
       "      <td>speed</td>\n",
       "      <td>run</td>\n",
       "      <td>throttle</td>\n",
       "      <td>work</td>\n",
       "      <td>power</td>\n",
       "      <td>brake</td>\n",
       "      <td>mph</td>\n",
       "      <td>drive</td>\n",
       "    </tr>\n",
       "    <tr>\n",
       "      <td>0</td>\n",
       "      <td>( 0.091 )</td>\n",
       "      <td>( 0.063 )</td>\n",
       "      <td>( 0.023 )</td>\n",
       "      <td>( 0.012 )</td>\n",
       "      <td>( 0.012 )</td>\n",
       "      <td>( 0.012 )</td>\n",
       "      <td>( 0.011 )</td>\n",
       "      <td>( 0.009 )</td>\n",
       "      <td>( 0.009 )</td>\n",
       "      <td>( 0.009 )</td>\n",
       "    </tr>\n",
       "    <tr>\n",
       "      <td>5</td>\n",
       "      <td>voltage</td>\n",
       "      <td>volt</td>\n",
       "      <td>current</td>\n",
       "      <td>amp</td>\n",
       "      <td>power</td>\n",
       "      <td>high</td>\n",
       "      <td>load</td>\n",
       "      <td>watt</td>\n",
       "      <td>battery</td>\n",
       "      <td>rate</td>\n",
       "    </tr>\n",
       "    <tr>\n",
       "      <td>0</td>\n",
       "      <td>( 0.038 )</td>\n",
       "      <td>( 0.037 )</td>\n",
       "      <td>( 0.034 )</td>\n",
       "      <td>( 0.028 )</td>\n",
       "      <td>( 0.023 )</td>\n",
       "      <td>( 0.021 )</td>\n",
       "      <td>( 0.014 )</td>\n",
       "      <td>( 0.013 )</td>\n",
       "      <td>( 0.013 )</td>\n",
       "      <td>( 0.011 )</td>\n",
       "    </tr>\n",
       "  </tbody>\n",
       "</table>\n",
       "</div>"
      ],
      "text/plain": [
       "           0           1          2          3          4          5  \\\n",
       "0  wire       switch      light      connect    connector  plug        \n",
       "0  ( 0.037 )  ( 0.017 )   ( 0.017 )  ( 0.015 )  ( 0.014 )  ( 0.013 )   \n",
       "1  energy     year        system     power      people     cost        \n",
       "0  ( 0.016 )  ( 0.009 )   ( 0.009 )  ( 0.008 )  ( 0.008 )  ( 0.007 )   \n",
       "2  battery    charge      cell       charger    pack       bms         \n",
       "0  ( 0.089 )  ( 0.077 )   ( 0.073 )  ( 0.068 )  ( 0.032 )  ( 0.025 )   \n",
       "3  battery    pack        range      ah         lifepo4    buy         \n",
       "0  ( 0.087 )  ( 0.043 )   ( 0.015 )  ( 0.014 )  ( 0.014 )  ( 0.013 )   \n",
       "4  motor      controller  speed      run        throttle   work        \n",
       "0  ( 0.091 )  ( 0.063 )   ( 0.023 )  ( 0.012 )  ( 0.012 )  ( 0.012 )   \n",
       "5  voltage    volt        current    amp        power      high        \n",
       "0  ( 0.038 )  ( 0.037 )   ( 0.034 )  ( 0.028 )  ( 0.023 )  ( 0.021 )   \n",
       "\n",
       "           6          7           8          9  \n",
       "0  work       end        connection  power      \n",
       "0  ( 0.01 )   ( 0.009 )  ( 0.008 )   ( 0.008 )  \n",
       "1  company    large      lithium     product    \n",
       "0  ( 0.007 )  ( 0.007 )  ( 0.006 )   ( 0.005 )  \n",
       "2  voltage    discharge  balance     parallel   \n",
       "0  ( 0.024 )  ( 0.012 )  ( 0.01 )    ( 0.01 )   \n",
       "3  ride       mile       36v         48v        \n",
       "0  ( 0.012 )  ( 0.012 )  ( 0.01 )    ( 0.01 )   \n",
       "4  power      brake      mph         drive      \n",
       "0  ( 0.011 )  ( 0.009 )  ( 0.009 )   ( 0.009 )  \n",
       "5  load       watt       battery     rate       \n",
       "0  ( 0.014 )  ( 0.013 )  ( 0.013 )   ( 0.011 )  "
      ]
     },
     "execution_count": 129,
     "metadata": {},
     "output_type": "execute_result"
    }
   ],
   "source": [
    "DF_H.T"
   ]
  },
  {
   "cell_type": "code",
   "execution_count": 80,
   "metadata": {
    "ExecuteTime": {
     "end_time": "2020-07-24T16:23:03.099440Z",
     "start_time": "2020-07-24T16:23:03.078455Z"
    }
   },
   "outputs": [],
   "source": [
    "DF_H.T.to_latex('2.tex', index=True)"
   ]
  },
  {
   "cell_type": "markdown",
   "metadata": {},
   "source": [
    "### Get document-to-topic probabilities"
   ]
  },
  {
   "cell_type": "code",
   "execution_count": 84,
   "metadata": {
    "ExecuteTime": {
     "end_time": "2020-07-24T16:24:11.122637Z",
     "start_time": "2020-07-24T16:24:10.138222Z"
    }
   },
   "outputs": [],
   "source": [
    "# get transformed corpus as per the LDA model\n",
    "TRANSF_CORPUS = LDA_MALLET_G.get_document_topics(CORPUS)\n",
    "\n",
    "# rearrange data on document-topic pairs probabilities\n",
    "DOC_TOPIC_M = []\n",
    "\n",
    "for id, doc in enumerate(TRANSF_CORPUS):\n",
    "    for topic in np.arange(0, 6, 1):\n",
    "        topic_n = doc[topic][0]\n",
    "        topic_prob = doc[topic][1] \n",
    "        DOC_TOPIC_M.append([id, topic, topic_prob])\n",
    "\n",
    "DF = pd.DataFrame(DOC_TOPIC_M)\n",
    "\n",
    "# rename columns\n",
    "OLD_NAMES = [0, 1, 2]\n",
    "NEW_NAMES = ['doc_id', 'topic_n', 'prob']\n",
    "COLS = dict(zip(OLD_NAMES, NEW_NAMES))\n",
    "DF.rename(columns=COLS, inplace=True)\n",
    "\n",
    "# dominant topic\n",
    "GR = DF.groupby('doc_id')\n",
    "DF.loc[:, 'max'] = GR['prob'].transform(np.max)\n",
    "DF.loc[:, 'first_topic'] = 0\n",
    "DF.loc[DF['prob'] == DF['max'], 'first_topic'] = 1\n",
    "FIRST_TOPIC = DF.loc[DF['first_topic'] == 1]\n",
    "\n",
    "# arrange data as contingency table\n",
    "DF = DF.pivot_table(index='doc_id', columns='topic_n', values='prob', aggfunc=np.mean)\n",
    "\n",
    "# write data to file\n",
    "#CWD = CWD\n",
    "#FOLDER = 'transformed_data'\n",
    "#FILE = 'transformed_corpus.csv'\n",
    "DF.to_csv('topic prob.csv', index=True)"
   ]
  },
  {
   "cell_type": "code",
   "execution_count": 82,
   "metadata": {
    "ExecuteTime": {
     "end_time": "2020-07-24T16:23:32.498668Z",
     "start_time": "2020-07-24T16:23:32.474678Z"
    }
   },
   "outputs": [
    {
     "data": {
      "text/html": [
       "<div>\n",
       "<style scoped>\n",
       "    .dataframe tbody tr th:only-of-type {\n",
       "        vertical-align: middle;\n",
       "    }\n",
       "\n",
       "    .dataframe tbody tr th {\n",
       "        vertical-align: top;\n",
       "    }\n",
       "\n",
       "    .dataframe thead th {\n",
       "        text-align: right;\n",
       "    }\n",
       "</style>\n",
       "<table border=\"1\" class=\"dataframe\">\n",
       "  <thead>\n",
       "    <tr style=\"text-align: right;\">\n",
       "      <th>topic_n</th>\n",
       "      <th>0</th>\n",
       "      <th>1</th>\n",
       "      <th>2</th>\n",
       "      <th>3</th>\n",
       "      <th>4</th>\n",
       "      <th>5</th>\n",
       "    </tr>\n",
       "    <tr>\n",
       "      <th>doc_id</th>\n",
       "      <th></th>\n",
       "      <th></th>\n",
       "      <th></th>\n",
       "      <th></th>\n",
       "      <th></th>\n",
       "      <th></th>\n",
       "    </tr>\n",
       "  </thead>\n",
       "  <tbody>\n",
       "    <tr>\n",
       "      <td>0</td>\n",
       "      <td>0.427424</td>\n",
       "      <td>0.129080</td>\n",
       "      <td>0.101780</td>\n",
       "      <td>0.059990</td>\n",
       "      <td>0.039755</td>\n",
       "      <td>0.241971</td>\n",
       "    </tr>\n",
       "    <tr>\n",
       "      <td>1</td>\n",
       "      <td>0.302375</td>\n",
       "      <td>0.055864</td>\n",
       "      <td>0.058224</td>\n",
       "      <td>0.123332</td>\n",
       "      <td>0.194436</td>\n",
       "      <td>0.265770</td>\n",
       "    </tr>\n",
       "    <tr>\n",
       "      <td>2</td>\n",
       "      <td>0.204994</td>\n",
       "      <td>0.169869</td>\n",
       "      <td>0.148773</td>\n",
       "      <td>0.156221</td>\n",
       "      <td>0.170332</td>\n",
       "      <td>0.149811</td>\n",
       "    </tr>\n",
       "    <tr>\n",
       "      <td>3</td>\n",
       "      <td>0.442193</td>\n",
       "      <td>0.067876</td>\n",
       "      <td>0.078619</td>\n",
       "      <td>0.098637</td>\n",
       "      <td>0.237191</td>\n",
       "      <td>0.075484</td>\n",
       "    </tr>\n",
       "    <tr>\n",
       "      <td>4</td>\n",
       "      <td>0.121644</td>\n",
       "      <td>0.266456</td>\n",
       "      <td>0.207951</td>\n",
       "      <td>0.298965</td>\n",
       "      <td>0.034187</td>\n",
       "      <td>0.070797</td>\n",
       "    </tr>\n",
       "    <tr>\n",
       "      <td>...</td>\n",
       "      <td>...</td>\n",
       "      <td>...</td>\n",
       "      <td>...</td>\n",
       "      <td>...</td>\n",
       "      <td>...</td>\n",
       "      <td>...</td>\n",
       "    </tr>\n",
       "    <tr>\n",
       "      <td>1282</td>\n",
       "      <td>0.079748</td>\n",
       "      <td>0.270782</td>\n",
       "      <td>0.177310</td>\n",
       "      <td>0.345274</td>\n",
       "      <td>0.049757</td>\n",
       "      <td>0.077128</td>\n",
       "    </tr>\n",
       "    <tr>\n",
       "      <td>1283</td>\n",
       "      <td>0.084149</td>\n",
       "      <td>0.101530</td>\n",
       "      <td>0.313303</td>\n",
       "      <td>0.213374</td>\n",
       "      <td>0.029683</td>\n",
       "      <td>0.257961</td>\n",
       "    </tr>\n",
       "    <tr>\n",
       "      <td>1284</td>\n",
       "      <td>0.283478</td>\n",
       "      <td>0.165951</td>\n",
       "      <td>0.138842</td>\n",
       "      <td>0.143910</td>\n",
       "      <td>0.078246</td>\n",
       "      <td>0.189573</td>\n",
       "    </tr>\n",
       "    <tr>\n",
       "      <td>1285</td>\n",
       "      <td>0.136349</td>\n",
       "      <td>0.203943</td>\n",
       "      <td>0.204259</td>\n",
       "      <td>0.136543</td>\n",
       "      <td>0.137017</td>\n",
       "      <td>0.181889</td>\n",
       "    </tr>\n",
       "    <tr>\n",
       "      <td>1286</td>\n",
       "      <td>0.144946</td>\n",
       "      <td>0.424494</td>\n",
       "      <td>0.141944</td>\n",
       "      <td>0.084005</td>\n",
       "      <td>0.050136</td>\n",
       "      <td>0.154477</td>\n",
       "    </tr>\n",
       "  </tbody>\n",
       "</table>\n",
       "<p>1287 rows × 6 columns</p>\n",
       "</div>"
      ],
      "text/plain": [
       "topic_n         0         1         2         3         4         5\n",
       "doc_id                                                             \n",
       "0        0.427424  0.129080  0.101780  0.059990  0.039755  0.241971\n",
       "1        0.302375  0.055864  0.058224  0.123332  0.194436  0.265770\n",
       "2        0.204994  0.169869  0.148773  0.156221  0.170332  0.149811\n",
       "3        0.442193  0.067876  0.078619  0.098637  0.237191  0.075484\n",
       "4        0.121644  0.266456  0.207951  0.298965  0.034187  0.070797\n",
       "...           ...       ...       ...       ...       ...       ...\n",
       "1282     0.079748  0.270782  0.177310  0.345274  0.049757  0.077128\n",
       "1283     0.084149  0.101530  0.313303  0.213374  0.029683  0.257961\n",
       "1284     0.283478  0.165951  0.138842  0.143910  0.078246  0.189573\n",
       "1285     0.136349  0.203943  0.204259  0.136543  0.137017  0.181889\n",
       "1286     0.144946  0.424494  0.141944  0.084005  0.050136  0.154477\n",
       "\n",
       "[1287 rows x 6 columns]"
      ]
     },
     "execution_count": 82,
     "metadata": {},
     "output_type": "execute_result"
    }
   ],
   "source": [
    "DF"
   ]
  },
  {
   "cell_type": "markdown",
   "metadata": {},
   "source": [
    "# Analysis"
   ]
  },
  {
   "cell_type": "markdown",
   "metadata": {},
   "source": [
    "## Wordclouds"
   ]
  },
  {
   "cell_type": "code",
   "execution_count": 37,
   "metadata": {
    "ExecuteTime": {
     "end_time": "2020-07-30T15:37:36.598455Z",
     "start_time": "2020-07-30T15:37:24.361688Z"
    }
   },
   "outputs": [],
   "source": [
    "tm_results = LDA_MALLET[CORPUS]"
   ]
  },
  {
   "cell_type": "code",
   "execution_count": null,
   "metadata": {},
   "outputs": [],
   "source": []
  },
  {
   "cell_type": "code",
   "execution_count": 38,
   "metadata": {
    "ExecuteTime": {
     "end_time": "2020-07-30T15:37:37.134133Z",
     "start_time": "2020-07-30T15:37:37.122140Z"
    }
   },
   "outputs": [],
   "source": [
    "corpus_topics = [sorted(topics, key=lambda record: -record[1])[0] for topics in tm_results]"
   ]
  },
  {
   "cell_type": "code",
   "execution_count": 39,
   "metadata": {
    "ExecuteTime": {
     "end_time": "2020-07-30T15:37:38.113570Z",
     "start_time": "2020-07-30T15:37:38.103576Z"
    }
   },
   "outputs": [],
   "source": [
    "topics = [[(term, round(wt, 3))\n",
    "           for term, wt in LDA_MALLET.show_topic(n, topn=20)]\n",
    "          for n in range(0, LDA_MALLET.num_topics)]"
   ]
  },
  {
   "cell_type": "code",
   "execution_count": 40,
   "metadata": {
    "ExecuteTime": {
     "end_time": "2020-07-30T15:37:38.728218Z",
     "start_time": "2020-07-30T15:37:38.704232Z"
    }
   },
   "outputs": [
    {
     "data": {
      "text/html": [
       "<div>\n",
       "<style scoped>\n",
       "    .dataframe tbody tr th:only-of-type {\n",
       "        vertical-align: middle;\n",
       "    }\n",
       "\n",
       "    .dataframe tbody tr th {\n",
       "        vertical-align: top;\n",
       "    }\n",
       "\n",
       "    .dataframe thead th {\n",
       "        text-align: right;\n",
       "    }\n",
       "</style>\n",
       "<table border=\"1\" class=\"dataframe\">\n",
       "  <thead>\n",
       "    <tr style=\"text-align: right;\">\n",
       "      <th></th>\n",
       "      <th>Topic 1</th>\n",
       "      <th>Topic 2</th>\n",
       "      <th>Topic 3</th>\n",
       "      <th>Topic 4</th>\n",
       "      <th>Topic 5</th>\n",
       "      <th>Topic 6</th>\n",
       "    </tr>\n",
       "  </thead>\n",
       "  <tbody>\n",
       "    <tr>\n",
       "      <td>Term1</td>\n",
       "      <td>wire</td>\n",
       "      <td>energy</td>\n",
       "      <td>battery</td>\n",
       "      <td>battery</td>\n",
       "      <td>motor</td>\n",
       "      <td>voltage</td>\n",
       "    </tr>\n",
       "    <tr>\n",
       "      <td>Term2</td>\n",
       "      <td>switch</td>\n",
       "      <td>year</td>\n",
       "      <td>charge</td>\n",
       "      <td>pack</td>\n",
       "      <td>controller</td>\n",
       "      <td>volt</td>\n",
       "    </tr>\n",
       "    <tr>\n",
       "      <td>Term3</td>\n",
       "      <td>light</td>\n",
       "      <td>system</td>\n",
       "      <td>cell</td>\n",
       "      <td>range</td>\n",
       "      <td>speed</td>\n",
       "      <td>current</td>\n",
       "    </tr>\n",
       "    <tr>\n",
       "      <td>Term4</td>\n",
       "      <td>connect</td>\n",
       "      <td>power</td>\n",
       "      <td>charger</td>\n",
       "      <td>ah</td>\n",
       "      <td>run</td>\n",
       "      <td>amp</td>\n",
       "    </tr>\n",
       "    <tr>\n",
       "      <td>Term5</td>\n",
       "      <td>connector</td>\n",
       "      <td>people</td>\n",
       "      <td>pack</td>\n",
       "      <td>lifepo4</td>\n",
       "      <td>throttle</td>\n",
       "      <td>power</td>\n",
       "    </tr>\n",
       "  </tbody>\n",
       "</table>\n",
       "</div>"
      ],
      "text/plain": [
       "         Topic 1 Topic 2  Topic 3  Topic 4     Topic 5  Topic 6\n",
       "Term1       wire  energy  battery  battery       motor  voltage\n",
       "Term2     switch    year   charge     pack  controller     volt\n",
       "Term3      light  system     cell    range       speed  current\n",
       "Term4    connect   power  charger       ah         run      amp\n",
       "Term5  connector  people     pack  lifepo4    throttle    power"
      ]
     },
     "execution_count": 40,
     "metadata": {},
     "output_type": "execute_result"
    }
   ],
   "source": [
    "topics_df = pd.DataFrame(\n",
    "    [[term for term, wt in topic] for topic in topics],\n",
    "    columns=['Term' + str(i) for i in range(1, 21)],\n",
    "    index=['Topic ' + str(t) for t in range(1, LDA_MALLET.num_topics + 1)]).T\n",
    "topics_df.head()"
   ]
  },
  {
   "cell_type": "code",
   "execution_count": 43,
   "metadata": {
    "ExecuteTime": {
     "end_time": "2020-07-30T15:38:51.042821Z",
     "start_time": "2020-07-30T15:38:51.022833Z"
    }
   },
   "outputs": [
    {
     "data": {
      "text/html": [
       "<div>\n",
       "<style scoped>\n",
       "    .dataframe tbody tr th:only-of-type {\n",
       "        vertical-align: middle;\n",
       "    }\n",
       "\n",
       "    .dataframe tbody tr th {\n",
       "        vertical-align: top;\n",
       "    }\n",
       "\n",
       "    .dataframe thead th {\n",
       "        text-align: right;\n",
       "    }\n",
       "</style>\n",
       "<table border=\"1\" class=\"dataframe\">\n",
       "  <thead>\n",
       "    <tr style=\"text-align: right;\">\n",
       "      <th></th>\n",
       "      <th>Terms per Topic</th>\n",
       "    </tr>\n",
       "  </thead>\n",
       "  <tbody>\n",
       "    <tr>\n",
       "      <td>Topic1</td>\n",
       "      <td>wire, switch, light, connect, connector, plug, work, end, connection, power, circuit, find, fuse, board, terminal, wiring, lead, box, mount, red</td>\n",
       "    </tr>\n",
       "    <tr>\n",
       "      <td>Topic2</td>\n",
       "      <td>energy, year, system, power, people, cost, company, large, lithium, product, technology, build, lot, solar, design, fuel, store, info, make, wind</td>\n",
       "    </tr>\n",
       "    <tr>\n",
       "      <td>Topic3</td>\n",
       "      <td>battery, charge, cell, charger, pack, bms, voltage, discharge, balance, parallel, time, work, low, volt, bad, problem, string, fully, dewalt, bank</td>\n",
       "    </tr>\n",
       "    <tr>\n",
       "      <td>Topic4</td>\n",
       "      <td>battery, pack, range, ah, lifepo4, buy, ride, mile, 36v, 48v, sla, run, discharge, ping, rate, 24v, amp, price, cheap, 12v</td>\n",
       "    </tr>\n",
       "    <tr>\n",
       "      <td>Topic5</td>\n",
       "      <td>motor, controller, speed, run, throttle, work, power, brake, mph, drive, hub, find, control, wheel, brush, torque, gear, brushless, rpm, sensor</td>\n",
       "    </tr>\n",
       "    <tr>\n",
       "      <td>Topic6</td>\n",
       "      <td>voltage, volt, current, amp, power, high, load, watt, battery, rate, low, draw, test, time, heat, resistance, max, output, limit, input</td>\n",
       "    </tr>\n",
       "  </tbody>\n",
       "</table>\n",
       "</div>"
      ],
      "text/plain": [
       "                                                                                                                                           Terms per Topic\n",
       "Topic1  wire, switch, light, connect, connector, plug, work, end, connection, power, circuit, find, fuse, board, terminal, wiring, lead, box, mount, red  \n",
       "Topic2  energy, year, system, power, people, cost, company, large, lithium, product, technology, build, lot, solar, design, fuel, store, info, make, wind \n",
       "Topic3  battery, charge, cell, charger, pack, bms, voltage, discharge, balance, parallel, time, work, low, volt, bad, problem, string, fully, dewalt, bank\n",
       "Topic4  battery, pack, range, ah, lifepo4, buy, ride, mile, 36v, 48v, sla, run, discharge, ping, rate, 24v, amp, price, cheap, 12v                        \n",
       "Topic5  motor, controller, speed, run, throttle, work, power, brake, mph, drive, hub, find, control, wheel, brush, torque, gear, brushless, rpm, sensor   \n",
       "Topic6  voltage, volt, current, amp, power, high, load, watt, battery, rate, low, draw, test, time, heat, resistance, max, output, limit, input           "
      ]
     },
     "execution_count": 43,
     "metadata": {},
     "output_type": "execute_result"
    }
   ],
   "source": [
    "# set column width\n",
    "pd.set_option('display.max_colwidth', -1)\n",
    "topics_df = pd.DataFrame(\n",
    "    [', '.join([term for term, wt in topic]) for topic in topics],\n",
    "    columns=['Terms per Topic'],\n",
    "    index=['Topic' + str(t) for t in range(1, LDA_MALLET.num_topics + 1)])\n",
    "topics_df"
   ]
  },
  {
   "cell_type": "code",
   "execution_count": 33,
   "metadata": {
    "ExecuteTime": {
     "end_time": "2020-07-28T08:26:38.294707Z",
     "start_time": "2020-07-28T08:26:38.276701Z"
    }
   },
   "outputs": [],
   "source": [
    "topics_df.to_csv('topics_df.csv')"
   ]
  },
  {
   "cell_type": "code",
   "execution_count": 90,
   "metadata": {
    "ExecuteTime": {
     "end_time": "2020-07-28T09:25:28.595753Z",
     "start_time": "2020-07-28T09:25:26.470971Z"
    }
   },
   "outputs": [
    {
     "data": {
      "image/png": "[encoded data removed]",
      "text/plain": [
       "<Figure size 864x288 with 6 Axes>"
      ]
     },
     "metadata": {
      "image/png": {
       "height": 246,
       "width": 684
      },
      "needs_background": "light"
     },
     "output_type": "display_data"
    }
   ],
   "source": [
    "# import wordclouds\n",
    "from wordcloud import WordCloud\n",
    "\n",
    "# initiate wordcloud object\n",
    "wc = WordCloud(background_color=\"white\", colormap=\"tab10\", max_font_size=150, random_state=42)\n",
    "\n",
    "# set the figure size\n",
    "plt.rcParams['figure.figsize'] = [12, 4]\n",
    "\n",
    "# Create subplots for each topic\n",
    "for i in range(6):\n",
    "\n",
    "    wc.generate(text=topics_df[\"Terms per Topic\"][i])\n",
    "    \n",
    "    plt.subplot(2, 3, i+1)\n",
    "    plt.imshow(wc, interpolation=\"bilinear\")\n",
    "    plt.axis(\"off\")\n",
    "    plt.title(topics_df.index[i])\n",
    "\n",
    "plt.savefig('forum_topic wordclouds124.pdf',\n",
    "            transparent=True,\n",
    "            bbox_inches='tight',\n",
    "            pad_inches=0)\n",
    "plt.show()"
   ]
  },
  {
   "cell_type": "markdown",
   "metadata": {},
   "source": [
    "## Dominant Topics for Each Document"
   ]
  },
  {
   "cell_type": "code",
   "execution_count": 3,
   "metadata": {
    "ExecuteTime": {
     "end_time": "2020-08-20T08:07:57.273058Z",
     "start_time": "2020-08-20T08:07:57.250055Z"
    }
   },
   "outputs": [],
   "source": [
    "corpus_topic_df=pd.read_csv('forum_corpus_topic_df.csv')"
   ]
  },
  {
   "cell_type": "code",
   "execution_count": 108,
   "metadata": {
    "ExecuteTime": {
     "end_time": "2020-07-28T09:34:19.815825Z",
     "start_time": "2020-07-28T09:34:19.791821Z"
    }
   },
   "outputs": [],
   "source": [
    "corpus_topic_df.to_csv('forum_corpus_topic_df.csv')"
   ]
  },
  {
   "cell_type": "code",
   "execution_count": null,
   "metadata": {
    "ExecuteTime": {
     "end_time": "2020-08-04T17:29:22.556152Z",
     "start_time": "2020-08-04T17:29:22.524170Z"
    }
   },
   "outputs": [],
   "source": [
    "# create a dataframe\n",
    "corpus_topic_df = pd.DataFrame()\n",
    "# get the Titles from the original dataframe\n",
    "corpus_topic_df['Post Index'] = df.index\n",
    "corpus_topic_df['Dominant Topic'] = [item[0]+1 for item in corpus_topics]\n",
    "corpus_topic_df['Contribution %'] = [round(item[1]*100, 2) for item in corpus_topics]\n",
    "corpus_topic_df['Topic Terms'] = [topics_df.iloc[t[0]]['Terms per Topic'] for t in corpus_topics]\n",
    "corpus_topic_df.head()\n"
   ]
  },
  {
   "cell_type": "code",
   "execution_count": 107,
   "metadata": {
    "ExecuteTime": {
     "end_time": "2020-07-28T09:33:58.650421Z",
     "start_time": "2020-07-28T09:33:58.642428Z"
    }
   },
   "outputs": [
    {
     "data": {
      "text/plain": [
       "1287"
      ]
     },
     "execution_count": 107,
     "metadata": {},
     "output_type": "execute_result"
    }
   ],
   "source": [
    "len(corpus_topic_df)"
   ]
  },
  {
   "cell_type": "code",
   "execution_count": 45,
   "metadata": {
    "ExecuteTime": {
     "end_time": "2020-07-30T15:39:05.756133Z",
     "start_time": "2020-07-30T15:39:05.733130Z"
    }
   },
   "outputs": [],
   "source": [
    "dominant_topic_df = corpus_topic_df.groupby(['Dominant Topic']).agg(\n",
    "    Doc_Count=('Dominant Topic', np.size)).reset_index()\n",
    "dominant_topic_df['Total_Docs_Percentage']=dominant_topic_df['Doc_Count']\n",
    "dominant_topic_df['Total_Docs_Percentage'] = dominant_topic_df[\n",
    "    'Total_Docs_Percentage'].apply(lambda row: round((row * 100) / len(CORPUS), 2))"
   ]
  },
  {
   "cell_type": "code",
   "execution_count": 46,
   "metadata": {
    "ExecuteTime": {
     "end_time": "2020-07-30T15:39:08.856090Z",
     "start_time": "2020-07-30T15:39:08.845099Z"
    }
   },
   "outputs": [
    {
     "data": {
      "text/html": [
       "<div>\n",
       "<style scoped>\n",
       "    .dataframe tbody tr th:only-of-type {\n",
       "        vertical-align: middle;\n",
       "    }\n",
       "\n",
       "    .dataframe tbody tr th {\n",
       "        vertical-align: top;\n",
       "    }\n",
       "\n",
       "    .dataframe thead th {\n",
       "        text-align: right;\n",
       "    }\n",
       "</style>\n",
       "<table border=\"1\" class=\"dataframe\">\n",
       "  <thead>\n",
       "    <tr style=\"text-align: right;\">\n",
       "      <th></th>\n",
       "      <th>Dominant Topic</th>\n",
       "      <th>Doc_Count</th>\n",
       "      <th>Total_Docs_Percentage</th>\n",
       "    </tr>\n",
       "  </thead>\n",
       "  <tbody>\n",
       "    <tr>\n",
       "      <td>0</td>\n",
       "      <td>1</td>\n",
       "      <td>188</td>\n",
       "      <td>14.61</td>\n",
       "    </tr>\n",
       "    <tr>\n",
       "      <td>1</td>\n",
       "      <td>2</td>\n",
       "      <td>223</td>\n",
       "      <td>17.33</td>\n",
       "    </tr>\n",
       "    <tr>\n",
       "      <td>2</td>\n",
       "      <td>3</td>\n",
       "      <td>258</td>\n",
       "      <td>20.05</td>\n",
       "    </tr>\n",
       "    <tr>\n",
       "      <td>3</td>\n",
       "      <td>4</td>\n",
       "      <td>224</td>\n",
       "      <td>17.40</td>\n",
       "    </tr>\n",
       "    <tr>\n",
       "      <td>4</td>\n",
       "      <td>5</td>\n",
       "      <td>287</td>\n",
       "      <td>22.30</td>\n",
       "    </tr>\n",
       "    <tr>\n",
       "      <td>5</td>\n",
       "      <td>6</td>\n",
       "      <td>107</td>\n",
       "      <td>8.31</td>\n",
       "    </tr>\n",
       "  </tbody>\n",
       "</table>\n",
       "</div>"
      ],
      "text/plain": [
       "   Dominant Topic  Doc_Count  Total_Docs_Percentage\n",
       "0  1               188        14.61                \n",
       "1  2               223        17.33                \n",
       "2  3               258        20.05                \n",
       "3  4               224        17.40                \n",
       "4  5               287        22.30                \n",
       "5  6               107        8.31                 "
      ]
     },
     "execution_count": 46,
     "metadata": {},
     "output_type": "execute_result"
    }
   ],
   "source": [
    "dominant_topic_df"
   ]
  },
  {
   "cell_type": "code",
   "execution_count": 12,
   "metadata": {
    "ExecuteTime": {
     "end_time": "2020-08-04T17:34:22.305828Z",
     "start_time": "2020-08-04T17:34:22.300814Z"
    }
   },
   "outputs": [],
   "source": [
    "labels = ['Charging Devices','Enery','Battery Management','Battery Specification','Powertrain Performance','Charging Specification']"
   ]
  },
  {
   "cell_type": "code",
   "execution_count": null,
   "metadata": {},
   "outputs": [],
   "source": []
  },
  {
   "cell_type": "code",
   "execution_count": 45,
   "metadata": {
    "ExecuteTime": {
     "end_time": "2020-08-20T08:32:20.627727Z",
     "start_time": "2020-08-20T08:32:20.267932Z"
    }
   },
   "outputs": [
    {
     "data": {
      "image/png": "[encoded data removed]",
      "text/plain": [
       "<Figure size 864x360 with 1 Axes>"
      ]
     },
     "metadata": {
      "needs_background": "light"
     },
     "output_type": "display_data"
    }
   ],
   "source": [
    "fig, ax = plt.subplots(figsize=(12,5))\n",
    "\n",
    "bar_plot = plt.bar(x=[0,1,2,3,4,5],\n",
    "                   height=[14.61,17.33,20.05,17.40,22.30,8.31],\n",
    "                   width=.5,\n",
    "                   tick_label=[i+1 for i in range(6)],\n",
    "                  color=[plt.get_cmap('tab10')(0)]*6)\n",
    "\n",
    "ax.set_title('Topic Importance(%)',\n",
    "             fontdict=dict(size=15))\n",
    "ax.set_xlabel('Topic',size=12)\n",
    "#ax.set_xtick('labels')\n",
    "#ax.set_ylabel('Average Weights(%)')\n",
    "\n",
    "\n",
    "bar_label = [14.61,17.33,20.05,17.40,22.30,8.31]\n",
    "\n",
    "plt.ylim(0, 25)\n",
    "\n",
    "\n",
    "def autolabel(rects):\n",
    "    for idx, rect in enumerate(bar_plot):\n",
    "        height = rect.get_height()\n",
    "        ax.text(rect.get_x() + rect.get_width() / 2.,\n",
    "                1.0 * height,\n",
    "                bar_label[idx],\n",
    "                ha='center',\n",
    "                va='bottom',\n",
    "                rotation=0)\n",
    "\n",
    "\n",
    "autolabel(bar_plot)\n",
    "\n",
    "plt.savefig('forum_topic_contribution64.pdf',\n",
    "            transparent=True,\n",
    "            bbox_inches='tight',\n",
    "            pad_inches=0)\n",
    "plt.show()"
   ]
  },
  {
   "cell_type": "code",
   "execution_count": 59,
   "metadata": {
    "ExecuteTime": {
     "end_time": "2020-07-30T15:41:18.213879Z",
     "start_time": "2020-07-30T15:41:17.865084Z"
    }
   },
   "outputs": [
    {
     "data": {
      "image/png": "[encoded data removed]",
      "text/plain": [
       "<Figure size 432x288 with 1 Axes>"
      ]
     },
     "metadata": {
      "needs_background": "light"
     },
     "output_type": "display_data"
    }
   ],
   "source": [
    "fig, ax = plt.subplots(figsize=(6,4))\n",
    "\n",
    "bar_plot = plt.bar(x=dominant_topic_df['Dominant Topic'],\n",
    "                   height=dominant_topic_df.Total_Docs_Percentage.values.tolist(),\n",
    "                   data=dominant_topic_df,\n",
    "                   width=.5,\n",
    "                   tick_label=[i + 1 for i in range(6)],\n",
    "                  color=[plt.get_cmap('tab10')(0)]*6)\n",
    "\n",
    "ax.set_title('Average Weights by Dominant Topic',\n",
    "             fontdict=dict(size=10))\n",
    "ax.set_xlabel('Topic')\n",
    "ax.set_ylabel('Average Weights(%)')\n",
    "\n",
    "\n",
    "bar_label = dominant_topic_df.Total_Docs_Percentage.values.tolist()\n",
    "\n",
    "plt.ylim(0, 25)\n",
    "\n",
    "\n",
    "def autolabel(rects):\n",
    "    for idx, rect in enumerate(bar_plot):\n",
    "        height = rect.get_height()\n",
    "        ax.text(rect.get_x() + rect.get_width() / 2.,\n",
    "                1.0 * height,\n",
    "                bar_label[idx],\n",
    "                ha='center',\n",
    "                va='bottom',\n",
    "                rotation=0)\n",
    "\n",
    "\n",
    "autolabel(bar_plot)\n",
    "\n",
    "plt.savefig('forum_topic_contribution64.pdf',\n",
    "            transparent=True,\n",
    "            bbox_inches='tight',\n",
    "            pad_inches=0)\n",
    "plt.show()"
   ]
  },
  {
   "cell_type": "markdown",
   "metadata": {},
   "source": [
    "## which document makes the highest contribution to each topic"
   ]
  },
  {
   "cell_type": "code",
   "execution_count": 10,
   "metadata": {
    "ExecuteTime": {
     "end_time": "2020-08-20T08:12:55.455297Z",
     "start_time": "2020-08-20T08:12:55.438322Z"
    }
   },
   "outputs": [
    {
     "data": {
      "text/html": [
       "<div>\n",
       "<style scoped>\n",
       "    .dataframe tbody tr th:only-of-type {\n",
       "        vertical-align: middle;\n",
       "    }\n",
       "\n",
       "    .dataframe tbody tr th {\n",
       "        vertical-align: top;\n",
       "    }\n",
       "\n",
       "    .dataframe thead th {\n",
       "        text-align: right;\n",
       "    }\n",
       "</style>\n",
       "<table border=\"1\" class=\"dataframe\">\n",
       "  <thead>\n",
       "    <tr style=\"text-align: right;\">\n",
       "      <th></th>\n",
       "      <th>Post Index</th>\n",
       "      <th>Dominant Topic</th>\n",
       "      <th>Contribution %</th>\n",
       "      <th>Topic Terms</th>\n",
       "    </tr>\n",
       "  </thead>\n",
       "  <tbody>\n",
       "    <tr>\n",
       "      <td>0</td>\n",
       "      <td>0</td>\n",
       "      <td>1</td>\n",
       "      <td>42.50</td>\n",
       "      <td>wire, switch, light, connect, connector, plug,...</td>\n",
       "    </tr>\n",
       "    <tr>\n",
       "      <td>1</td>\n",
       "      <td>1</td>\n",
       "      <td>1</td>\n",
       "      <td>30.47</td>\n",
       "      <td>wire, switch, light, connect, connector, plug,...</td>\n",
       "    </tr>\n",
       "    <tr>\n",
       "      <td>2</td>\n",
       "      <td>2</td>\n",
       "      <td>1</td>\n",
       "      <td>21.31</td>\n",
       "      <td>wire, switch, light, connect, connector, plug,...</td>\n",
       "    </tr>\n",
       "    <tr>\n",
       "      <td>3</td>\n",
       "      <td>4</td>\n",
       "      <td>1</td>\n",
       "      <td>44.65</td>\n",
       "      <td>wire, switch, light, connect, connector, plug,...</td>\n",
       "    </tr>\n",
       "    <tr>\n",
       "      <td>4</td>\n",
       "      <td>5</td>\n",
       "      <td>4</td>\n",
       "      <td>30.30</td>\n",
       "      <td>battery, pack, range, ah, lifepo4, buy, ride, ...</td>\n",
       "    </tr>\n",
       "    <tr>\n",
       "      <td>...</td>\n",
       "      <td>...</td>\n",
       "      <td>...</td>\n",
       "      <td>...</td>\n",
       "      <td>...</td>\n",
       "    </tr>\n",
       "    <tr>\n",
       "      <td>1282</td>\n",
       "      <td>1297</td>\n",
       "      <td>4</td>\n",
       "      <td>34.92</td>\n",
       "      <td>battery, pack, range, ah, lifepo4, buy, ride, ...</td>\n",
       "    </tr>\n",
       "    <tr>\n",
       "      <td>1283</td>\n",
       "      <td>1298</td>\n",
       "      <td>3</td>\n",
       "      <td>30.79</td>\n",
       "      <td>battery, charge, cell, charger, pack, bms, vol...</td>\n",
       "    </tr>\n",
       "    <tr>\n",
       "      <td>1284</td>\n",
       "      <td>1299</td>\n",
       "      <td>1</td>\n",
       "      <td>28.21</td>\n",
       "      <td>wire, switch, light, connect, connector, plug,...</td>\n",
       "    </tr>\n",
       "    <tr>\n",
       "      <td>1285</td>\n",
       "      <td>1300</td>\n",
       "      <td>2</td>\n",
       "      <td>20.55</td>\n",
       "      <td>energy, year, system, power, people, cost, com...</td>\n",
       "    </tr>\n",
       "    <tr>\n",
       "      <td>1286</td>\n",
       "      <td>1301</td>\n",
       "      <td>2</td>\n",
       "      <td>42.72</td>\n",
       "      <td>energy, year, system, power, people, cost, com...</td>\n",
       "    </tr>\n",
       "  </tbody>\n",
       "</table>\n",
       "<p>1287 rows × 4 columns</p>\n",
       "</div>"
      ],
      "text/plain": [
       "      Post Index  Dominant Topic  Contribution %  \\\n",
       "0              0               1           42.50   \n",
       "1              1               1           30.47   \n",
       "2              2               1           21.31   \n",
       "3              4               1           44.65   \n",
       "4              5               4           30.30   \n",
       "...          ...             ...             ...   \n",
       "1282        1297               4           34.92   \n",
       "1283        1298               3           30.79   \n",
       "1284        1299               1           28.21   \n",
       "1285        1300               2           20.55   \n",
       "1286        1301               2           42.72   \n",
       "\n",
       "                                            Topic Terms  \n",
       "0     wire, switch, light, connect, connector, plug,...  \n",
       "1     wire, switch, light, connect, connector, plug,...  \n",
       "2     wire, switch, light, connect, connector, plug,...  \n",
       "3     wire, switch, light, connect, connector, plug,...  \n",
       "4     battery, pack, range, ah, lifepo4, buy, ride, ...  \n",
       "...                                                 ...  \n",
       "1282  battery, pack, range, ah, lifepo4, buy, ride, ...  \n",
       "1283  battery, charge, cell, charger, pack, bms, vol...  \n",
       "1284  wire, switch, light, connect, connector, plug,...  \n",
       "1285  energy, year, system, power, people, cost, com...  \n",
       "1286  energy, year, system, power, people, cost, com...  \n",
       "\n",
       "[1287 rows x 4 columns]"
      ]
     },
     "execution_count": 10,
     "metadata": {},
     "output_type": "execute_result"
    }
   ],
   "source": [
    "corpus_topic_df.drop(['Unnamed: 0'],axis=1,inplace=True)"
   ]
  },
  {
   "cell_type": "code",
   "execution_count": 11,
   "metadata": {
    "ExecuteTime": {
     "end_time": "2020-08-20T08:13:26.342633Z",
     "start_time": "2020-08-20T08:13:26.303655Z"
    }
   },
   "outputs": [
    {
     "data": {
      "text/html": [
       "<div>\n",
       "<style scoped>\n",
       "    .dataframe tbody tr th:only-of-type {\n",
       "        vertical-align: middle;\n",
       "    }\n",
       "\n",
       "    .dataframe tbody tr th {\n",
       "        vertical-align: top;\n",
       "    }\n",
       "\n",
       "    .dataframe thead th {\n",
       "        text-align: right;\n",
       "    }\n",
       "</style>\n",
       "<table border=\"1\" class=\"dataframe\">\n",
       "  <thead>\n",
       "    <tr style=\"text-align: right;\">\n",
       "      <th></th>\n",
       "      <th>Post Index</th>\n",
       "      <th>Dominant Topic</th>\n",
       "      <th>Contribution %</th>\n",
       "      <th>Topic Terms</th>\n",
       "    </tr>\n",
       "  </thead>\n",
       "  <tbody>\n",
       "    <tr>\n",
       "      <td>0</td>\n",
       "      <td>470</td>\n",
       "      <td>1</td>\n",
       "      <td>69.98</td>\n",
       "      <td>wire, switch, light, connect, connector, plug,...</td>\n",
       "    </tr>\n",
       "    <tr>\n",
       "      <td>1</td>\n",
       "      <td>453</td>\n",
       "      <td>2</td>\n",
       "      <td>88.67</td>\n",
       "      <td>energy, year, system, power, people, cost, com...</td>\n",
       "    </tr>\n",
       "    <tr>\n",
       "      <td>2</td>\n",
       "      <td>448</td>\n",
       "      <td>3</td>\n",
       "      <td>62.89</td>\n",
       "      <td>battery, charge, cell, charger, pack, bms, vol...</td>\n",
       "    </tr>\n",
       "    <tr>\n",
       "      <td>3</td>\n",
       "      <td>341</td>\n",
       "      <td>4</td>\n",
       "      <td>60.56</td>\n",
       "      <td>battery, pack, range, ah, lifepo4, buy, ride, ...</td>\n",
       "    </tr>\n",
       "    <tr>\n",
       "      <td>4</td>\n",
       "      <td>879</td>\n",
       "      <td>5</td>\n",
       "      <td>64.41</td>\n",
       "      <td>motor, controller, speed, run, throttle, work,...</td>\n",
       "    </tr>\n",
       "    <tr>\n",
       "      <td>5</td>\n",
       "      <td>1265</td>\n",
       "      <td>6</td>\n",
       "      <td>58.77</td>\n",
       "      <td>voltage, volt, current, amp, power, high, load...</td>\n",
       "    </tr>\n",
       "  </tbody>\n",
       "</table>\n",
       "</div>"
      ],
      "text/plain": [
       "   Post Index  Dominant Topic  Contribution %  \\\n",
       "0         470               1           69.98   \n",
       "1         453               2           88.67   \n",
       "2         448               3           62.89   \n",
       "3         341               4           60.56   \n",
       "4         879               5           64.41   \n",
       "5        1265               6           58.77   \n",
       "\n",
       "                                         Topic Terms  \n",
       "0  wire, switch, light, connect, connector, plug,...  \n",
       "1  energy, year, system, power, people, cost, com...  \n",
       "2  battery, charge, cell, charger, pack, bms, vol...  \n",
       "3  battery, pack, range, ah, lifepo4, buy, ride, ...  \n",
       "4  motor, controller, speed, run, throttle, work,...  \n",
       "5  voltage, volt, current, amp, power, high, load...  "
      ]
     },
     "execution_count": 11,
     "metadata": {},
     "output_type": "execute_result"
    }
   ],
   "source": [
    "corpus_topic_df.groupby('Dominant Topic').apply(lambda topic_set: (\n",
    "    topic_set.sort_values(by=['Contribution %'], ascending=False).iloc[0])\n",
    "                                                ).reset_index(drop=True)"
   ]
  },
  {
   "cell_type": "code",
   "execution_count": 49,
   "metadata": {
    "ExecuteTime": {
     "end_time": "2020-07-30T15:39:25.259308Z",
     "start_time": "2020-07-30T15:39:25.221328Z"
    }
   },
   "outputs": [
    {
     "data": {
      "text/html": [
       "<div>\n",
       "<style scoped>\n",
       "    .dataframe tbody tr th:only-of-type {\n",
       "        vertical-align: middle;\n",
       "    }\n",
       "\n",
       "    .dataframe tbody tr th {\n",
       "        vertical-align: top;\n",
       "    }\n",
       "\n",
       "    .dataframe thead th {\n",
       "        text-align: right;\n",
       "    }\n",
       "</style>\n",
       "<table border=\"1\" class=\"dataframe\">\n",
       "  <thead>\n",
       "    <tr style=\"text-align: right;\">\n",
       "      <th></th>\n",
       "      <th>Post Index</th>\n",
       "      <th>Dominant Topic</th>\n",
       "      <th>Contribution %</th>\n",
       "      <th>Topic Terms</th>\n",
       "    </tr>\n",
       "  </thead>\n",
       "  <tbody>\n",
       "    <tr>\n",
       "      <td>0</td>\n",
       "      <td>465</td>\n",
       "      <td>1</td>\n",
       "      <td>69.98</td>\n",
       "      <td>wire, switch, light, connect, connector, plug, work, end, connection, power, circuit, find, fuse, board, terminal, wiring, lead, box, mount, red</td>\n",
       "    </tr>\n",
       "    <tr>\n",
       "      <td>1</td>\n",
       "      <td>448</td>\n",
       "      <td>2</td>\n",
       "      <td>88.67</td>\n",
       "      <td>energy, year, system, power, people, cost, company, large, lithium, product, technology, build, lot, solar, design, fuel, store, info, make, wind</td>\n",
       "    </tr>\n",
       "    <tr>\n",
       "      <td>2</td>\n",
       "      <td>444</td>\n",
       "      <td>3</td>\n",
       "      <td>62.89</td>\n",
       "      <td>battery, charge, cell, charger, pack, bms, voltage, discharge, balance, parallel, time, work, low, volt, bad, problem, string, fully, dewalt, bank</td>\n",
       "    </tr>\n",
       "    <tr>\n",
       "      <td>3</td>\n",
       "      <td>337</td>\n",
       "      <td>4</td>\n",
       "      <td>60.56</td>\n",
       "      <td>battery, pack, range, ah, lifepo4, buy, ride, mile, 36v, 48v, sla, run, discharge, ping, rate, 24v, amp, price, cheap, 12v</td>\n",
       "    </tr>\n",
       "    <tr>\n",
       "      <td>4</td>\n",
       "      <td>872</td>\n",
       "      <td>5</td>\n",
       "      <td>64.41</td>\n",
       "      <td>motor, controller, speed, run, throttle, work, power, brake, mph, drive, hub, find, control, wheel, brush, torque, gear, brushless, rpm, sensor</td>\n",
       "    </tr>\n",
       "    <tr>\n",
       "      <td>5</td>\n",
       "      <td>1252</td>\n",
       "      <td>6</td>\n",
       "      <td>58.77</td>\n",
       "      <td>voltage, volt, current, amp, power, high, load, watt, battery, rate, low, draw, test, time, heat, resistance, max, output, limit, input</td>\n",
       "    </tr>\n",
       "  </tbody>\n",
       "</table>\n",
       "</div>"
      ],
      "text/plain": [
       "   Post Index  Dominant Topic  Contribution %  \\\n",
       "0  465         1               69.98            \n",
       "1  448         2               88.67            \n",
       "2  444         3               62.89            \n",
       "3  337         4               60.56            \n",
       "4  872         5               64.41            \n",
       "5  1252        6               58.77            \n",
       "\n",
       "                                                                                                                                          Topic Terms  \n",
       "0  wire, switch, light, connect, connector, plug, work, end, connection, power, circuit, find, fuse, board, terminal, wiring, lead, box, mount, red    \n",
       "1  energy, year, system, power, people, cost, company, large, lithium, product, technology, build, lot, solar, design, fuel, store, info, make, wind   \n",
       "2  battery, charge, cell, charger, pack, bms, voltage, discharge, balance, parallel, time, work, low, volt, bad, problem, string, fully, dewalt, bank  \n",
       "3  battery, pack, range, ah, lifepo4, buy, ride, mile, 36v, 48v, sla, run, discharge, ping, rate, 24v, amp, price, cheap, 12v                          \n",
       "4  motor, controller, speed, run, throttle, work, power, brake, mph, drive, hub, find, control, wheel, brush, torque, gear, brushless, rpm, sensor     \n",
       "5  voltage, volt, current, amp, power, high, load, watt, battery, rate, low, draw, test, time, heat, resistance, max, output, limit, input             "
      ]
     },
     "execution_count": 49,
     "metadata": {},
     "output_type": "execute_result"
    }
   ],
   "source": [
    "corpus_topic_df.groupby('Dominant Topic').apply(lambda topic_set: (\n",
    "    topic_set.sort_values(by=['Contribution %'], ascending=False).iloc[0])\n",
    "                                                ).reset_index(drop=True)"
   ]
  },
  {
   "cell_type": "code",
   "execution_count": 50,
   "metadata": {
    "ExecuteTime": {
     "end_time": "2020-07-30T15:39:26.521858Z",
     "start_time": "2020-07-30T15:39:26.484881Z"
    }
   },
   "outputs": [
    {
     "data": {
      "text/html": [
       "<div>\n",
       "<style scoped>\n",
       "    .dataframe tbody tr th:only-of-type {\n",
       "        vertical-align: middle;\n",
       "    }\n",
       "\n",
       "    .dataframe tbody tr th {\n",
       "        vertical-align: top;\n",
       "    }\n",
       "\n",
       "    .dataframe thead th {\n",
       "        text-align: right;\n",
       "    }\n",
       "</style>\n",
       "<table border=\"1\" class=\"dataframe\">\n",
       "  <thead>\n",
       "    <tr style=\"text-align: right;\">\n",
       "      <th></th>\n",
       "      <th>Topic 1</th>\n",
       "      <th>Topic 2</th>\n",
       "      <th>Topic 3</th>\n",
       "      <th>Topic 4</th>\n",
       "      <th>Topic 5</th>\n",
       "      <th>Topic 6</th>\n",
       "    </tr>\n",
       "  </thead>\n",
       "  <tbody>\n",
       "    <tr>\n",
       "      <td>0</td>\n",
       "      <td>0.425015</td>\n",
       "      <td>0.130237</td>\n",
       "      <td>0.100789</td>\n",
       "      <td>0.057073</td>\n",
       "      <td>0.040376</td>\n",
       "      <td>0.246509</td>\n",
       "    </tr>\n",
       "    <tr>\n",
       "      <td>1</td>\n",
       "      <td>0.304653</td>\n",
       "      <td>0.053149</td>\n",
       "      <td>0.054954</td>\n",
       "      <td>0.124549</td>\n",
       "      <td>0.194144</td>\n",
       "      <td>0.268552</td>\n",
       "    </tr>\n",
       "    <tr>\n",
       "      <td>2</td>\n",
       "      <td>0.213115</td>\n",
       "      <td>0.156648</td>\n",
       "      <td>0.149362</td>\n",
       "      <td>0.158470</td>\n",
       "      <td>0.169399</td>\n",
       "      <td>0.153005</td>\n",
       "    </tr>\n",
       "    <tr>\n",
       "      <td>3</td>\n",
       "      <td>0.446528</td>\n",
       "      <td>0.068750</td>\n",
       "      <td>0.081250</td>\n",
       "      <td>0.100694</td>\n",
       "      <td>0.234722</td>\n",
       "      <td>0.068056</td>\n",
       "    </tr>\n",
       "    <tr>\n",
       "      <td>4</td>\n",
       "      <td>0.119433</td>\n",
       "      <td>0.264283</td>\n",
       "      <td>0.207152</td>\n",
       "      <td>0.302969</td>\n",
       "      <td>0.034638</td>\n",
       "      <td>0.071525</td>\n",
       "    </tr>\n",
       "    <tr>\n",
       "      <td>...</td>\n",
       "      <td>...</td>\n",
       "      <td>...</td>\n",
       "      <td>...</td>\n",
       "      <td>...</td>\n",
       "      <td>...</td>\n",
       "      <td>...</td>\n",
       "    </tr>\n",
       "    <tr>\n",
       "      <td>1282</td>\n",
       "      <td>0.079806</td>\n",
       "      <td>0.275132</td>\n",
       "      <td>0.171076</td>\n",
       "      <td>0.349206</td>\n",
       "      <td>0.049383</td>\n",
       "      <td>0.075397</td>\n",
       "    </tr>\n",
       "    <tr>\n",
       "      <td>1283</td>\n",
       "      <td>0.082407</td>\n",
       "      <td>0.106019</td>\n",
       "      <td>0.307870</td>\n",
       "      <td>0.218750</td>\n",
       "      <td>0.027546</td>\n",
       "      <td>0.257407</td>\n",
       "    </tr>\n",
       "    <tr>\n",
       "      <td>1284</td>\n",
       "      <td>0.282051</td>\n",
       "      <td>0.166278</td>\n",
       "      <td>0.141414</td>\n",
       "      <td>0.135198</td>\n",
       "      <td>0.076923</td>\n",
       "      <td>0.198135</td>\n",
       "    </tr>\n",
       "    <tr>\n",
       "      <td>1285</td>\n",
       "      <td>0.144597</td>\n",
       "      <td>0.205479</td>\n",
       "      <td>0.203957</td>\n",
       "      <td>0.140030</td>\n",
       "      <td>0.132420</td>\n",
       "      <td>0.173516</td>\n",
       "    </tr>\n",
       "    <tr>\n",
       "      <td>1286</td>\n",
       "      <td>0.147510</td>\n",
       "      <td>0.427203</td>\n",
       "      <td>0.139080</td>\n",
       "      <td>0.084291</td>\n",
       "      <td>0.053640</td>\n",
       "      <td>0.148276</td>\n",
       "    </tr>\n",
       "  </tbody>\n",
       "</table>\n",
       "<p>1287 rows × 6 columns</p>\n",
       "</div>"
      ],
      "text/plain": [
       "       Topic 1   Topic 2   Topic 3   Topic 4   Topic 5   Topic 6\n",
       "0     0.425015  0.130237  0.100789  0.057073  0.040376  0.246509\n",
       "1     0.304653  0.053149  0.054954  0.124549  0.194144  0.268552\n",
       "2     0.213115  0.156648  0.149362  0.158470  0.169399  0.153005\n",
       "3     0.446528  0.068750  0.081250  0.100694  0.234722  0.068056\n",
       "4     0.119433  0.264283  0.207152  0.302969  0.034638  0.071525\n",
       "...        ...       ...       ...       ...       ...       ...\n",
       "1282  0.079806  0.275132  0.171076  0.349206  0.049383  0.075397\n",
       "1283  0.082407  0.106019  0.307870  0.218750  0.027546  0.257407\n",
       "1284  0.282051  0.166278  0.141414  0.135198  0.076923  0.198135\n",
       "1285  0.144597  0.205479  0.203957  0.140030  0.132420  0.173516\n",
       "1286  0.147510  0.427203  0.139080  0.084291  0.053640  0.148276\n",
       "\n",
       "[1287 rows x 6 columns]"
      ]
     },
     "execution_count": 50,
     "metadata": {},
     "output_type": "execute_result"
    }
   ],
   "source": [
    "df_weights = pd.DataFrame.from_records([{v: k for v, k in row} for row in tm_results])\n",
    "df_weights.columns = ['Topic ' + str(i) for i in range(1,7)]\n",
    "df_weights"
   ]
  },
  {
   "cell_type": "code",
   "execution_count": 51,
   "metadata": {
    "ExecuteTime": {
     "end_time": "2020-07-30T15:39:27.704180Z",
     "start_time": "2020-07-30T15:39:27.684191Z"
    }
   },
   "outputs": [
    {
     "data": {
      "text/html": [
       "<div>\n",
       "<style scoped>\n",
       "    .dataframe tbody tr th:only-of-type {\n",
       "        vertical-align: middle;\n",
       "    }\n",
       "\n",
       "    .dataframe tbody tr th {\n",
       "        vertical-align: top;\n",
       "    }\n",
       "\n",
       "    .dataframe thead th {\n",
       "        text-align: right;\n",
       "    }\n",
       "</style>\n",
       "<table border=\"1\" class=\"dataframe\">\n",
       "  <thead>\n",
       "    <tr style=\"text-align: right;\">\n",
       "      <th></th>\n",
       "      <th>Topic 1</th>\n",
       "      <th>Topic 2</th>\n",
       "      <th>Topic 3</th>\n",
       "      <th>Topic 4</th>\n",
       "      <th>Topic 5</th>\n",
       "      <th>Topic 6</th>\n",
       "    </tr>\n",
       "    <tr>\n",
       "      <th>Year</th>\n",
       "      <th></th>\n",
       "      <th></th>\n",
       "      <th></th>\n",
       "      <th></th>\n",
       "      <th></th>\n",
       "      <th></th>\n",
       "    </tr>\n",
       "  </thead>\n",
       "  <tbody>\n",
       "    <tr>\n",
       "      <td>2007</td>\n",
       "      <td>0.153636</td>\n",
       "      <td>0.213452</td>\n",
       "      <td>0.164891</td>\n",
       "      <td>0.161851</td>\n",
       "      <td>0.145817</td>\n",
       "      <td>0.160353</td>\n",
       "    </tr>\n",
       "    <tr>\n",
       "      <td>2008</td>\n",
       "      <td>0.156878</td>\n",
       "      <td>0.148218</td>\n",
       "      <td>0.176791</td>\n",
       "      <td>0.188157</td>\n",
       "      <td>0.172152</td>\n",
       "      <td>0.157803</td>\n",
       "    </tr>\n",
       "    <tr>\n",
       "      <td>2009</td>\n",
       "      <td>0.168493</td>\n",
       "      <td>0.148230</td>\n",
       "      <td>0.170992</td>\n",
       "      <td>0.182302</td>\n",
       "      <td>0.177190</td>\n",
       "      <td>0.152794</td>\n",
       "    </tr>\n",
       "    <tr>\n",
       "      <td>2010</td>\n",
       "      <td>0.168016</td>\n",
       "      <td>0.151169</td>\n",
       "      <td>0.171170</td>\n",
       "      <td>0.173452</td>\n",
       "      <td>0.171084</td>\n",
       "      <td>0.165110</td>\n",
       "    </tr>\n",
       "    <tr>\n",
       "      <td>2011</td>\n",
       "      <td>0.179045</td>\n",
       "      <td>0.161231</td>\n",
       "      <td>0.180535</td>\n",
       "      <td>0.158660</td>\n",
       "      <td>0.160508</td>\n",
       "      <td>0.160021</td>\n",
       "    </tr>\n",
       "    <tr>\n",
       "      <td>2012</td>\n",
       "      <td>0.172386</td>\n",
       "      <td>0.165160</td>\n",
       "      <td>0.169157</td>\n",
       "      <td>0.162592</td>\n",
       "      <td>0.154873</td>\n",
       "      <td>0.175832</td>\n",
       "    </tr>\n",
       "    <tr>\n",
       "      <td>2013</td>\n",
       "      <td>0.143651</td>\n",
       "      <td>0.225149</td>\n",
       "      <td>0.241676</td>\n",
       "      <td>0.136594</td>\n",
       "      <td>0.079804</td>\n",
       "      <td>0.173127</td>\n",
       "    </tr>\n",
       "    <tr>\n",
       "      <td>2014</td>\n",
       "      <td>0.157876</td>\n",
       "      <td>0.184616</td>\n",
       "      <td>0.118935</td>\n",
       "      <td>0.117237</td>\n",
       "      <td>0.272629</td>\n",
       "      <td>0.148708</td>\n",
       "    </tr>\n",
       "    <tr>\n",
       "      <td>2015</td>\n",
       "      <td>0.171475</td>\n",
       "      <td>0.169445</td>\n",
       "      <td>0.159602</td>\n",
       "      <td>0.178830</td>\n",
       "      <td>0.168813</td>\n",
       "      <td>0.151835</td>\n",
       "    </tr>\n",
       "    <tr>\n",
       "      <td>2016</td>\n",
       "      <td>0.182159</td>\n",
       "      <td>0.123382</td>\n",
       "      <td>0.345793</td>\n",
       "      <td>0.124860</td>\n",
       "      <td>0.112382</td>\n",
       "      <td>0.111424</td>\n",
       "    </tr>\n",
       "    <tr>\n",
       "      <td>2017</td>\n",
       "      <td>0.194463</td>\n",
       "      <td>0.139138</td>\n",
       "      <td>0.146189</td>\n",
       "      <td>0.180150</td>\n",
       "      <td>0.188988</td>\n",
       "      <td>0.151073</td>\n",
       "    </tr>\n",
       "    <tr>\n",
       "      <td>2018</td>\n",
       "      <td>0.319011</td>\n",
       "      <td>0.112897</td>\n",
       "      <td>0.206651</td>\n",
       "      <td>0.132338</td>\n",
       "      <td>0.109330</td>\n",
       "      <td>0.119772</td>\n",
       "    </tr>\n",
       "    <tr>\n",
       "      <td>2020</td>\n",
       "      <td>0.181724</td>\n",
       "      <td>0.133956</td>\n",
       "      <td>0.166147</td>\n",
       "      <td>0.188993</td>\n",
       "      <td>0.151610</td>\n",
       "      <td>0.177570</td>\n",
       "    </tr>\n",
       "  </tbody>\n",
       "</table>\n",
       "</div>"
      ],
      "text/plain": [
       "       Topic 1   Topic 2   Topic 3   Topic 4   Topic 5   Topic 6\n",
       "Year                                                            \n",
       "2007  0.153636  0.213452  0.164891  0.161851  0.145817  0.160353\n",
       "2008  0.156878  0.148218  0.176791  0.188157  0.172152  0.157803\n",
       "2009  0.168493  0.148230  0.170992  0.182302  0.177190  0.152794\n",
       "2010  0.168016  0.151169  0.171170  0.173452  0.171084  0.165110\n",
       "2011  0.179045  0.161231  0.180535  0.158660  0.160508  0.160021\n",
       "2012  0.172386  0.165160  0.169157  0.162592  0.154873  0.175832\n",
       "2013  0.143651  0.225149  0.241676  0.136594  0.079804  0.173127\n",
       "2014  0.157876  0.184616  0.118935  0.117237  0.272629  0.148708\n",
       "2015  0.171475  0.169445  0.159602  0.178830  0.168813  0.151835\n",
       "2016  0.182159  0.123382  0.345793  0.124860  0.112382  0.111424\n",
       "2017  0.194463  0.139138  0.146189  0.180150  0.188988  0.151073\n",
       "2018  0.319011  0.112897  0.206651  0.132338  0.109330  0.119772\n",
       "2020  0.181724  0.133956  0.166147  0.188993  0.151610  0.177570"
      ]
     },
     "execution_count": 51,
     "metadata": {},
     "output_type": "execute_result"
    }
   ],
   "source": [
    "df_weights['Year'] = year\n",
    "df_weights.groupby('Year').mean()"
   ]
  },
  {
   "cell_type": "code",
   "execution_count": 52,
   "metadata": {
    "ExecuteTime": {
     "end_time": "2020-07-30T15:39:31.821780Z",
     "start_time": "2020-07-30T15:39:31.811786Z"
    }
   },
   "outputs": [],
   "source": [
    "df_weights_year=df_weights.groupby('Year').mean()"
   ]
  },
  {
   "cell_type": "code",
   "execution_count": 53,
   "metadata": {
    "ExecuteTime": {
     "end_time": "2020-07-30T15:39:32.766237Z",
     "start_time": "2020-07-30T15:39:32.761242Z"
    }
   },
   "outputs": [],
   "source": [
    "# df_weights_year.to_csv('df_weights_year.csv')"
   ]
  },
  {
   "cell_type": "code",
   "execution_count": 17,
   "metadata": {
    "ExecuteTime": {
     "end_time": "2020-08-20T08:17:06.705332Z",
     "start_time": "2020-08-20T08:17:06.701332Z"
    }
   },
   "outputs": [],
   "source": [
    "#df_weights=df_weights_year"
   ]
  },
  {
   "cell_type": "code",
   "execution_count": 54,
   "metadata": {
    "ExecuteTime": {
     "end_time": "2020-07-30T15:39:33.396876Z",
     "start_time": "2020-07-30T15:39:33.369893Z"
    }
   },
   "outputs": [
    {
     "data": {
      "text/html": [
       "<div>\n",
       "<style scoped>\n",
       "    .dataframe tbody tr th:only-of-type {\n",
       "        vertical-align: middle;\n",
       "    }\n",
       "\n",
       "    .dataframe tbody tr th {\n",
       "        vertical-align: top;\n",
       "    }\n",
       "\n",
       "    .dataframe thead th {\n",
       "        text-align: right;\n",
       "    }\n",
       "</style>\n",
       "<table border=\"1\" class=\"dataframe\">\n",
       "  <thead>\n",
       "    <tr style=\"text-align: right;\">\n",
       "      <th></th>\n",
       "      <th>Topic 1</th>\n",
       "      <th>Topic 2</th>\n",
       "      <th>Topic 3</th>\n",
       "      <th>Topic 4</th>\n",
       "      <th>Topic 5</th>\n",
       "      <th>Topic 6</th>\n",
       "      <th>Year</th>\n",
       "      <th>Dominant</th>\n",
       "    </tr>\n",
       "  </thead>\n",
       "  <tbody>\n",
       "    <tr>\n",
       "      <td>0</td>\n",
       "      <td>0.425015</td>\n",
       "      <td>0.130237</td>\n",
       "      <td>0.100789</td>\n",
       "      <td>0.057073</td>\n",
       "      <td>0.040376</td>\n",
       "      <td>0.246509</td>\n",
       "      <td>2017</td>\n",
       "      <td>Topic 1</td>\n",
       "    </tr>\n",
       "    <tr>\n",
       "      <td>1</td>\n",
       "      <td>0.304653</td>\n",
       "      <td>0.053149</td>\n",
       "      <td>0.054954</td>\n",
       "      <td>0.124549</td>\n",
       "      <td>0.194144</td>\n",
       "      <td>0.268552</td>\n",
       "      <td>2012</td>\n",
       "      <td>Topic 1</td>\n",
       "    </tr>\n",
       "    <tr>\n",
       "      <td>2</td>\n",
       "      <td>0.213115</td>\n",
       "      <td>0.156648</td>\n",
       "      <td>0.149362</td>\n",
       "      <td>0.158470</td>\n",
       "      <td>0.169399</td>\n",
       "      <td>0.153005</td>\n",
       "      <td>2018</td>\n",
       "      <td>Topic 1</td>\n",
       "    </tr>\n",
       "    <tr>\n",
       "      <td>3</td>\n",
       "      <td>0.446528</td>\n",
       "      <td>0.068750</td>\n",
       "      <td>0.081250</td>\n",
       "      <td>0.100694</td>\n",
       "      <td>0.234722</td>\n",
       "      <td>0.068056</td>\n",
       "      <td>2011</td>\n",
       "      <td>Topic 1</td>\n",
       "    </tr>\n",
       "    <tr>\n",
       "      <td>4</td>\n",
       "      <td>0.119433</td>\n",
       "      <td>0.264283</td>\n",
       "      <td>0.207152</td>\n",
       "      <td>0.302969</td>\n",
       "      <td>0.034638</td>\n",
       "      <td>0.071525</td>\n",
       "      <td>2009</td>\n",
       "      <td>Topic 4</td>\n",
       "    </tr>\n",
       "    <tr>\n",
       "      <td>...</td>\n",
       "      <td>...</td>\n",
       "      <td>...</td>\n",
       "      <td>...</td>\n",
       "      <td>...</td>\n",
       "      <td>...</td>\n",
       "      <td>...</td>\n",
       "      <td>...</td>\n",
       "      <td>...</td>\n",
       "    </tr>\n",
       "    <tr>\n",
       "      <td>1282</td>\n",
       "      <td>0.079806</td>\n",
       "      <td>0.275132</td>\n",
       "      <td>0.171076</td>\n",
       "      <td>0.349206</td>\n",
       "      <td>0.049383</td>\n",
       "      <td>0.075397</td>\n",
       "      <td>2012</td>\n",
       "      <td>Topic 4</td>\n",
       "    </tr>\n",
       "    <tr>\n",
       "      <td>1283</td>\n",
       "      <td>0.082407</td>\n",
       "      <td>0.106019</td>\n",
       "      <td>0.307870</td>\n",
       "      <td>0.218750</td>\n",
       "      <td>0.027546</td>\n",
       "      <td>0.257407</td>\n",
       "      <td>2013</td>\n",
       "      <td>Topic 3</td>\n",
       "    </tr>\n",
       "    <tr>\n",
       "      <td>1284</td>\n",
       "      <td>0.282051</td>\n",
       "      <td>0.166278</td>\n",
       "      <td>0.141414</td>\n",
       "      <td>0.135198</td>\n",
       "      <td>0.076923</td>\n",
       "      <td>0.198135</td>\n",
       "      <td>2013</td>\n",
       "      <td>Topic 1</td>\n",
       "    </tr>\n",
       "    <tr>\n",
       "      <td>1285</td>\n",
       "      <td>0.144597</td>\n",
       "      <td>0.205479</td>\n",
       "      <td>0.203957</td>\n",
       "      <td>0.140030</td>\n",
       "      <td>0.132420</td>\n",
       "      <td>0.173516</td>\n",
       "      <td>2013</td>\n",
       "      <td>Topic 2</td>\n",
       "    </tr>\n",
       "    <tr>\n",
       "      <td>1286</td>\n",
       "      <td>0.147510</td>\n",
       "      <td>0.427203</td>\n",
       "      <td>0.139080</td>\n",
       "      <td>0.084291</td>\n",
       "      <td>0.053640</td>\n",
       "      <td>0.148276</td>\n",
       "      <td>2014</td>\n",
       "      <td>Topic 2</td>\n",
       "    </tr>\n",
       "  </tbody>\n",
       "</table>\n",
       "<p>1287 rows × 8 columns</p>\n",
       "</div>"
      ],
      "text/plain": [
       "       Topic 1   Topic 2   Topic 3   Topic 4   Topic 5   Topic 6  Year  \\\n",
       "0     0.425015  0.130237  0.100789  0.057073  0.040376  0.246509  2017   \n",
       "1     0.304653  0.053149  0.054954  0.124549  0.194144  0.268552  2012   \n",
       "2     0.213115  0.156648  0.149362  0.158470  0.169399  0.153005  2018   \n",
       "3     0.446528  0.068750  0.081250  0.100694  0.234722  0.068056  2011   \n",
       "4     0.119433  0.264283  0.207152  0.302969  0.034638  0.071525  2009   \n",
       "...        ...       ...       ...       ...       ...       ...   ...   \n",
       "1282  0.079806  0.275132  0.171076  0.349206  0.049383  0.075397  2012   \n",
       "1283  0.082407  0.106019  0.307870  0.218750  0.027546  0.257407  2013   \n",
       "1284  0.282051  0.166278  0.141414  0.135198  0.076923  0.198135  2013   \n",
       "1285  0.144597  0.205479  0.203957  0.140030  0.132420  0.173516  2013   \n",
       "1286  0.147510  0.427203  0.139080  0.084291  0.053640  0.148276  2014   \n",
       "\n",
       "     Dominant  \n",
       "0     Topic 1  \n",
       "1     Topic 1  \n",
       "2     Topic 1  \n",
       "3     Topic 1  \n",
       "4     Topic 4  \n",
       "...       ...  \n",
       "1282  Topic 4  \n",
       "1283  Topic 3  \n",
       "1284  Topic 1  \n",
       "1285  Topic 2  \n",
       "1286  Topic 2  \n",
       "\n",
       "[1287 rows x 8 columns]"
      ]
     },
     "execution_count": 54,
     "metadata": {},
     "output_type": "execute_result"
    }
   ],
   "source": [
    "df_weights['Dominant'] = df_weights.drop('Year', axis=1).idxmax(axis=1)\n",
    "df_weights"
   ]
  },
  {
   "cell_type": "code",
   "execution_count": 55,
   "metadata": {
    "ExecuteTime": {
     "end_time": "2020-07-30T15:39:35.881186Z",
     "start_time": "2020-07-30T15:39:35.848207Z"
    }
   },
   "outputs": [
    {
     "data": {
      "text/html": [
       "<div>\n",
       "<style scoped>\n",
       "    .dataframe tbody tr th:only-of-type {\n",
       "        vertical-align: middle;\n",
       "    }\n",
       "\n",
       "    .dataframe tbody tr th {\n",
       "        vertical-align: top;\n",
       "    }\n",
       "\n",
       "    .dataframe thead th {\n",
       "        text-align: right;\n",
       "    }\n",
       "</style>\n",
       "<table border=\"1\" class=\"dataframe\">\n",
       "  <thead>\n",
       "    <tr style=\"text-align: right;\">\n",
       "      <th>Dominant</th>\n",
       "      <th>Topic 1</th>\n",
       "      <th>Topic 2</th>\n",
       "      <th>Topic 3</th>\n",
       "      <th>Topic 4</th>\n",
       "      <th>Topic 5</th>\n",
       "      <th>Topic 6</th>\n",
       "    </tr>\n",
       "    <tr>\n",
       "      <th>Year</th>\n",
       "      <th></th>\n",
       "      <th></th>\n",
       "      <th></th>\n",
       "      <th></th>\n",
       "      <th></th>\n",
       "      <th></th>\n",
       "    </tr>\n",
       "  </thead>\n",
       "  <tbody>\n",
       "    <tr>\n",
       "      <td>2007</td>\n",
       "      <td>0.121053</td>\n",
       "      <td>0.310526</td>\n",
       "      <td>0.184211</td>\n",
       "      <td>0.131579</td>\n",
       "      <td>0.152632</td>\n",
       "      <td>0.100000</td>\n",
       "    </tr>\n",
       "    <tr>\n",
       "      <td>2008</td>\n",
       "      <td>0.129032</td>\n",
       "      <td>0.145161</td>\n",
       "      <td>0.214286</td>\n",
       "      <td>0.207373</td>\n",
       "      <td>0.232719</td>\n",
       "      <td>0.071429</td>\n",
       "    </tr>\n",
       "    <tr>\n",
       "      <td>2009</td>\n",
       "      <td>0.156863</td>\n",
       "      <td>0.149020</td>\n",
       "      <td>0.200000</td>\n",
       "      <td>0.176471</td>\n",
       "      <td>0.254902</td>\n",
       "      <td>0.062745</td>\n",
       "    </tr>\n",
       "    <tr>\n",
       "      <td>2010</td>\n",
       "      <td>0.153439</td>\n",
       "      <td>0.148148</td>\n",
       "      <td>0.190476</td>\n",
       "      <td>0.174603</td>\n",
       "      <td>0.227513</td>\n",
       "      <td>0.105820</td>\n",
       "    </tr>\n",
       "    <tr>\n",
       "      <td>2011</td>\n",
       "      <td>0.195312</td>\n",
       "      <td>0.148438</td>\n",
       "      <td>0.210938</td>\n",
       "      <td>0.148438</td>\n",
       "      <td>0.210938</td>\n",
       "      <td>0.085938</td>\n",
       "    </tr>\n",
       "    <tr>\n",
       "      <td>2012</td>\n",
       "      <td>0.115385</td>\n",
       "      <td>0.192308</td>\n",
       "      <td>0.134615</td>\n",
       "      <td>0.153846</td>\n",
       "      <td>0.250000</td>\n",
       "      <td>0.153846</td>\n",
       "    </tr>\n",
       "    <tr>\n",
       "      <td>2013</td>\n",
       "      <td>0.125000</td>\n",
       "      <td>0.375000</td>\n",
       "      <td>0.375000</td>\n",
       "      <td>NaN</td>\n",
       "      <td>NaN</td>\n",
       "      <td>0.125000</td>\n",
       "    </tr>\n",
       "    <tr>\n",
       "      <td>2014</td>\n",
       "      <td>0.181818</td>\n",
       "      <td>0.272727</td>\n",
       "      <td>0.090909</td>\n",
       "      <td>NaN</td>\n",
       "      <td>0.454545</td>\n",
       "      <td>NaN</td>\n",
       "    </tr>\n",
       "    <tr>\n",
       "      <td>2015</td>\n",
       "      <td>NaN</td>\n",
       "      <td>NaN</td>\n",
       "      <td>NaN</td>\n",
       "      <td>0.500000</td>\n",
       "      <td>0.250000</td>\n",
       "      <td>0.250000</td>\n",
       "    </tr>\n",
       "    <tr>\n",
       "      <td>2016</td>\n",
       "      <td>0.250000</td>\n",
       "      <td>NaN</td>\n",
       "      <td>0.750000</td>\n",
       "      <td>NaN</td>\n",
       "      <td>NaN</td>\n",
       "      <td>NaN</td>\n",
       "    </tr>\n",
       "    <tr>\n",
       "      <td>2017</td>\n",
       "      <td>0.166667</td>\n",
       "      <td>NaN</td>\n",
       "      <td>0.166667</td>\n",
       "      <td>0.166667</td>\n",
       "      <td>0.500000</td>\n",
       "      <td>NaN</td>\n",
       "    </tr>\n",
       "    <tr>\n",
       "      <td>2018</td>\n",
       "      <td>0.800000</td>\n",
       "      <td>NaN</td>\n",
       "      <td>0.200000</td>\n",
       "      <td>NaN</td>\n",
       "      <td>NaN</td>\n",
       "      <td>NaN</td>\n",
       "    </tr>\n",
       "    <tr>\n",
       "      <td>2020</td>\n",
       "      <td>NaN</td>\n",
       "      <td>NaN</td>\n",
       "      <td>NaN</td>\n",
       "      <td>1.000000</td>\n",
       "      <td>NaN</td>\n",
       "      <td>NaN</td>\n",
       "    </tr>\n",
       "  </tbody>\n",
       "</table>\n",
       "</div>"
      ],
      "text/plain": [
       "Dominant   Topic 1   Topic 2   Topic 3   Topic 4   Topic 5   Topic 6\n",
       "Year                                                                \n",
       "2007      0.121053  0.310526  0.184211  0.131579  0.152632  0.100000\n",
       "2008      0.129032  0.145161  0.214286  0.207373  0.232719  0.071429\n",
       "2009      0.156863  0.149020  0.200000  0.176471  0.254902  0.062745\n",
       "2010      0.153439  0.148148  0.190476  0.174603  0.227513  0.105820\n",
       "2011      0.195312  0.148438  0.210938  0.148438  0.210938  0.085938\n",
       "2012      0.115385  0.192308  0.134615  0.153846  0.250000  0.153846\n",
       "2013      0.125000  0.375000  0.375000 NaN       NaN        0.125000\n",
       "2014      0.181818  0.272727  0.090909 NaN        0.454545 NaN      \n",
       "2015     NaN       NaN       NaN        0.500000  0.250000  0.250000\n",
       "2016      0.250000 NaN        0.750000 NaN       NaN       NaN      \n",
       "2017      0.166667 NaN        0.166667  0.166667  0.500000 NaN      \n",
       "2018      0.800000 NaN        0.200000 NaN       NaN       NaN      \n",
       "2020     NaN       NaN       NaN        1.000000 NaN       NaN      "
      ]
     },
     "execution_count": 55,
     "metadata": {},
     "output_type": "execute_result"
    }
   ],
   "source": [
    "df_dominance = df_weights.groupby('Year')['Dominant'].value_counts(normalize=True).unstack()\n",
    "df_dominance"
   ]
  },
  {
   "cell_type": "markdown",
   "metadata": {},
   "source": [
    "## plot by year"
   ]
  },
  {
   "cell_type": "code",
   "execution_count": 29,
   "metadata": {
    "ExecuteTime": {
     "end_time": "2020-08-20T08:21:19.860436Z",
     "start_time": "2020-08-20T08:21:19.837450Z"
    }
   },
   "outputs": [
    {
     "data": {
      "text/html": [
       "<div>\n",
       "<style scoped>\n",
       "    .dataframe tbody tr th:only-of-type {\n",
       "        vertical-align: middle;\n",
       "    }\n",
       "\n",
       "    .dataframe tbody tr th {\n",
       "        vertical-align: top;\n",
       "    }\n",
       "\n",
       "    .dataframe thead th {\n",
       "        text-align: right;\n",
       "    }\n",
       "</style>\n",
       "<table border=\"1\" class=\"dataframe\">\n",
       "  <thead>\n",
       "    <tr style=\"text-align: right;\">\n",
       "      <th></th>\n",
       "      <th>Year</th>\n",
       "      <th>Topic 1</th>\n",
       "      <th>Topic 2</th>\n",
       "      <th>Topic 3</th>\n",
       "      <th>Topic 4</th>\n",
       "      <th>Topic 5</th>\n",
       "      <th>Topic 6</th>\n",
       "    </tr>\n",
       "  </thead>\n",
       "  <tbody>\n",
       "    <tr>\n",
       "      <td>0</td>\n",
       "      <td>2007</td>\n",
       "      <td>0.153636</td>\n",
       "      <td>0.213452</td>\n",
       "      <td>0.164891</td>\n",
       "      <td>0.161851</td>\n",
       "      <td>0.145817</td>\n",
       "      <td>0.160353</td>\n",
       "    </tr>\n",
       "    <tr>\n",
       "      <td>1</td>\n",
       "      <td>2008</td>\n",
       "      <td>0.156878</td>\n",
       "      <td>0.148218</td>\n",
       "      <td>0.176791</td>\n",
       "      <td>0.188157</td>\n",
       "      <td>0.172152</td>\n",
       "      <td>0.157803</td>\n",
       "    </tr>\n",
       "    <tr>\n",
       "      <td>2</td>\n",
       "      <td>2009</td>\n",
       "      <td>0.168493</td>\n",
       "      <td>0.148230</td>\n",
       "      <td>0.170992</td>\n",
       "      <td>0.182302</td>\n",
       "      <td>0.177190</td>\n",
       "      <td>0.152794</td>\n",
       "    </tr>\n",
       "    <tr>\n",
       "      <td>3</td>\n",
       "      <td>2010</td>\n",
       "      <td>0.168016</td>\n",
       "      <td>0.151169</td>\n",
       "      <td>0.171170</td>\n",
       "      <td>0.173452</td>\n",
       "      <td>0.171084</td>\n",
       "      <td>0.165110</td>\n",
       "    </tr>\n",
       "    <tr>\n",
       "      <td>4</td>\n",
       "      <td>2011</td>\n",
       "      <td>0.179045</td>\n",
       "      <td>0.161231</td>\n",
       "      <td>0.180535</td>\n",
       "      <td>0.158660</td>\n",
       "      <td>0.160508</td>\n",
       "      <td>0.160021</td>\n",
       "    </tr>\n",
       "    <tr>\n",
       "      <td>5</td>\n",
       "      <td>2012</td>\n",
       "      <td>0.172386</td>\n",
       "      <td>0.165160</td>\n",
       "      <td>0.169157</td>\n",
       "      <td>0.162592</td>\n",
       "      <td>0.154873</td>\n",
       "      <td>0.175832</td>\n",
       "    </tr>\n",
       "    <tr>\n",
       "      <td>6</td>\n",
       "      <td>2013</td>\n",
       "      <td>0.143651</td>\n",
       "      <td>0.225149</td>\n",
       "      <td>0.241676</td>\n",
       "      <td>0.136594</td>\n",
       "      <td>0.079804</td>\n",
       "      <td>0.173127</td>\n",
       "    </tr>\n",
       "    <tr>\n",
       "      <td>7</td>\n",
       "      <td>2014</td>\n",
       "      <td>0.157876</td>\n",
       "      <td>0.184616</td>\n",
       "      <td>0.118935</td>\n",
       "      <td>0.117237</td>\n",
       "      <td>0.272629</td>\n",
       "      <td>0.148708</td>\n",
       "    </tr>\n",
       "    <tr>\n",
       "      <td>8</td>\n",
       "      <td>2015</td>\n",
       "      <td>0.171475</td>\n",
       "      <td>0.169445</td>\n",
       "      <td>0.159602</td>\n",
       "      <td>0.178830</td>\n",
       "      <td>0.168813</td>\n",
       "      <td>0.151835</td>\n",
       "    </tr>\n",
       "    <tr>\n",
       "      <td>9</td>\n",
       "      <td>2016</td>\n",
       "      <td>0.182159</td>\n",
       "      <td>0.123382</td>\n",
       "      <td>0.345793</td>\n",
       "      <td>0.124860</td>\n",
       "      <td>0.112382</td>\n",
       "      <td>0.111424</td>\n",
       "    </tr>\n",
       "    <tr>\n",
       "      <td>10</td>\n",
       "      <td>2017</td>\n",
       "      <td>0.194463</td>\n",
       "      <td>0.139138</td>\n",
       "      <td>0.146189</td>\n",
       "      <td>0.180150</td>\n",
       "      <td>0.188988</td>\n",
       "      <td>0.151073</td>\n",
       "    </tr>\n",
       "    <tr>\n",
       "      <td>11</td>\n",
       "      <td>2018</td>\n",
       "      <td>0.319011</td>\n",
       "      <td>0.112897</td>\n",
       "      <td>0.206651</td>\n",
       "      <td>0.132338</td>\n",
       "      <td>0.109330</td>\n",
       "      <td>0.119772</td>\n",
       "    </tr>\n",
       "    <tr>\n",
       "      <td>12</td>\n",
       "      <td>2020</td>\n",
       "      <td>0.181724</td>\n",
       "      <td>0.133956</td>\n",
       "      <td>0.166147</td>\n",
       "      <td>0.188993</td>\n",
       "      <td>0.151610</td>\n",
       "      <td>0.177570</td>\n",
       "    </tr>\n",
       "  </tbody>\n",
       "</table>\n",
       "</div>"
      ],
      "text/plain": [
       "    Year   Topic 1   Topic 2   Topic 3   Topic 4   Topic 5   Topic 6\n",
       "0   2007  0.153636  0.213452  0.164891  0.161851  0.145817  0.160353\n",
       "1   2008  0.156878  0.148218  0.176791  0.188157  0.172152  0.157803\n",
       "2   2009  0.168493  0.148230  0.170992  0.182302  0.177190  0.152794\n",
       "3   2010  0.168016  0.151169  0.171170  0.173452  0.171084  0.165110\n",
       "4   2011  0.179045  0.161231  0.180535  0.158660  0.160508  0.160021\n",
       "5   2012  0.172386  0.165160  0.169157  0.162592  0.154873  0.175832\n",
       "6   2013  0.143651  0.225149  0.241676  0.136594  0.079804  0.173127\n",
       "7   2014  0.157876  0.184616  0.118935  0.117237  0.272629  0.148708\n",
       "8   2015  0.171475  0.169445  0.159602  0.178830  0.168813  0.151835\n",
       "9   2016  0.182159  0.123382  0.345793  0.124860  0.112382  0.111424\n",
       "10  2017  0.194463  0.139138  0.146189  0.180150  0.188988  0.151073\n",
       "11  2018  0.319011  0.112897  0.206651  0.132338  0.109330  0.119772\n",
       "12  2020  0.181724  0.133956  0.166147  0.188993  0.151610  0.177570"
      ]
     },
     "execution_count": 29,
     "metadata": {},
     "output_type": "execute_result"
    }
   ],
   "source": [
    "df_weights_year=pd.read_csv(\"df_weights_year.csv\")\n",
    "df_weights_year"
   ]
  },
  {
   "cell_type": "code",
   "execution_count": 32,
   "metadata": {
    "ExecuteTime": {
     "end_time": "2020-08-20T08:25:07.762903Z",
     "start_time": "2020-08-20T08:25:07.744913Z"
    }
   },
   "outputs": [
    {
     "data": {
      "text/html": [
       "<div>\n",
       "<style scoped>\n",
       "    .dataframe tbody tr th:only-of-type {\n",
       "        vertical-align: middle;\n",
       "    }\n",
       "\n",
       "    .dataframe tbody tr th {\n",
       "        vertical-align: top;\n",
       "    }\n",
       "\n",
       "    .dataframe thead th {\n",
       "        text-align: right;\n",
       "    }\n",
       "</style>\n",
       "<table border=\"1\" class=\"dataframe\">\n",
       "  <thead>\n",
       "    <tr style=\"text-align: right;\">\n",
       "      <th></th>\n",
       "      <th>Topic 1</th>\n",
       "      <th>Topic 2</th>\n",
       "      <th>Topic 3</th>\n",
       "      <th>Topic 4</th>\n",
       "      <th>Topic 5</th>\n",
       "      <th>Topic 6</th>\n",
       "    </tr>\n",
       "    <tr>\n",
       "      <th>Year</th>\n",
       "      <th></th>\n",
       "      <th></th>\n",
       "      <th></th>\n",
       "      <th></th>\n",
       "      <th></th>\n",
       "      <th></th>\n",
       "    </tr>\n",
       "  </thead>\n",
       "  <tbody>\n",
       "    <tr>\n",
       "      <td>2007</td>\n",
       "      <td>0.153636</td>\n",
       "      <td>0.213452</td>\n",
       "      <td>0.164891</td>\n",
       "      <td>0.161851</td>\n",
       "      <td>0.145817</td>\n",
       "      <td>0.160353</td>\n",
       "    </tr>\n",
       "    <tr>\n",
       "      <td>2008</td>\n",
       "      <td>0.156878</td>\n",
       "      <td>0.148218</td>\n",
       "      <td>0.176791</td>\n",
       "      <td>0.188157</td>\n",
       "      <td>0.172152</td>\n",
       "      <td>0.157803</td>\n",
       "    </tr>\n",
       "    <tr>\n",
       "      <td>2009</td>\n",
       "      <td>0.168493</td>\n",
       "      <td>0.148230</td>\n",
       "      <td>0.170992</td>\n",
       "      <td>0.182302</td>\n",
       "      <td>0.177190</td>\n",
       "      <td>0.152794</td>\n",
       "    </tr>\n",
       "    <tr>\n",
       "      <td>2010</td>\n",
       "      <td>0.168016</td>\n",
       "      <td>0.151169</td>\n",
       "      <td>0.171170</td>\n",
       "      <td>0.173452</td>\n",
       "      <td>0.171084</td>\n",
       "      <td>0.165110</td>\n",
       "    </tr>\n",
       "    <tr>\n",
       "      <td>2011</td>\n",
       "      <td>0.179045</td>\n",
       "      <td>0.161231</td>\n",
       "      <td>0.180535</td>\n",
       "      <td>0.158660</td>\n",
       "      <td>0.160508</td>\n",
       "      <td>0.160021</td>\n",
       "    </tr>\n",
       "    <tr>\n",
       "      <td>2012</td>\n",
       "      <td>0.172386</td>\n",
       "      <td>0.165160</td>\n",
       "      <td>0.169157</td>\n",
       "      <td>0.162592</td>\n",
       "      <td>0.154873</td>\n",
       "      <td>0.175832</td>\n",
       "    </tr>\n",
       "    <tr>\n",
       "      <td>2013</td>\n",
       "      <td>0.143651</td>\n",
       "      <td>0.225149</td>\n",
       "      <td>0.241676</td>\n",
       "      <td>0.136594</td>\n",
       "      <td>0.079804</td>\n",
       "      <td>0.173127</td>\n",
       "    </tr>\n",
       "    <tr>\n",
       "      <td>2014</td>\n",
       "      <td>0.157876</td>\n",
       "      <td>0.184616</td>\n",
       "      <td>0.118935</td>\n",
       "      <td>0.117237</td>\n",
       "      <td>0.272629</td>\n",
       "      <td>0.148708</td>\n",
       "    </tr>\n",
       "    <tr>\n",
       "      <td>2015</td>\n",
       "      <td>0.171475</td>\n",
       "      <td>0.169445</td>\n",
       "      <td>0.159602</td>\n",
       "      <td>0.178830</td>\n",
       "      <td>0.168813</td>\n",
       "      <td>0.151835</td>\n",
       "    </tr>\n",
       "    <tr>\n",
       "      <td>2016</td>\n",
       "      <td>0.182159</td>\n",
       "      <td>0.123382</td>\n",
       "      <td>0.345793</td>\n",
       "      <td>0.124860</td>\n",
       "      <td>0.112382</td>\n",
       "      <td>0.111424</td>\n",
       "    </tr>\n",
       "    <tr>\n",
       "      <td>2017</td>\n",
       "      <td>0.194463</td>\n",
       "      <td>0.139138</td>\n",
       "      <td>0.146189</td>\n",
       "      <td>0.180150</td>\n",
       "      <td>0.188988</td>\n",
       "      <td>0.151073</td>\n",
       "    </tr>\n",
       "    <tr>\n",
       "      <td>2018</td>\n",
       "      <td>0.319011</td>\n",
       "      <td>0.112897</td>\n",
       "      <td>0.206651</td>\n",
       "      <td>0.132338</td>\n",
       "      <td>0.109330</td>\n",
       "      <td>0.119772</td>\n",
       "    </tr>\n",
       "    <tr>\n",
       "      <td>2020</td>\n",
       "      <td>0.181724</td>\n",
       "      <td>0.133956</td>\n",
       "      <td>0.166147</td>\n",
       "      <td>0.188993</td>\n",
       "      <td>0.151610</td>\n",
       "      <td>0.177570</td>\n",
       "    </tr>\n",
       "  </tbody>\n",
       "</table>\n",
       "</div>"
      ],
      "text/plain": [
       "       Topic 1   Topic 2   Topic 3   Topic 4   Topic 5   Topic 6\n",
       "Year                                                            \n",
       "2007  0.153636  0.213452  0.164891  0.161851  0.145817  0.160353\n",
       "2008  0.156878  0.148218  0.176791  0.188157  0.172152  0.157803\n",
       "2009  0.168493  0.148230  0.170992  0.182302  0.177190  0.152794\n",
       "2010  0.168016  0.151169  0.171170  0.173452  0.171084  0.165110\n",
       "2011  0.179045  0.161231  0.180535  0.158660  0.160508  0.160021\n",
       "2012  0.172386  0.165160  0.169157  0.162592  0.154873  0.175832\n",
       "2013  0.143651  0.225149  0.241676  0.136594  0.079804  0.173127\n",
       "2014  0.157876  0.184616  0.118935  0.117237  0.272629  0.148708\n",
       "2015  0.171475  0.169445  0.159602  0.178830  0.168813  0.151835\n",
       "2016  0.182159  0.123382  0.345793  0.124860  0.112382  0.111424\n",
       "2017  0.194463  0.139138  0.146189  0.180150  0.188988  0.151073\n",
       "2018  0.319011  0.112897  0.206651  0.132338  0.109330  0.119772\n",
       "2020  0.181724  0.133956  0.166147  0.188993  0.151610  0.177570"
      ]
     },
     "execution_count": 32,
     "metadata": {},
     "output_type": "execute_result"
    }
   ],
   "source": [
    "df_weights_year=df_weights_year.set_index(['Year'])\n",
    "df_weights_year"
   ]
  },
  {
   "cell_type": "code",
   "execution_count": 33,
   "metadata": {
    "ExecuteTime": {
     "end_time": "2020-08-20T08:25:26.716191Z",
     "start_time": "2020-08-20T08:25:26.690208Z"
    }
   },
   "outputs": [
    {
     "data": {
      "text/html": [
       "<div>\n",
       "<style scoped>\n",
       "    .dataframe tbody tr th:only-of-type {\n",
       "        vertical-align: middle;\n",
       "    }\n",
       "\n",
       "    .dataframe tbody tr th {\n",
       "        vertical-align: top;\n",
       "    }\n",
       "\n",
       "    .dataframe thead th {\n",
       "        text-align: right;\n",
       "    }\n",
       "</style>\n",
       "<table border=\"1\" class=\"dataframe\">\n",
       "  <thead>\n",
       "    <tr style=\"text-align: right;\">\n",
       "      <th></th>\n",
       "      <th>Topic 1</th>\n",
       "      <th>Topic 2</th>\n",
       "      <th>Topic 3</th>\n",
       "      <th>Topic 4</th>\n",
       "      <th>Topic 5</th>\n",
       "      <th>Topic 6</th>\n",
       "    </tr>\n",
       "    <tr>\n",
       "      <th>Year</th>\n",
       "      <th></th>\n",
       "      <th></th>\n",
       "      <th></th>\n",
       "      <th></th>\n",
       "      <th></th>\n",
       "      <th></th>\n",
       "    </tr>\n",
       "  </thead>\n",
       "  <tbody>\n",
       "    <tr>\n",
       "      <td>2007</td>\n",
       "      <td>15.36</td>\n",
       "      <td>21.35</td>\n",
       "      <td>16.49</td>\n",
       "      <td>16.19</td>\n",
       "      <td>14.58</td>\n",
       "      <td>16.04</td>\n",
       "    </tr>\n",
       "    <tr>\n",
       "      <td>2008</td>\n",
       "      <td>15.69</td>\n",
       "      <td>14.82</td>\n",
       "      <td>17.68</td>\n",
       "      <td>18.82</td>\n",
       "      <td>17.22</td>\n",
       "      <td>15.78</td>\n",
       "    </tr>\n",
       "    <tr>\n",
       "      <td>2009</td>\n",
       "      <td>16.85</td>\n",
       "      <td>14.82</td>\n",
       "      <td>17.10</td>\n",
       "      <td>18.23</td>\n",
       "      <td>17.72</td>\n",
       "      <td>15.28</td>\n",
       "    </tr>\n",
       "    <tr>\n",
       "      <td>2010</td>\n",
       "      <td>16.80</td>\n",
       "      <td>15.12</td>\n",
       "      <td>17.12</td>\n",
       "      <td>17.35</td>\n",
       "      <td>17.11</td>\n",
       "      <td>16.51</td>\n",
       "    </tr>\n",
       "    <tr>\n",
       "      <td>2011</td>\n",
       "      <td>17.90</td>\n",
       "      <td>16.12</td>\n",
       "      <td>18.05</td>\n",
       "      <td>15.87</td>\n",
       "      <td>16.05</td>\n",
       "      <td>16.00</td>\n",
       "    </tr>\n",
       "    <tr>\n",
       "      <td>2012</td>\n",
       "      <td>17.24</td>\n",
       "      <td>16.52</td>\n",
       "      <td>16.92</td>\n",
       "      <td>16.26</td>\n",
       "      <td>15.49</td>\n",
       "      <td>17.58</td>\n",
       "    </tr>\n",
       "    <tr>\n",
       "      <td>2013</td>\n",
       "      <td>14.37</td>\n",
       "      <td>22.51</td>\n",
       "      <td>24.17</td>\n",
       "      <td>13.66</td>\n",
       "      <td>7.98</td>\n",
       "      <td>17.31</td>\n",
       "    </tr>\n",
       "    <tr>\n",
       "      <td>2014</td>\n",
       "      <td>15.79</td>\n",
       "      <td>18.46</td>\n",
       "      <td>11.89</td>\n",
       "      <td>11.72</td>\n",
       "      <td>27.26</td>\n",
       "      <td>14.87</td>\n",
       "    </tr>\n",
       "    <tr>\n",
       "      <td>2015</td>\n",
       "      <td>17.15</td>\n",
       "      <td>16.94</td>\n",
       "      <td>15.96</td>\n",
       "      <td>17.88</td>\n",
       "      <td>16.88</td>\n",
       "      <td>15.18</td>\n",
       "    </tr>\n",
       "    <tr>\n",
       "      <td>2016</td>\n",
       "      <td>18.22</td>\n",
       "      <td>12.34</td>\n",
       "      <td>34.58</td>\n",
       "      <td>12.49</td>\n",
       "      <td>11.24</td>\n",
       "      <td>11.14</td>\n",
       "    </tr>\n",
       "    <tr>\n",
       "      <td>2017</td>\n",
       "      <td>19.45</td>\n",
       "      <td>13.91</td>\n",
       "      <td>14.62</td>\n",
       "      <td>18.02</td>\n",
       "      <td>18.90</td>\n",
       "      <td>15.11</td>\n",
       "    </tr>\n",
       "    <tr>\n",
       "      <td>2018</td>\n",
       "      <td>31.90</td>\n",
       "      <td>11.29</td>\n",
       "      <td>20.67</td>\n",
       "      <td>13.23</td>\n",
       "      <td>10.93</td>\n",
       "      <td>11.98</td>\n",
       "    </tr>\n",
       "    <tr>\n",
       "      <td>2020</td>\n",
       "      <td>18.17</td>\n",
       "      <td>13.40</td>\n",
       "      <td>16.61</td>\n",
       "      <td>18.90</td>\n",
       "      <td>15.16</td>\n",
       "      <td>17.76</td>\n",
       "    </tr>\n",
       "  </tbody>\n",
       "</table>\n",
       "</div>"
      ],
      "text/plain": [
       "      Topic 1  Topic 2  Topic 3  Topic 4  Topic 5  Topic 6\n",
       "Year                                                      \n",
       "2007    15.36    21.35    16.49    16.19    14.58    16.04\n",
       "2008    15.69    14.82    17.68    18.82    17.22    15.78\n",
       "2009    16.85    14.82    17.10    18.23    17.72    15.28\n",
       "2010    16.80    15.12    17.12    17.35    17.11    16.51\n",
       "2011    17.90    16.12    18.05    15.87    16.05    16.00\n",
       "2012    17.24    16.52    16.92    16.26    15.49    17.58\n",
       "2013    14.37    22.51    24.17    13.66     7.98    17.31\n",
       "2014    15.79    18.46    11.89    11.72    27.26    14.87\n",
       "2015    17.15    16.94    15.96    17.88    16.88    15.18\n",
       "2016    18.22    12.34    34.58    12.49    11.24    11.14\n",
       "2017    19.45    13.91    14.62    18.02    18.90    15.11\n",
       "2018    31.90    11.29    20.67    13.23    10.93    11.98\n",
       "2020    18.17    13.40    16.61    18.90    15.16    17.76"
      ]
     },
     "execution_count": 33,
     "metadata": {},
     "output_type": "execute_result"
    }
   ],
   "source": [
    "df_weights_year_plot=round(df_weights_year*100,2)\n",
    "df_weights_year_plot"
   ]
  },
  {
   "cell_type": "code",
   "execution_count": 56,
   "metadata": {
    "ExecuteTime": {
     "end_time": "2020-07-30T15:39:40.044150Z",
     "start_time": "2020-07-30T15:39:39.997179Z"
    }
   },
   "outputs": [
    {
     "data": {
      "text/html": [
       "<div>\n",
       "<style scoped>\n",
       "    .dataframe tbody tr th:only-of-type {\n",
       "        vertical-align: middle;\n",
       "    }\n",
       "\n",
       "    .dataframe tbody tr th {\n",
       "        vertical-align: top;\n",
       "    }\n",
       "\n",
       "    .dataframe thead th {\n",
       "        text-align: right;\n",
       "    }\n",
       "</style>\n",
       "<table border=\"1\" class=\"dataframe\">\n",
       "  <thead>\n",
       "    <tr style=\"text-align: right;\">\n",
       "      <th></th>\n",
       "      <th>Topic 1</th>\n",
       "      <th>Topic 2</th>\n",
       "      <th>Topic 3</th>\n",
       "      <th>Topic 4</th>\n",
       "      <th>Topic 5</th>\n",
       "      <th>Topic 6</th>\n",
       "    </tr>\n",
       "    <tr>\n",
       "      <th>Year</th>\n",
       "      <th></th>\n",
       "      <th></th>\n",
       "      <th></th>\n",
       "      <th></th>\n",
       "      <th></th>\n",
       "      <th></th>\n",
       "    </tr>\n",
       "  </thead>\n",
       "  <tbody>\n",
       "    <tr>\n",
       "      <td>2007</td>\n",
       "      <td>15.36</td>\n",
       "      <td>21.35</td>\n",
       "      <td>16.49</td>\n",
       "      <td>16.19</td>\n",
       "      <td>14.58</td>\n",
       "      <td>16.04</td>\n",
       "    </tr>\n",
       "    <tr>\n",
       "      <td>2008</td>\n",
       "      <td>15.69</td>\n",
       "      <td>14.82</td>\n",
       "      <td>17.68</td>\n",
       "      <td>18.82</td>\n",
       "      <td>17.22</td>\n",
       "      <td>15.78</td>\n",
       "    </tr>\n",
       "    <tr>\n",
       "      <td>2009</td>\n",
       "      <td>16.85</td>\n",
       "      <td>14.82</td>\n",
       "      <td>17.10</td>\n",
       "      <td>18.23</td>\n",
       "      <td>17.72</td>\n",
       "      <td>15.28</td>\n",
       "    </tr>\n",
       "    <tr>\n",
       "      <td>2010</td>\n",
       "      <td>16.80</td>\n",
       "      <td>15.12</td>\n",
       "      <td>17.12</td>\n",
       "      <td>17.35</td>\n",
       "      <td>17.11</td>\n",
       "      <td>16.51</td>\n",
       "    </tr>\n",
       "    <tr>\n",
       "      <td>2011</td>\n",
       "      <td>17.90</td>\n",
       "      <td>16.12</td>\n",
       "      <td>18.05</td>\n",
       "      <td>15.87</td>\n",
       "      <td>16.05</td>\n",
       "      <td>16.00</td>\n",
       "    </tr>\n",
       "    <tr>\n",
       "      <td>2012</td>\n",
       "      <td>17.24</td>\n",
       "      <td>16.52</td>\n",
       "      <td>16.92</td>\n",
       "      <td>16.26</td>\n",
       "      <td>15.49</td>\n",
       "      <td>17.58</td>\n",
       "    </tr>\n",
       "    <tr>\n",
       "      <td>2013</td>\n",
       "      <td>14.37</td>\n",
       "      <td>22.51</td>\n",
       "      <td>24.17</td>\n",
       "      <td>13.66</td>\n",
       "      <td>7.98</td>\n",
       "      <td>17.31</td>\n",
       "    </tr>\n",
       "    <tr>\n",
       "      <td>2014</td>\n",
       "      <td>15.79</td>\n",
       "      <td>18.46</td>\n",
       "      <td>11.89</td>\n",
       "      <td>11.72</td>\n",
       "      <td>27.26</td>\n",
       "      <td>14.87</td>\n",
       "    </tr>\n",
       "    <tr>\n",
       "      <td>2015</td>\n",
       "      <td>17.15</td>\n",
       "      <td>16.94</td>\n",
       "      <td>15.96</td>\n",
       "      <td>17.88</td>\n",
       "      <td>16.88</td>\n",
       "      <td>15.18</td>\n",
       "    </tr>\n",
       "    <tr>\n",
       "      <td>2016</td>\n",
       "      <td>18.22</td>\n",
       "      <td>12.34</td>\n",
       "      <td>34.58</td>\n",
       "      <td>12.49</td>\n",
       "      <td>11.24</td>\n",
       "      <td>11.14</td>\n",
       "    </tr>\n",
       "    <tr>\n",
       "      <td>2017</td>\n",
       "      <td>19.45</td>\n",
       "      <td>13.91</td>\n",
       "      <td>14.62</td>\n",
       "      <td>18.02</td>\n",
       "      <td>18.90</td>\n",
       "      <td>15.11</td>\n",
       "    </tr>\n",
       "    <tr>\n",
       "      <td>2018</td>\n",
       "      <td>31.90</td>\n",
       "      <td>11.29</td>\n",
       "      <td>20.67</td>\n",
       "      <td>13.23</td>\n",
       "      <td>10.93</td>\n",
       "      <td>11.98</td>\n",
       "    </tr>\n",
       "    <tr>\n",
       "      <td>2020</td>\n",
       "      <td>18.17</td>\n",
       "      <td>13.40</td>\n",
       "      <td>16.61</td>\n",
       "      <td>18.90</td>\n",
       "      <td>15.16</td>\n",
       "      <td>17.76</td>\n",
       "    </tr>\n",
       "  </tbody>\n",
       "</table>\n",
       "</div>"
      ],
      "text/plain": [
       "      Topic 1  Topic 2  Topic 3  Topic 4  Topic 5  Topic 6\n",
       "Year                                                      \n",
       "2007  15.36    21.35    16.49    16.19    14.58    16.04  \n",
       "2008  15.69    14.82    17.68    18.82    17.22    15.78  \n",
       "2009  16.85    14.82    17.10    18.23    17.72    15.28  \n",
       "2010  16.80    15.12    17.12    17.35    17.11    16.51  \n",
       "2011  17.90    16.12    18.05    15.87    16.05    16.00  \n",
       "2012  17.24    16.52    16.92    16.26    15.49    17.58  \n",
       "2013  14.37    22.51    24.17    13.66    7.98     17.31  \n",
       "2014  15.79    18.46    11.89    11.72    27.26    14.87  \n",
       "2015  17.15    16.94    15.96    17.88    16.88    15.18  \n",
       "2016  18.22    12.34    34.58    12.49    11.24    11.14  \n",
       "2017  19.45    13.91    14.62    18.02    18.90    15.11  \n",
       "2018  31.90    11.29    20.67    13.23    10.93    11.98  \n",
       "2020  18.17    13.40    16.61    18.90    15.16    17.76  "
      ]
     },
     "execution_count": 56,
     "metadata": {},
     "output_type": "execute_result"
    }
   ],
   "source": [
    "df_weights_year_plot=round(df_weights_year*100,2)\n",
    "df_weights_year_plot"
   ]
  },
  {
   "cell_type": "code",
   "execution_count": 53,
   "metadata": {
    "ExecuteTime": {
     "end_time": "2020-08-20T08:41:52.862616Z",
     "start_time": "2020-08-20T08:41:52.547795Z"
    }
   },
   "outputs": [
    {
     "data": {
      "image/png": "[encoded data removed]",
      "text/plain": [
       "<Figure size 864x360 with 1 Axes>"
      ]
     },
     "metadata": {
      "needs_background": "light"
     },
     "output_type": "display_data"
    }
   ],
   "source": [
    "labels = [i+1 for i in range(6)]\n",
    "y2015 = df_weights_year_plot.loc[2015].values\n",
    "y2016 = df_weights_year_plot.loc[2016].values\n",
    "y2017 = df_weights_year_plot.loc[2017].values\n",
    "y2018 = df_weights_year_plot.loc[2018].values\n",
    "y2019 = [0,0,0,0,0,0]\n",
    "y2020 = df_weights_year_plot.loc[2020].values\n",
    "\n",
    "x = np.arange(len(labels))  # the label locations\n",
    "width = 0.15  # the width of the bars\n",
    "\n",
    "fig=plt.figure(figsize=(12,5))\n",
    "\n",
    "ax = fig.add_subplot(1, 1, 1)\n",
    "rects1 = ax.bar(x - 0.375, y2015, width, label='2015',color=plt.cm.get_cmap('Paired')(0))\n",
    "rects2 = ax.bar(x - 0.225, y2016, width, label='2016',color=plt.cm.get_cmap('Paired')(1))\n",
    "rects3 = ax.bar(x-0.075, y2017, width, label='2017',color=plt.cm.get_cmap('Paired')(2))\n",
    "rects4 = ax.bar(x + 0.075, y2018, width, label='2018',alpha=0.7,color=plt.cm.get_cmap('Paired')(3))\n",
    "rects5 = ax.bar(x + 0.2,y2019, width, label='2019',color=plt.cm.get_cmap('Pastel1')(8))\n",
    "rects6 = ax.bar(x + 0.225, y2020, width, label='2020',alpha=0.7,color=plt.cm.get_cmap('Paired')(5))\n",
    "\n",
    "\n",
    "\n",
    "# Add some text for labels, title and custom x-axis tick labels, etc.\n",
    "#ax.set_ylabel('Average Weights of Topics(%)')\n",
    "ax.set_title(\"Topic Importance by Year (%)\", \n",
    "              fontsize=15)\n",
    "ax.set_xticks(x)\n",
    "ax.set_xticklabels(labels)\n",
    "ax.set_xlabel('Topic',size=12)\n",
    "ax.legend()\n",
    "\n",
    "\n",
    "def autolabel(rects):\n",
    "    \"\"\"Attach a text label above each bar in *rects*, displaying its height.\"\"\"\n",
    "    for rect in rects:\n",
    "        height = rect.get_height()\n",
    "        ax.annotate('{}'.format(height),\n",
    "                    xy=(rect.get_x() + rect.get_width() / 6, height),\n",
    "                    xytext=(6, 2),  # 3 points vertical offset\n",
    "                    fontsize=10, color='black',\n",
    "                    textcoords=\"offset points\",\n",
    "                    ha='center', va='bottom')\n",
    "\n",
    "\n",
    "#autolabel(rects1)\n",
    "#autolabel(rects2)\n",
    "#autolabel(rects3)\n",
    "#autolabel(rects4)\n",
    "#autolabel(rects6)\n",
    "\n",
    "fig.tight_layout()\n",
    "\n",
    "plt.show()\n",
    "\n",
    "#fig.savefig(\"Frequency.png\", format = 'png' )"
   ]
  },
  {
   "cell_type": "code",
   "execution_count": 55,
   "metadata": {
    "ExecuteTime": {
     "end_time": "2020-08-20T08:42:07.148495Z",
     "start_time": "2020-08-20T08:42:06.907596Z"
    }
   },
   "outputs": [],
   "source": [
    "fig.savefig('yearly_topic_contribution125.pdf',\n",
    "            transparent=True,\n",
    "            bbox_inches='tight',\n",
    "            pad_inches=0 )"
   ]
  },
  {
   "cell_type": "code",
   "execution_count": null,
   "metadata": {},
   "outputs": [],
   "source": []
  }
 ],
 "metadata": {
  "kernelspec": {
   "display_name": "Python 3",
   "language": "python",
   "name": "python3"
  },
  "language_info": {
   "codemirror_mode": {
    "name": "ipython",
    "version": 3
   },
   "file_extension": ".py",
   "mimetype": "text/x-python",
   "name": "python",
   "nbconvert_exporter": "python",
   "pygments_lexer": "ipython3",
   "version": "3.7.4"
  },
  "toc": {
   "base_numbering": 1,
   "nav_menu": {},
   "number_sections": true,
   "sideBar": true,
   "skip_h1_title": false,
   "title_cell": "Table of Contents",
   "title_sidebar": "Contents",
   "toc_cell": false,
   "toc_position": {},
   "toc_section_display": true,
   "toc_window_display": false
  },
  "varInspector": {
   "cols": {
    "lenName": 16,
    "lenType": 16,
    "lenVar": 40
   },
   "kernels_config": {
    "python": {
     "delete_cmd_postfix": "",
     "delete_cmd_prefix": "del ",
     "library": "var_list.py",
     "varRefreshCmd": "print(var_dic_list())"
    },
    "r": {
     "delete_cmd_postfix": ") ",
     "delete_cmd_prefix": "rm(",
     "library": "var_list.r",
     "varRefreshCmd": "cat(var_dic_list()) "
    }
   },
   "position": {
    "height": "404.667px",
    "left": "993.333px",
    "right": "20px",
    "top": "120px",
    "width": "266.667px"
   },
   "types_to_exclude": [
    "module",
    "function",
    "builtin_function_or_method",
    "instance",
    "_Feature"
   ],
   "window_display": false
  }
 },
 "nbformat": 4,
 "nbformat_minor": 2
}
