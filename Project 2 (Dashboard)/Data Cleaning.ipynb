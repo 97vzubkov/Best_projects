{
 "cells": [
  {
   "cell_type": "code",
   "execution_count": 1,
   "metadata": {},
   "outputs": [],
   "source": [
    "import os\n",
    "import pandas as pd\n",
    "import random"
   ]
  },
  {
   "cell_type": "code",
   "execution_count": 2,
   "metadata": {},
   "outputs": [],
   "source": [
    "directory = 'Data'\n",
    "BaseComp = pd.read_csv('Data/fhv_companies.csv', sep=';')"
   ]
  },
  {
   "cell_type": "code",
   "execution_count": 3,
   "metadata": {},
   "outputs": [],
   "source": [
    "def year_moth(df,year,month):\n",
    "    df['Pickup_DateTime'] = pd.to_datetime(df['Pickup_DateTime']) \n",
    "    df['year'] = df['Pickup_DateTime'].dt.year\n",
    "    df['month'] = df['Pickup_DateTime'].dt.month\n",
    "    df = df.loc[(df['year'] == year) & (df['month'] == month),:]\n",
    "    return df"
   ]
  },
  {
   "cell_type": "code",
   "execution_count": 4,
   "metadata": {},
   "outputs": [],
   "source": [
    "def cleansing(fullname, filename, year, month):\n",
    "    result_file = fullname.split('.')[0]+'_test'+'.'+fullname.split('.')[1]\n",
    "    full_path = os.path.join(directory, fullname)\n",
    "    df = pd.read_csv(\n",
    "         full_path,\n",
    "         header=0\n",
    "    )\n",
    "    if(filename == 'yellow'):\n",
    "        df.rename(columns={\"tpep_pickup_datetime\": \"Pickup_DateTime\", \"tpep_dropoff_datetime\": \"DropOff_datetime\"},inplace = True)\n",
    "        columnNames = list(df.columns)\n",
    "        neededColumns = ['Pickup_DateTime','DropOff_datetime','PULocationID','DOLocationID']\n",
    "        uselessColumns = [name for name in columnNames if name not in neededColumns]\n",
    "        df.drop(uselessColumns, axis=1, inplace = True)\n",
    "        df = year_moth(df,year,month)\n",
    "        df.loc[:,'company_name'] = 'YT'\n",
    "    else:\n",
    "        columnNames = list(df.columns)\n",
    "        if ('Dispatching_base_number' not in columnNames):\n",
    "            df.rename(columns={'Dispatching_base_num': 'Dispatching_base_number'}, inplace = True)\n",
    "        else:\n",
    "            df.drop(['Dispatching_base_num'], axis=1, inplace = True)\n",
    "        df = pd.merge(df, BaseComp, on='Dispatching_base_number')\n",
    "        df.rename(columns={'Company name': 'company_name'}, inplace=True)\n",
    "        df = df.loc[df['company_name'] == 'Uber']\n",
    "        df = df.drop(columns=[\"Dispatching_base_number\", \"SR_Flag\"])\n",
    "        df = df.dropna()\n",
    "        df = year_moth(df,year,month)\n",
    "        df.rename(columns={\"PUlocationID\": \"PULocationID\", \"DOlocationID\": \"DOLocationID\"},inplace = True)\n",
    "    df.to_csv(full_path, index = False)"
   ]
  },
  {
   "cell_type": "code",
   "execution_count": 5,
   "metadata": {},
   "outputs": [],
   "source": [
    "for filename in os.listdir(directory):\n",
    "    if('tripdata' in filename):\n",
    "        file_parts = filename.split('_')\n",
    "        year = int(file_parts[len(file_parts)-1].split('.')[0].split('-')[0])\n",
    "        month = int(file_parts[len(file_parts)-1].split('.')[0].split('-')[1])\n",
    "        cleansing(filename,file_parts[0],year,month)"
   ]
  },
  {
   "cell_type": "code",
   "execution_count": null,
   "metadata": {},
   "outputs": [],
   "source": []
  }
 ],
 "metadata": {
  "kernelspec": {
   "display_name": "Python 3",
   "language": "python",
   "name": "python3"
  },
  "language_info": {
   "codemirror_mode": {
    "name": "ipython",
    "version": 3
   },
   "file_extension": ".py",
   "mimetype": "text/x-python",
   "name": "python",
   "nbconvert_exporter": "python",
   "pygments_lexer": "ipython3",
   "version": "3.7.3"
  }
 },
 "nbformat": 4,
 "nbformat_minor": 2
}
